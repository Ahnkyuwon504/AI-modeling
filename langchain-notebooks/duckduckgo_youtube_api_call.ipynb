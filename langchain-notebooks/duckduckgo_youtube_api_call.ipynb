{
  "nbformat": 4,
  "nbformat_minor": 0,
  "metadata": {
    "colab": {
      "provenance": [],
      "gpuType": "T4",
      "authorship_tag": "ABX9TyM33B0l2P6VF1Ee9R51is0D",
      "include_colab_link": true
    },
    "kernelspec": {
      "name": "python3",
      "display_name": "Python 3"
    },
    "language_info": {
      "name": "python"
    },
    "accelerator": "GPU"
  },
  "cells": [
    {
      "cell_type": "markdown",
      "metadata": {
        "id": "view-in-github",
        "colab_type": "text"
      },
      "source": [
        "<a href=\"https://colab.research.google.com/github/Ahnkyuwon504/AI-modeling/blob/main/langchain-notebooks/duckduckgo_youtube_api_call.ipynb\" target=\"_parent\"><img src=\"https://colab.research.google.com/assets/colab-badge.svg\" alt=\"Open In Colab\"/></a>"
      ]
    },
    {
      "cell_type": "code",
      "execution_count": 10,
      "metadata": {
        "id": "7a9YH9VZ3CeH",
        "colab": {
          "base_uri": "https://localhost:8080/"
        },
        "outputId": "cbc1b6a2-050a-4c65-a0ae-4c76b89404b3"
      },
      "outputs": [
        {
          "output_type": "stream",
          "name": "stdout",
          "text": [
            "\u001b[?25l   \u001b[90m━━━━━━━━━━━━━━━━━━━━━━━━━━━━━━━━━━━━━━━━\u001b[0m \u001b[32m0.0/47.1 kB\u001b[0m \u001b[31m?\u001b[0m eta \u001b[36m-:--:--\u001b[0m\r\u001b[2K   \u001b[90m━━━━━━━━━━━━━━━━━━━━━━━━━━━━━━━━━━━━━━━━\u001b[0m \u001b[32m47.1/47.1 kB\u001b[0m \u001b[31m3.8 MB/s\u001b[0m eta \u001b[36m0:00:00\u001b[0m\n",
            "\u001b[?25h\u001b[?25l   \u001b[90m━━━━━━━━━━━━━━━━━━━━━━━━━━━━━━━━━━━━━━━━\u001b[0m \u001b[32m0.0/1.1 MB\u001b[0m \u001b[31m?\u001b[0m eta \u001b[36m-:--:--\u001b[0m\r\u001b[2K   \u001b[90m━━━━━━━━━━━━━━━━━━━━━━━━━━━━━━━━━━━━━━━━\u001b[0m \u001b[32m1.1/1.1 MB\u001b[0m \u001b[31m50.2 MB/s\u001b[0m eta \u001b[36m0:00:00\u001b[0m\n",
            "\u001b[?25h"
          ]
        }
      ],
      "source": [
        "!pip install -q openai langchain wikipedia langchain_community langchain_openai"
      ]
    },
    {
      "cell_type": "code",
      "source": [
        "from openai import OpenAI\n",
        "from google.colab import userdata\n",
        "\n",
        "OPENAI_API_KEY = userdata.get('OPENAI_API_KEY')"
      ],
      "metadata": {
        "id": "m_56Uz4n3Mil"
      },
      "execution_count": 3,
      "outputs": []
    },
    {
      "cell_type": "code",
      "source": [
        "from langchain.llms import OpenAI\n",
        "\n",
        "llm = OpenAI(api_key=OPENAI_API_KEY)\n",
        "response = llm.generate([\"농담 하나 해 주세요.\"])"
      ],
      "metadata": {
        "id": "B8T5FPemFbxT"
      },
      "execution_count": 7,
      "outputs": []
    },
    {
      "cell_type": "code",
      "source": [
        "print(response)"
      ],
      "metadata": {
        "colab": {
          "base_uri": "https://localhost:8080/"
        },
        "id": "u7fNule4FfX5",
        "outputId": "067cb728-9141-4342-cd32-c7555861271e"
      },
      "execution_count": 9,
      "outputs": [
        {
          "output_type": "stream",
          "name": "stdout",
          "text": [
            "generations=[[Generation(text='\\n왜 고양이가 말을 못해요? 키보드를 못 타니까요!', generation_info={'finish_reason': 'stop', 'logprobs': None})]] llm_output={'token_usage': {'completion_tokens': 31, 'total_tokens': 42, 'prompt_tokens': 11}, 'model_name': 'gpt-3.5-turbo-instruct'} run=[RunInfo(run_id=UUID('b6e2e4e1-ae82-4425-9a2a-5fa961198979'))]\n"
          ]
        }
      ]
    },
    {
      "cell_type": "code",
      "source": [
        "from langchain_openai import ChatOpenAI\n",
        "\n",
        "llm = ChatOpenAI(model_name=\"gpt-4\", api_key=OPENAI_API_KEY)\n",
        "response = llm.generate([\"농담 하나 해 주세요.\"])"
      ],
      "metadata": {
        "id": "6zhJd5HJFfcr"
      },
      "execution_count": 11,
      "outputs": []
    },
    {
      "cell_type": "code",
      "source": [
        "print(response)"
      ],
      "metadata": {
        "colab": {
          "base_uri": "https://localhost:8080/"
        },
        "id": "S0ntpXV8Ffh6",
        "outputId": "4614a4b6-9fc8-4f0d-e70c-f45d1e439e3f"
      },
      "execution_count": 12,
      "outputs": [
        {
          "output_type": "stream",
          "name": "stdout",
          "text": [
            "generations=[[ChatGeneration(text='왜 바나나가 보트를 타고 갔을까요?\\n\\n평범하게 걸으면 너무 미끄러워서요!', generation_info={'finish_reason': 'stop', 'logprobs': None}, message=AIMessage(content='왜 바나나가 보트를 타고 갔을까요?\\n\\n평범하게 걸으면 너무 미끄러워서요!', response_metadata={'token_usage': {'completion_tokens': 45, 'prompt_tokens': 18, 'total_tokens': 63}, 'model_name': 'gpt-4-0613', 'system_fingerprint': None, 'finish_reason': 'stop', 'logprobs': None}, id='run-f17db0dd-c701-47de-8ec2-0155310bcdef-0', usage_metadata={'input_tokens': 18, 'output_tokens': 45, 'total_tokens': 63}))]] llm_output={'token_usage': {'completion_tokens': 45, 'prompt_tokens': 18, 'total_tokens': 63}, 'model_name': 'gpt-4'} run=[RunInfo(run_id=UUID('f17db0dd-c701-47de-8ec2-0155310bcdef'))]\n"
          ]
        }
      ]
    },
    {
      "cell_type": "code",
      "source": [
        "!pip install -q duckduckgo-search"
      ],
      "metadata": {
        "colab": {
          "base_uri": "https://localhost:8080/"
        },
        "id": "uQtCSMLnFfnj",
        "outputId": "7b423257-137f-4b90-a8c0-f0d94cec302d"
      },
      "execution_count": 17,
      "outputs": [
        {
          "output_type": "stream",
          "name": "stdout",
          "text": [
            "\u001b[?25l   \u001b[90m━━━━━━━━━━━━━━━━━━━━━━━━━━━━━━━━━━━━━━━━\u001b[0m \u001b[32m0.0/3.0 MB\u001b[0m \u001b[31m?\u001b[0m eta \u001b[36m-:--:--\u001b[0m\r\u001b[2K   \u001b[91m━━━━━━━━━━━━━━━━━━━━━━━━━━━━━━━━━━━━━━━\u001b[0m\u001b[91m╸\u001b[0m \u001b[32m3.0/3.0 MB\u001b[0m \u001b[31m186.4 MB/s\u001b[0m eta \u001b[36m0:00:01\u001b[0m\r\u001b[2K   \u001b[90m━━━━━━━━━━━━━━━━━━━━━━━━━━━━━━━━━━━━━━━━\u001b[0m \u001b[32m3.0/3.0 MB\u001b[0m \u001b[31m84.1 MB/s\u001b[0m eta \u001b[36m0:00:00\u001b[0m\n",
            "\u001b[?25h"
          ]
        }
      ]
    },
    {
      "cell_type": "code",
      "source": [
        "from langchain_community.tools import DuckDuckGoSearchRun\n",
        "search = DuckDuckGoSearchRun()\n",
        "search.run(\"Obama's first name?\")"
      ],
      "metadata": {
        "colab": {
          "base_uri": "https://localhost:8080/",
          "height": 181
        },
        "id": "Xic0ISRcHD2G",
        "outputId": "74b4b446-1d57-43c6-b7e3-cdb36d83870d"
      },
      "execution_count": 22,
      "outputs": [
        {
          "output_type": "execute_result",
          "data": {
            "text/plain": [
              "\"Obama's father, Barack Obama, Sr., was a teenage goatherd in rural Kenya, won a scholarship to study in the United States, and eventually became a senior economist in the Kenyan government.Obama's mother, S. Ann Dunham, grew up in Kansas, Texas, and Washington state before her family settled in Honolulu.In 1960 she and Barack Sr. met in a Russian language class at the University of Hawaii ... The White House, official residence of the president of the United States, in July 2008. The president of the United States is the head of state and head of government of the United States, indirectly elected to a four-year term via the Electoral College. The officeholder leads the executive branch of the federal government and is the commander-in-chief of the United States Armed Forces. As the head of the government of the United States, the president is arguably the most powerful government official in the world. The president is elected to a four-year term via an electoral college system. Since the Twenty-second Amendment was adopted in 1951, the American presidency has been Barack Hussein Obama II (/ b ə ˈ r ɑː k h uː ˈ s eɪ n oʊ ˈ b ɑː m ə / (); born August 4, 1961) is an American politician and attorney. He was the 44th president of the United States from 2009 to 2017. He was the first African-American president in U.S. history. A member of the Democratic Party, he also served as member of the Illinois Senate from 1997 to 2004 and a United States ... James. James is the most popular name. That was the first name of six presidents. James Madison, 1809-1817; James Monroe, 1817-1825; James Polk, 1845-1849\""
            ],
            "application/vnd.google.colaboratory.intrinsic+json": {
              "type": "string"
            }
          },
          "metadata": {},
          "execution_count": 22
        }
      ]
    },
    {
      "cell_type": "code",
      "source": [
        "!pip install -q youtube-search"
      ],
      "metadata": {
        "id": "rAuZUH-9IFRL"
      },
      "execution_count": 23,
      "outputs": []
    },
    {
      "cell_type": "code",
      "source": [
        "from langchain_community.tools import YouTubeSearchTool\n",
        "search = YouTubeSearchTool()\n",
        "search.run(\"오늘의 날씨\")"
      ],
      "metadata": {
        "colab": {
          "base_uri": "https://localhost:8080/",
          "height": 54
        },
        "id": "bXxXyrq7IFqV",
        "outputId": "391ad56b-6ab0-4a68-87b4-828cc88bb219"
      },
      "execution_count": 29,
      "outputs": [
        {
          "output_type": "execute_result",
          "data": {
            "text/plain": [
              "\"['https://www.youtube.com/watch?v=1d0u0R2xrj0&pp=ygUQ7Jik64qY7J2YIOuCoOyUqA%3D%3D', 'https://www.youtube.com/watch?v=lGLkUTTR9Pw&pp=ygUQ7Jik64qY7J2YIOuCoOyUqA%3D%3D']\""
            ],
            "application/vnd.google.colaboratory.intrinsic+json": {
              "type": "string"
            }
          },
          "metadata": {},
          "execution_count": 29
        }
      ]
    },
    {
      "cell_type": "code",
      "source": [
        "!pip install -q youtube-transcript-api pytube faiss-cpu tiktoken"
      ],
      "metadata": {
        "colab": {
          "base_uri": "https://localhost:8080/"
        },
        "id": "rJuQi0aBIFxy",
        "outputId": "d8813cc5-948b-4612-f6b7-6b4f69220e65"
      },
      "execution_count": 30,
      "outputs": [
        {
          "output_type": "stream",
          "name": "stdout",
          "text": [
            "\u001b[2K   \u001b[90m━━━━━━━━━━━━━━━━━━━━━━━━━━━━━━━━━━━━━━━━\u001b[0m \u001b[32m57.6/57.6 kB\u001b[0m \u001b[31m5.3 MB/s\u001b[0m eta \u001b[36m0:00:00\u001b[0m\n",
            "\u001b[2K   \u001b[90m━━━━━━━━━━━━━━━━━━━━━━━━━━━━━━━━━━━━━━━━\u001b[0m \u001b[32m27.0/27.0 MB\u001b[0m \u001b[31m68.7 MB/s\u001b[0m eta \u001b[36m0:00:00\u001b[0m\n",
            "\u001b[?25h"
          ]
        }
      ]
    },
    {
      "cell_type": "code",
      "source": [
        "from langchain.document_loaders import YoutubeLoader\n",
        "from langchain.embeddings import OpenAIEmbeddings\n",
        "from langchain.vectorstores import FAISS\n",
        "from langchain.chains import RetrievalQA\n",
        "from langchain_openai import ChatOpenAI\n",
        "from pprint import pprint\n",
        "\n",
        "def ask_youtube(url, q, language='ko'):\n",
        "  loader = YoutubeLoader.from_youtube_url(url, language='ko')\n",
        "  documents = loader.load()\n",
        "\n",
        "  embeddings = OpenAIEmbeddings(api_key=OPENAI_API_KEY)\n",
        "  db = FAISS.from_documents(documents, embeddings)\n",
        "  retriever = db.as_retriever()\n",
        "\n",
        "  llm = ChatOpenAI(model_name=\"gpt-4\", api_key=OPENAI_API_KEY)\n",
        "\n",
        "  qa = RetrievalQA.from_chain_type(\n",
        "      llm=llm,\n",
        "      # chain_type=\"stuff\",\n",
        "      retriever=retriever)\n",
        "\n",
        "  return qa({\"query\": q})"
      ],
      "metadata": {
        "id": "5iPKzjftJcXc"
      },
      "execution_count": 37,
      "outputs": []
    },
    {
      "cell_type": "code",
      "source": [
        "url = \"https://www.youtube.com/watch?v=lvU-9qQhEnQ\"\n",
        "query = \"조이보이가 뭐야?\"\n",
        "\n",
        "pprint(ask_youtube(url, query))"
      ],
      "metadata": {
        "colab": {
          "base_uri": "https://localhost:8080/"
        },
        "id": "DypE6CUzJcZ6",
        "outputId": "5c8eea8c-1b22-4e68-b8be-c491fe97eaae"
      },
      "execution_count": 38,
      "outputs": [
        {
          "output_type": "stream",
          "name": "stdout",
          "text": [
            "{'query': '조이보이가 뭐야?',\n",
            " 'result': '조이보이는 원피스 만화에서 등장하는 미스터리한 인물로, 800년 전의 공백기간 동안 활동했다고 알려져 있습니다. 그는 '\n",
            "           '20인의 왕들, 즉 세계 정부에 맞서 싸운 사람이었으며, 그의 이야기는 그 이후로 세계에서 잊혀진 채로 전해져 '\n",
            "           '왔습니다. 그러나 그의 존재는 푸딩이 소유한 로드 폰 글리프에 기록되어 있었고, 이를 통해 그의 존재가 밝혀졌습니다. '\n",
            "           '그의 정확한 신분이나 역할은 아직 밝혀지지 않았습니다.'}\n"
          ]
        }
      ]
    }
  ]
}