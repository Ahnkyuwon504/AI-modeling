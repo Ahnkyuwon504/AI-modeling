{
  "nbformat": 4,
  "nbformat_minor": 0,
  "metadata": {
    "colab": {
      "provenance": [],
      "gpuType": "T4",
      "authorship_tag": "ABX9TyOyT3Y1Nc0LJGIZwJ7kxHoy",
      "include_colab_link": true
    },
    "kernelspec": {
      "name": "python3",
      "display_name": "Python 3"
    },
    "language_info": {
      "name": "python"
    },
    "accelerator": "GPU"
  },
  "cells": [
    {
      "cell_type": "markdown",
      "metadata": {
        "id": "view-in-github",
        "colab_type": "text"
      },
      "source": [
        "<a href=\"https://colab.research.google.com/github/Ahnkyuwon504/AI-modeling/blob/main/langchain-notebooks/function_calling.ipynb\" target=\"_parent\"><img src=\"https://colab.research.google.com/assets/colab-badge.svg\" alt=\"Open In Colab\"/></a>"
      ]
    },
    {
      "cell_type": "code",
      "execution_count": 1,
      "metadata": {
        "id": "7a9YH9VZ3CeH",
        "colab": {
          "base_uri": "https://localhost:8080/"
        },
        "outputId": "c1945568-50c2-4654-c8d0-97df9ed1ba01"
      },
      "outputs": [
        {
          "output_type": "stream",
          "name": "stdout",
          "text": [
            "\u001b[2K   \u001b[90m━━━━━━━━━━━━━━━━━━━━━━━━━━━━━━━━━━━━━━━━\u001b[0m \u001b[32m337.0/337.0 kB\u001b[0m \u001b[31m6.1 MB/s\u001b[0m eta \u001b[36m0:00:00\u001b[0m\n",
            "\u001b[2K   \u001b[90m━━━━━━━━━━━━━━━━━━━━━━━━━━━━━━━━━━━━━━━━\u001b[0m \u001b[32m75.6/75.6 kB\u001b[0m \u001b[31m3.5 MB/s\u001b[0m eta \u001b[36m0:00:00\u001b[0m\n",
            "\u001b[2K   \u001b[90m━━━━━━━━━━━━━━━━━━━━━━━━━━━━━━━━━━━━━━━━\u001b[0m \u001b[32m77.9/77.9 kB\u001b[0m \u001b[31m3.4 MB/s\u001b[0m eta \u001b[36m0:00:00\u001b[0m\n",
            "\u001b[2K   \u001b[90m━━━━━━━━━━━━━━━━━━━━━━━━━━━━━━━━━━━━━━━━\u001b[0m \u001b[32m58.3/58.3 kB\u001b[0m \u001b[31m1.8 MB/s\u001b[0m eta \u001b[36m0:00:00\u001b[0m\n",
            "\u001b[?25h"
          ]
        }
      ],
      "source": [
        "!pip install -q openai duckpy"
      ]
    },
    {
      "cell_type": "code",
      "source": [
        "import os, openai\n",
        "from google.colab import userdata\n",
        "\n",
        "os.environ[\"OPENAI_API_KEY\"] = userdata.get('OPENAI_API_KEY')\n",
        "openai.api_key = os.getenv(\"OPENAI_API_KEY\")"
      ],
      "metadata": {
        "id": "m_56Uz4n3Mil"
      },
      "execution_count": 2,
      "outputs": []
    },
    {
      "cell_type": "code",
      "source": [
        "client = openai.OpenAI()\n",
        "\n",
        "content = \"\"\"\n",
        "다음 <문장>에서 색깔 정보가 있으면 그것을 추출해 영어로 번역하고 <json 포맷>으로 만들어서 출력해라.\n",
        "\n",
        "<문장>\n",
        "나는 빨간 사과가 좋더라.\n",
        "</문장>\n",
        "\"\"\""
      ],
      "metadata": {
        "id": "B8T5FPemFbxT"
      },
      "execution_count": 13,
      "outputs": []
    },
    {
      "cell_type": "code",
      "source": [
        "def llm_call(content):\n",
        "    response = client.chat.completions.create(\n",
        "        model=\"gpt-3.5-turbo\",\n",
        "        messages=[\n",
        "            {\n",
        "                \"role\": \"user\",\n",
        "                \"content\": content\n",
        "            }\n",
        "        ]\n",
        "    )\n",
        "    return response"
      ],
      "metadata": {
        "id": "u7fNule4FfX5"
      },
      "execution_count": 9,
      "outputs": []
    },
    {
      "cell_type": "code",
      "source": [
        "response = llm_call(content)\n",
        "\n",
        "print(response.choices[0].message.content)"
      ],
      "metadata": {
        "colab": {
          "base_uri": "https://localhost:8080/"
        },
        "id": "EOQDSgFxRBfK",
        "outputId": "2d89729d-87f5-4c65-e0f5-115654dedfa9"
      },
      "execution_count": 15,
      "outputs": [
        {
          "output_type": "stream",
          "name": "stdout",
          "text": [
            "{\n",
            "  \"색깔\": \"빨간\",\n",
            "  \"영어 번역\": \"red\"\n",
            "}\n"
          ]
        }
      ]
    },
    {
      "cell_type": "code",
      "source": [
        "schema = {\n",
        "    \"$schema\": \"http://json-schema.org/draft-07/schema#\",\n",
        "    \"type\": \"object\",\n",
        "    \"properties\": {\n",
        "        \"color\": {\n",
        "            \"type\": \"string\",\n",
        "            \"description\": \"색깔 정보\"\n",
        "        }\n",
        "    },\n",
        "    \"required\": [\"color\"]\n",
        "}\n",
        "\n",
        "content = f\"\"\"\n",
        "다음 <문장>에서 색깔 정보가 있으면 그것을 추출해 영어로 번역하고 json 포맷으로 만들어서 출력해라.\n",
        "\n",
        "<문장>\n",
        "나는 빨간 사과가 좋더라.\n",
        "</문장>\n",
        "\n",
        "json schema는 다음과 같다 : {schema}\n",
        "색깔 정보가 없으면, no color 로 대신해라.\n",
        "\"\"\""
      ],
      "metadata": {
        "id": "EFrBgRKfRisG"
      },
      "execution_count": 16,
      "outputs": []
    },
    {
      "cell_type": "code",
      "source": [
        "response = llm_call(content)\n",
        "\n",
        "print(response.choices[0].message.content)"
      ],
      "metadata": {
        "colab": {
          "base_uri": "https://localhost:8080/"
        },
        "id": "gFmCHz76Riub",
        "outputId": "6f38f151-e771-4f49-8867-b4c64dd630e4"
      },
      "execution_count": 17,
      "outputs": [
        {
          "output_type": "stream",
          "name": "stdout",
          "text": [
            "{\n",
            "    \"color\": \"red\"\n",
            "}\n"
          ]
        }
      ]
    },
    {
      "cell_type": "markdown",
      "source": [
        "# function"
      ],
      "metadata": {
        "id": "Z7WeDPQRS19X"
      }
    },
    {
      "cell_type": "code",
      "source": [
        "response = client.chat.completions.create(\n",
        "    model=\"gpt-4\",\n",
        "    messages=[\n",
        "        {\n",
        "            \"role\": \"user\",\n",
        "            \"content\": \"나는 노란색이 좋더라\"\n",
        "        }],\n",
        "    functions=[\n",
        "        {\n",
        "            \"name\": \"get_color\",\n",
        "            \"description\": \"사용자의 선호 색깔을 찾아서 영어로 번역하고 영어 단어를 출력함\",\n",
        "            \"parameters\": {\n",
        "                \"type\": \"object\",\n",
        "                \"properties\": {\n",
        "                    \"color\": {\n",
        "                        \"type\": \"string\",\n",
        "                        \"description\": \"사용자의 선호 색깔을 빼내와서 그에 해당하는 영어 단어를 출력함\"\n",
        "                    }\n",
        "                },\n",
        "                \"required\": [\"color\"]\n",
        "            },\n",
        "        }\n",
        "    ]\n",
        ")"
      ],
      "metadata": {
        "id": "5AtZRTL1Riw_"
      },
      "execution_count": 21,
      "outputs": []
    },
    {
      "cell_type": "code",
      "source": [
        "print(response.choices[0].message)"
      ],
      "metadata": {
        "colab": {
          "base_uri": "https://localhost:8080/"
        },
        "id": "4LLJdCPURizK",
        "outputId": "933613fd-ddbb-46f7-ad6b-13be983f30e4"
      },
      "execution_count": 22,
      "outputs": [
        {
          "output_type": "stream",
          "name": "stdout",
          "text": [
            "ChatCompletionMessage(content=None, role='assistant', function_call=FunctionCall(arguments='{\\n  \"color\": \"노란색\"\\n}', name='get_color'), tool_calls=None)\n"
          ]
        }
      ]
    },
    {
      "cell_type": "code",
      "source": [
        "print(response.choices[0].message.function_call.name)"
      ],
      "metadata": {
        "colab": {
          "base_uri": "https://localhost:8080/"
        },
        "id": "txidAiEPTxAS",
        "outputId": "0eb1307c-c3f6-4e61-87c9-a2d8c3ef2900"
      },
      "execution_count": 24,
      "outputs": [
        {
          "output_type": "stream",
          "name": "stdout",
          "text": [
            "get_color\n"
          ]
        }
      ]
    },
    {
      "cell_type": "code",
      "source": [
        "print(response.choices[0].message.function_call.arguments)"
      ],
      "metadata": {
        "colab": {
          "base_uri": "https://localhost:8080/"
        },
        "id": "n8_Bw0j_Ri1y",
        "outputId": "d527ba17-a9f0-4344-c9a9-9e8d4ce9717e"
      },
      "execution_count": 23,
      "outputs": [
        {
          "output_type": "stream",
          "name": "stdout",
          "text": [
            "{\n",
            "  \"color\": \"노란색\"\n",
            "}\n"
          ]
        }
      ]
    },
    {
      "cell_type": "code",
      "source": [
        "response = client.chat.completions.create(\n",
        "    model=\"gpt-4\",\n",
        "    messages=[\n",
        "        {\n",
        "            \"role\": \"user\",\n",
        "            \"content\": \"아침에 세 개 저녁에 네 개\"\n",
        "        }],\n",
        "    functions=[\n",
        "        {\n",
        "            \"name\": \"apple_add\",\n",
        "            \"description\": \"사과 숫자를 더함\",\n",
        "            \"parameters\": {\n",
        "                \"type\": \"object\",\n",
        "                \"properties\": {\n",
        "                    \"quantity1\": {\n",
        "                        \"type\": \"integer\",\n",
        "                        \"description\": \"첫 번째 숫자\"\n",
        "                    },\n",
        "                    \"quantity2\": {\n",
        "                        \"type\": \"integer\",\n",
        "                        \"description\": \"두 번째 숫자\"\n",
        "                    }\n",
        "\n",
        "                },\n",
        "                \"required\": [\"quantity1\", \"quantity2\"]\n",
        "            },\n",
        "        }\n",
        "    ],\n",
        "    function_call=\"auto\"\n",
        ")"
      ],
      "metadata": {
        "id": "pOFLb6x0Ri4A"
      },
      "execution_count": 25,
      "outputs": []
    },
    {
      "cell_type": "code",
      "source": [
        "print(response.choices[0].message)"
      ],
      "metadata": {
        "colab": {
          "base_uri": "https://localhost:8080/"
        },
        "id": "IEukh5k6UEWd",
        "outputId": "7042b085-9847-4a69-ddbe-4f696c16dc20"
      },
      "execution_count": 26,
      "outputs": [
        {
          "output_type": "stream",
          "name": "stdout",
          "text": [
            "ChatCompletionMessage(content=None, role='assistant', function_call=FunctionCall(arguments='{\\n  \"quantity1\": 3,\\n  \"quantity2\": 4\\n}', name='apple_add'), tool_calls=None)\n"
          ]
        }
      ]
    },
    {
      "cell_type": "markdown",
      "source": [
        "# custom function"
      ],
      "metadata": {
        "id": "Ka9fi8udVIqv"
      }
    },
    {
      "cell_type": "code",
      "source": [
        "import openai\n",
        "import json\n",
        "from duckpy import Client\n",
        "import ast\n",
        "\n",
        "duckduckgo_client = Client()\n",
        "\n",
        "def duck_search(query) -> str:\n",
        "    print(f\"\"\"\n",
        "        ## Runs duckduckgo search for query:\n",
        "        {query}\n",
        "          \"\"\")\n",
        "    results = duckduckgo_client.search(query)\n",
        "    return str(results)\n",
        "\n",
        "response = client.chat.completions.create(\n",
        "    model=\"gpt-4\",\n",
        "    messages=[\n",
        "        {\n",
        "            \"role\": \"system\",\n",
        "            \"content\": \"You must use duck_search function to get information\"\n",
        "        },\n",
        "        {\n",
        "            \"role\": \"user\",\n",
        "            \"content\": \"원피스는 언제부터 연재했어?\"\n",
        "        }],\n",
        "    functions=[\n",
        "        {\n",
        "            \"name\": \"duck_search\",\n",
        "            \"description\": \"Use to search online\",\n",
        "            \"parameters\": {\n",
        "                \"type\": \"object\",\n",
        "                \"properties\": {\n",
        "                    \"query\": {\n",
        "                        \"type\": \"string\",\n",
        "                        \"description\": \"Translate the Korean content into English input query\"\n",
        "                    },\n",
        "                },\n",
        "                \"required\": [\"query\"]\n",
        "            },\n",
        "        }\n",
        "    ],\n",
        "    function_call=\"auto\"\n",
        ")"
      ],
      "metadata": {
        "id": "uzDGOSZpUEZQ"
      },
      "execution_count": 28,
      "outputs": []
    },
    {
      "cell_type": "code",
      "source": [
        "print(response)"
      ],
      "metadata": {
        "colab": {
          "base_uri": "https://localhost:8080/"
        },
        "id": "BdsU4wG4UEbu",
        "outputId": "1a2abddf-5485-494f-8f6a-288ac0355d01"
      },
      "execution_count": 33,
      "outputs": [
        {
          "output_type": "stream",
          "name": "stdout",
          "text": [
            "ChatCompletion(id='chatcmpl-9qjSNvWowrmfzgXBw2blfqQJgvrPr', choices=[Choice(finish_reason='function_call', index=0, logprobs=None, message=ChatCompletionMessage(content=None, role='assistant', function_call=FunctionCall(arguments='{\\n  \"query\": \"When did One Piece start serializing?\"\\n}', name='duck_search'), tool_calls=None))], created=1722354819, model='gpt-4-0613', object='chat.completion', service_tier=None, system_fingerprint=None, usage=CompletionUsage(completion_tokens=22, prompt_tokens=82, total_tokens=104))\n"
          ]
        }
      ]
    },
    {
      "cell_type": "code",
      "source": [
        "message = response.choices[0].message\n",
        "\n",
        "if message.function_call:\n",
        "    function_name = message.function_call.name\n",
        "    args = json.loads(message.function_call.arguments)\n",
        "\n",
        "    if function_name == \"duck_search\":\n",
        "        query = args.get(\"query\")\n",
        "        results = duck_search(query)\n",
        "        print(results)\n",
        "\n",
        "    completion_final = client.chat.completions.create(\n",
        "        model=\"gpt-4\",\n",
        "        messages=[\n",
        "            {\"role\": \"user\", \"content\": \"원피스는 언제부터 연재했어?\"},\n",
        "            message,\n",
        "            {\n",
        "                \"role\": \"function\",\n",
        "                \"name\": function_name,\n",
        "                \"content\": results,\n",
        "            },\n",
        "        ]\n",
        "    )\n",
        "    print(completion_final.choices[0].message.content)"
      ],
      "metadata": {
        "colab": {
          "base_uri": "https://localhost:8080/"
        },
        "id": "z1xhIX3HUFIE",
        "outputId": "0d985892-a14a-4069-a2db-5d1ed16c40a7"
      },
      "execution_count": 34,
      "outputs": [
        {
          "output_type": "stream",
          "name": "stdout",
          "text": [
            "\n",
            "        ## Runs duckduckgo search for query:\n",
            "        When did One Piece start serializing?\n",
            "          \n",
            "[{'title': 'Real-Life Timeline | One Piece Wiki | Fandom', 'description': 'January 1: Eiichiro Oda is born in Kumamoto, Japan. November 20: Eiichiro Oda\\'s favorite manga, \"Dragon Ball\", created by Akira Toriyama, was serialized in Shonen Jump. \"Dragon Ball\" became an influential hit for Oda to create One Piece 13 years later.[1] At the age of 15 Eiichiro Oda writes his first manga shot story \"Fly Up Boy\" which scored 18 out of 30 in Shonen Jump.[2] At the age of 17 ...', 'url': 'm/l/?uddg=https://onepiece.fandom.com/wiki/Real-Life_Timeline&rut=76836563723052203de7bc7b69fcf8243ee5962395fcce153fbbbd6441d13306'}, {'title': 'One Piece - Wikipedia', 'description': \"One Piece (stylized in all caps) is a Japanese manga series written and illustrated by Eiichiro Oda.It has been serialized in Shueisha's shōnen manga magazine Weekly Shōnen Jump since July 1997, with its individual chapters compiled in 109 tankōbon volumes as of July 2024.The story follows the adventures of Monkey D. Luffy and his crew, the Straw Hat Pirates, where he explores the Grand ...\", 'url': 'm/l/?uddg=https://en.wikipedia.org/wiki/One_Piece&rut=f88e142de76184058c3c7bcc9f185a124deaa31d3e20a42ca0361d65326549fb'}, {'title': 'One Piece: A Complete Timeline - CBR', 'description': 'Twenty-seven years ago, Shonen Jump readers were introduced to a new story about a rubber boy who wanted to be King of the Pirates. Over 1,100 chapters later, One Piece is the best-selling manga of all time, rivaling Superman for the title of the best-selling comic of all time. Its highly successful anime adaptation has been running continuously since 1999, and it has spawned fifteen movies ...', 'url': 'm/l/?uddg=https://www.cbr.com/one-piece-complete-timeline/&rut=ed30c29cbb4612ab3475757efaf8e0cbaa66832d0f872b844a5a37cd2ab60a6f'}, {'title': 'When did One Piece start? Beginning of Manga and Anime, explained', 'description': \"The serialization of the One Piece series as a manga started in the Weekly Shonen Jump magazine on July 22, 1997. Eiichiro Oda, the creator of this series captured readers' attention with a world ...\", 'url': 'm/l/?uddg=https://www.sportskeeda.com/anime/when-one-piece-series-start-beginning-manga-anime-explained&rut=175f3b5190a2b10443147da56eba427ae8e3ebf6a41afb0a39881bf58ba06120'}, {'title': 'One Piece (Manga) | One Piece Wiki | Fandom', 'description': 'For other uses of this name, see One Piece (Disambiguation). One Piece (ワンピース, Wan Pīsu?) is a Shonen action-adventure manga written and drawn by Eiichiro Oda, serialized in the anthology Weekly Shonen Jump. Set in a fantasy world dominated by pirates, it mainly depicts the adventures of Monkey D. Luffy, a headstrong young captain with the power to stretch like rubber. Premiering in ...', 'url': 'm/l/?uddg=https://onepiece.fandom.com/wiki/One_Piece_(Manga)&rut=6ca03e340fc4c6bc829910ac4f0379bf47cb1c162f05151da893a6487d38956e'}, {'title': 'The One Piece Timeline - The Library of Ohara', 'description': \"1494 (30 years ago) October 29th - Big Mom's 25th and 26th sons, Charlotte Snack and Bavarois, are born (One Piece Magazine: ages of the Charlotte children are revealed) 1495. 1495 (29 years ago) - A Dress Rosa slum kid by the name of Kyros loses his friend to murder, so he kills the two culprits in retaliation.\", 'url': 'm/l/?uddg=https://thelibraryofohara.com/the-one-piece-timeline/&rut=a4dc4cf39f65c6db9994230b6d82f0287c338f6b64ee4909f571b72b255cc52c'}, {'title': 'The Entire One Piece Timeline Explained - Looper', 'description': 'Ancient history. Toei. Much of what we know about the history of the \"One Piece\" world begins with the so-called Void Century, which began around the year 600. Throughout it, a civilization known ...', 'url': 'm/l/?uddg=https://www.looper.com/1007677/the-entire-one-piece-timeline-explained/&rut=490eaeb64242cc25771f2ca93d9efbc27e874713f4b83947d872c4e107d6f6fe'}, {'title': 'World Timeline | One Piece Wiki | Fandom', 'description': \"↑ One Piece Manga and Anime — Vol. 37 Chapter 354 (p. 17-19) and Episode 248, The Puffing Tom crosses the ocean for the first time. ↑ One Piece Manga — Vol. 108 Chapter 1097 (p. 13). ↑ One Piece Manga — Vol. 101 Chapter 1017 (p. 15-17), Who's-Who reveals that he was arrested after the Gomu Gomu no Mi was stolen from a World ...\", 'url': 'm/l/?uddg=https://onepiece.fandom.com/wiki/World_Timeline&rut=a484dffc304fb3dbb84267f9bdb66e643a7391fa81d309bfc535a4b47c71d6c5'}, {'title': 'One Piece | One Piece Wiki | Fandom', 'description': 'For other uses of this name, see One Piece (Disambiguation). One Piece is the name the world gave to all the treasure gained by the Pirate King Gol D. Roger.[2] At least a portion of it once belonged to Joy Boy during the Void Century.[3] The treasure is said to be of unimaginable value, and is currently located on Laugh Tale, the final island of the Grand Line. The One Piece is the driving ...', 'url': 'm/l/?uddg=https://onepiece.fandom.com/wiki/One_Piece&rut=3401e68dfedf5e4e1da910d748e1e238f6c41c511c733e0ed49fb624aaff4226'}, {'title': 'When did One Piece Series start? Beginning of Manga and Anime ... - MSN', 'description': \"The serialization of the One Piece series as a manga started in the Weekly Shonen Jump magazine on July 22, 1997. Eiichiro Oda, the creator of this series captured readers' attention with a world ...\", 'url': 'm/l/?uddg=https://www.msn.com/en-us/tv/news/when-did-one-piece-series-start-beginning-of-manga-and-anime-explained/ar-AA1jJK6P&rut=40304154cad4f99374fd9875ee78c1fe93bf9e19a570ada66316287c9da9fbc7'}, {'title': 'One Piece History and Overview: Everything You Need to Know About the ...', 'description': 'When it comes to the anime adaptation of One Piece, it did not take too long to begin. Once the successful weekly run of the manga began, the anime version soon followed. Just over two years later, the anime began on October 20, 1999. ... What Manga Chapter to Start With for Anime Fans. One Piece is an ongoing series with almost 25 years of ...', 'url': 'm/l/?uddg=https://mangainsider.com/one-piece-history/&rut=282f94b2cb18573cfd0a77a2ab05ac54c23162575dced2a37bb963235ce68a03'}, {'title': 'List of One Piece media - Wikipedia', 'description': \"One Piece is a Japanese media franchise created by Eiichirō Oda in 1997. The initial manga, written and illustrated by Eiichirō Oda, has been serialized in Shueisha's Weekly Shōnen Jump magazine since July 22, 1997, and has been collected into 108 tankōbon volumes. By December 2023, the manga has sold over 523.2 million copies worldwide, making it the best-selling manga series in history.\", 'url': 'm/l/?uddg=https://en.wikipedia.org/wiki/List_of_One_Piece_media&rut=e9c2f057dd6bc506eedcd0957798a7e488c71c00f8bffca9b2b198837cb09c16'}, {'title': 'One Piece: When did it start? - Sportskeeda', 'description': 'Oda first published the One Piece series on July 19, 1997. After working on two different versions of Romance Dawn, Oda finally came up with a concept he liked. The One Piece series was serialized ...', 'url': 'm/l/?uddg=https://www.sportskeeda.com/anime/one-piece-when-start&rut=ba10998b099850d0cc1889477c4403cedb9bd917b5e3569e32fb21ce7d33141a'}, {'title': 'When did One Piece manga start? - Sportskeeda Wiki', 'description': \"A. One Piece is an ongoing Japanese manga series written and illustrated by Eiichiro Oda. It was first published and hit the market in July 1997, serialized under the Shounen manga's flag. The anime adaptation of One Piece debuted on Fuji TV on October 20, 1999, under the production of ToeiAnimations. One Piece has given its viewers more than ...\", 'url': 'm/l/?uddg=https://wiki.sportskeeda.com/one-piece/when-did-one-piece-manga-start&rut=155888228a8c74ee7ea89c4927739990c9829922f4c7e7b24fddcbcc1259b468'}, {'title': 'The Life of Eiichiro Oda | One Piece Manga Creator', 'description': \"Life Of Eiichiro Oda: The Creator Of One Piece. Peek into Eiichiro Oda's world and his journey from a high school boy to creating history and becoming the best-selling mangaka of all time. The hit manga series called One Piece by Eiichiro Oda began in 1997 and has sold over 500 million copies to date.\", 'url': 'm/l/?uddg=https://www.creatosaurus.io/blog/eiichiro-oda-one-piece-creator&rut=83afe24127bf4fa7f4812b605cb512f309e16fd9039acbf0e1a1094009f9d4a2'}, {'title': 'When did One Piece start? - Sportskeeda Wiki', 'description': 'When did One Piece start? One Piece is an ongoing Japanese manga series written and illustrated by Eiichiro Oda. It was first published and hit the market in July 1997, serialized under the Shounen manga\\'s flag. Since its first publication, it hasn\\'t looked back since. The series began with its first chapter, \" Romance Dawn: The Dawn of ...', 'url': 'm/l/?uddg=https://wiki.sportskeeda.com/one-piece/when-did-one-piece-start&rut=eaa6a53b0da4daec7713a88365b40f57feb80d5c3d7a1bf0d0f097c7c0e2fc2a'}, {'title': 'History - One piece', 'description': 'One Piece is the story of a boy named Monkey D. Luffy who was inspired by Shanks, a pirate. At the start of the series, 22 years before Luffy leaves his hometown and sets sail, a pirate named Gol D. Roger, known as the Pirate King was executed. He was the only pirate to succesfully conquer the grand line. Before his death, he told the crowd of ...', 'url': 'm/l/?uddg=https://onepiecepk.weebly.com/history.html&rut=4dc10d1771e71e2249f46c70d67cbcca5677abda24de4394cd918b2830838ff1'}, {'title': 'One Piece (TV Series 1999- ) - IMDb', 'description': 'One Piece: Created by Eiichiro Oda. With Mayumi Tanaka, Akemi Okamura, Laurent Vernin, Tony Beck. Monkey D. Luffy sets off on an adventure with his pirate crew in hopes of finding the greatest treasure ever, known as the \"One Piece.\"', 'url': 'm/l/?uddg=https://www.imdb.com/title/tt0388629/&rut=057eb84f63bb8d48f2a5176f7920302baff6187ce8ab0bbd962007bb57051347'}, {'title': 'When Did One Piece Start? - One Piece First Episode Date', 'description': \"For the audience in Japan, One Piece originally premiered October 20, 1999. It didn't actually air in English until September 18, 2004. A full five-year gap occurred between the show starting in ...\", 'url': 'm/l/?uddg=https://twinfinite.net/guides/when-did-one-piece-start-first-episode-date/&rut=812732d35d631c2fa7b433c06c690a738aa4b360c8ce0628e947458bdd636c2d'}, {'title': 'One Piece Wiki | Fandom', 'description': 'Languages. Community content is available under CC-BY-SA unless otherwise noted. One Piece Encyclopedia is a database that anyone can edit about the Shonen Jump anime and manga series One Piece created by Eiichiro Oda, that features Monkey D. Luffy and other pirates.', 'url': 'm/l/?uddg=https://onepiece.fandom.com/wiki/One_Piece_Wiki&rut=a52ed12c793381605f6a01dfb592273859416a9df40edcd4889c5182000c13a1'}, {'title': 'Eiichiro Oda Confirms That One Piece Could End Within The Next Few Years', 'description': \"One Piece started serializing in 1997, and it is still going strong. The manga has been created by Eiichiro Oda, who is nothing short of a genius. Oda's ingenuity has enabled the series to ...\", 'url': 'm/l/?uddg=https://gamerant.com/eiichiro-oda-one-piece-ending-three-yearss/&rut=dbceee4c7999f7bea56f0974e43b1349a41367ef243e33c9784548af036a9a5b'}, {'title': \"'One Piece' Arcs in Order - Your Guide to Skipping the ... - Collider\", 'description': 'Monkey D. Luffy sets off on an adventure with his pirate crew in hopes of finding the greatest treasure ever, known as the \"One Piece.\" Release Date. October 20, 1999. Cast. Mayumi Tanaka , Akemi ...', 'url': 'm/l/?uddg=https://collider.com/one-piece-arcs-in-order/&rut=47832d91376418b860b8b6a7fa02e0e30890a62b8fd14ab83c75ed3a8acbedbe'}, {'title': 'All One Piece Arcs in Order (A Complete Guide) | Beebom', 'description': \"We have listed all the arcs in the rightful order, along with the fillers, movies, TV specials, and special episodes. You can start watching the One Piece anime in the order we have mentioned below: The first half of One Piece (pre-time skip) is titled Sea of Survival: Super Rookies Saga. It's divided into six sub-sagas and includes several ...\", 'url': 'm/l/?uddg=https://beebom.com/one-piece-arcs-in-order/&rut=6584a2caa58c38a5a6cab7e46e5a28807b791ec012661fdf2afe79859ea89660'}, {'title': \"The Paris Olympics Sees a Twist in the U.S. Men's Gymnastics\", 'description': 'The U.S. men began on one of their weaker events, the pommel horse, and it was a rough start for the only returning Olympian on the squad, Brody Malone, who came off the horse and had to restart ...', 'url': 'm/l/?uddg=https://time.com/7004329/us-men-gymnastics-paris-olympics-2024/&rut=d576429407202b621c611bda9d5762ea3d8a2121ad69380a821c6f7015013221'}, {'title': \"Kamala Harris' 2020 campaign was a mess. If she replaces Biden, this ...\", 'description': 'The freshman senator who announced her candidacy in January 2019 before 20,000 cheering supporters in Oakland, California, dropped out in December before a single vote had been cast.', 'url': 'm/l/?uddg=https://www.nbcnews.com/politics/2024-election/harris-2020-campaign-was-mess-ended-ticket-time-lot-different-rcna162737&rut=69ad8f7ef2af955d261efb1bc456959e5d67758a7eb6cde19bff7a5b6c13fe52'}, {'title': 'Is Oda being forced to continue One Piece? : r/OnePiece - Reddit', 'description': 'Flagships aren\\'t fabricated in a lab. They arise naturally. They\\'ll certainly have to push for a new one whenever One Piece ends, but with good marketing they can even turn that on its head and start a campaign to find the new \"One Piece\". Just bringing a veteran author does\\'t mean whatever they write will be a hit (see Samurai 8 as a recent ...', 'url': 'm/l/?uddg=https://www.reddit.com/r/OnePiece/comments/11jeca3/is_oda_being_forced_to_continue_one_piece/&rut=78bd1414ecdabb0098541263202f048186b2c3381f41d8915c2b6a0bba2d3306'}, {'title': 'Why are full-body swimsuits banned for Olympics? - NBC New York', 'description': \"World Aquatics, despite challenges from some observers, did not ban the suits and most competitors decided to wear them. Most gold medalists in 2004 wore Speedo's Fastskin suit, and then the brand ...\", 'url': 'm/l/?uddg=https://www.nbcnewyork.com/paris-2024-summer-olympics/why-are-full-body-swimsuits-banned-olympics-history-rule/5643607/&rut=41efd19252a4d63b4e1ac4e9088608e117dc51885099fc7f3bb67a2b0bf81f13'}, {'title': 'Eiichiro Oda | One Piece Wiki | Fandom', 'description': \"Eiichiro Oda, born January 1, 1975 in Kumamoto City, Kumamoto Prefecture in Japan, is a professional mangaka, best known as the creator of the manga One Piece. A dedicated writer and artist since adolescence, Oda began working for Shueisha's Shonen Jump at 17 and currently stands as one of the world's most prominent mangaka, earning an estimated ¥3.1 billion (US$23 million) per year.[2][3 ...\", 'url': 'm/l/?uddg=https://onepiece.fandom.com/wiki/Eiichiro_Oda&rut=7fdb1c51efe990822968c522ceea9115993ab4da973535f32c553ab2f58659eb'}]\n",
            "원피스는 1997년 7월부터 연재를 시작했습니다.\n"
          ]
        }
      ]
    },
    {
      "cell_type": "markdown",
      "source": [
        "# different output"
      ],
      "metadata": {
        "id": "WAb1wazlYdvJ"
      }
    },
    {
      "cell_type": "code",
      "source": [
        "example_user_input = \"런던 날씨가 안 좋다면서?\"\n",
        "\n",
        "response = client.chat.completions.create(\n",
        "    model=\"gpt-4\",\n",
        "    messages=[\n",
        "        {\n",
        "            \"role\": \"user\",\n",
        "            \"content\": example_user_input\n",
        "        }],\n",
        "    functions=[\n",
        "        {\n",
        "            \"name\": \"get_different_responses\",\n",
        "            \"description\": \"답변을 여러가지 말투로 하기\",\n",
        "            \"parameters\": {\n",
        "                \"type\": \"object\",\n",
        "                \"properties\": {\n",
        "                    \"response_up\": {\n",
        "                        \"type\": \"string\",\n",
        "                        \"description\": \"답변을 높임말로 바꿈\"\n",
        "                    },\n",
        "                    \"response_down\": {\n",
        "                        \"type\": \"string\",\n",
        "                        \"description\": \"답변을 반말로 바꿈\"\n",
        "                    }\n",
        "                },\n",
        "                \"required\": [\"response_up\", \"response_down\"]\n",
        "            },\n",
        "        }\n",
        "    ],\n",
        "    # function_call=\"auto\",\n",
        "    function_call={\"name\":\"get_different_responses\"},\n",
        ")"
      ],
      "metadata": {
        "id": "BMkEkDjtUFKY"
      },
      "execution_count": 39,
      "outputs": []
    },
    {
      "cell_type": "code",
      "source": [
        "# function_call = \"auto\"\n",
        "print(response.choices[0].message)"
      ],
      "metadata": {
        "colab": {
          "base_uri": "https://localhost:8080/"
        },
        "id": "YTElPMYaUFMw",
        "outputId": "6433eb34-feaa-4daf-8dbc-068c6e26e0e2"
      },
      "execution_count": 36,
      "outputs": [
        {
          "output_type": "stream",
          "name": "stdout",
          "text": [
            "ChatCompletionMessage(content='네, 그렇습니다. 런던의 날씨는 현재 좋지 않습니다. 비가 오고 있어요. 우산을 챙기시는 것이 좋을 것 같습니다.', role='assistant', function_call=None, tool_calls=None)\n"
          ]
        }
      ]
    },
    {
      "cell_type": "code",
      "source": [
        "# function_call={\"name\":\"get_different_responses\"},\n",
        "print(response.choices[0].message)"
      ],
      "metadata": {
        "colab": {
          "base_uri": "https://localhost:8080/"
        },
        "id": "BccltvIuZuB5",
        "outputId": "4729fa28-9fc1-45c5-da63-cb94e68b8884"
      },
      "execution_count": 40,
      "outputs": [
        {
          "output_type": "stream",
          "name": "stdout",
          "text": [
            "ChatCompletionMessage(content=None, role='assistant', function_call=FunctionCall(arguments='{\\n  \"response_up\": \"네, 그렇습니다. 런던의 날씨가 좋지 않다고 전해져왔습니다.\",\\n  \"response_down\": \"응, 그래. 런던 날씨가 좋지 않대.\"\\n}', name='get_different_responses'), tool_calls=None)\n"
          ]
        }
      ]
    },
    {
      "cell_type": "code",
      "source": [
        "print(response.choices[0].message.function_call.arguments)"
      ],
      "metadata": {
        "colab": {
          "base_uri": "https://localhost:8080/"
        },
        "id": "8ZI8j06jUFO8",
        "outputId": "c09f70f3-91c8-4cd0-c5fd-8c82aca132e0"
      },
      "execution_count": 41,
      "outputs": [
        {
          "output_type": "stream",
          "name": "stdout",
          "text": [
            "{\n",
            "  \"response_up\": \"네, 그렇습니다. 런던의 날씨가 좋지 않다고 전해져왔습니다.\",\n",
            "  \"response_down\": \"응, 그래. 런던 날씨가 좋지 않대.\"\n",
            "}\n"
          ]
        }
      ]
    },
    {
      "cell_type": "markdown",
      "source": [
        "호출 시점과 별도로 정의한 function A을 사용하고 싶다면\n",
        "- auto로 선택\n",
        "- 첫 번째 추론의 결과로 A와 argument가 도착\n",
        "- 그 때 A를 호출\n",
        "- A function output과 원래 질문을 두 번째 추론에 던짐\n",
        "\n",
        "호출 시점에 정의한 function B를 사용하고 싶다면, function_call에 명시"
      ],
      "metadata": {
        "id": "TEv3-nZVaSQl"
      }
    },
    {
      "cell_type": "code",
      "source": [
        "example_user_input = \"주말에 친구들 오는데 뭐 먹지? 소고기, 감자, 당근 있어.\"\n",
        "\n",
        "def get_recipes_with_ingreients(ingredients:str) -> str:\n",
        "  return f\"{ingredients} 를 다 볶아서 먹읍시다.\"\n",
        "\n",
        "response = client.chat.completions.create(\n",
        "    model=\"gpt-4\",\n",
        "    messages=[\n",
        "        {\n",
        "            \"role\": \"user\",\n",
        "            \"content\": example_user_input\n",
        "        }],\n",
        "    functions=[\n",
        "        {\n",
        "            \"name\": \"get_recipes_with_ingreients\",\n",
        "            \"description\": \"주어진 텍스트에서 음식을 만들 수 있는 재료 이름을 뽑아낼 수 있다면 이 function을 사용한다\",\n",
        "            \"parameters\": {\n",
        "                \"type\": \"object\",\n",
        "                \"properties\": {\n",
        "                    \"ingredients\": {\n",
        "                        \"type\": \"string\",\n",
        "                        \"description\": \"음식재료\"\n",
        "                    }\n",
        "                },\n",
        "                \"required\": [\"ingredients\"]\n",
        "            },\n",
        "        }\n",
        "    ],\n",
        "    # function_call={\"name\":\"get_recipes_with_ingreients\"},\n",
        "    function_call=\"auto\",\n",
        ")"
      ],
      "metadata": {
        "id": "Bl7sdzmLUFTZ"
      },
      "execution_count": 44,
      "outputs": []
    },
    {
      "cell_type": "code",
      "source": [
        "print(response.choices[0].message)"
      ],
      "metadata": {
        "colab": {
          "base_uri": "https://localhost:8080/"
        },
        "id": "rmfjtnv3UFVp",
        "outputId": "f9da5404-559b-4e2a-e6a9-c069159f4bb7"
      },
      "execution_count": 45,
      "outputs": [
        {
          "output_type": "stream",
          "name": "stdout",
          "text": [
            "ChatCompletionMessage(content=None, role='assistant', function_call=FunctionCall(arguments='{\\n  \"ingredients\": \"소고기, 감자, 당근\"\\n}', name='get_recipes_with_ingreients'), tool_calls=None)\n"
          ]
        }
      ]
    },
    {
      "cell_type": "code",
      "source": [
        "message = response.choices[0].message\n",
        "\n",
        "if message.function_call:\n",
        "    function_name = message.function_call.name\n",
        "    args = json.loads(message.function_call.arguments)\n",
        "\n",
        "    if function_name == \"get_recipes_with_ingreients\":\n",
        "        ingredients = args.get(\"ingredients\")\n",
        "        results = get_recipes_with_ingreients(ingredients)\n",
        "        print(results)\n",
        "\n",
        "    completion_final = client.chat.completions.create(\n",
        "        model=\"gpt-4\",\n",
        "        messages=[\n",
        "            {\"role\": \"user\", \"content\": example_user_input},\n",
        "            message,\n",
        "            {\n",
        "                \"role\": \"function\",\n",
        "                \"name\": function_name,\n",
        "                \"content\": results,\n",
        "            },\n",
        "        ]\n",
        "    )\n",
        "    print(completion_final.choices[0].message.content)"
      ],
      "metadata": {
        "colab": {
          "base_uri": "https://localhost:8080/"
        },
        "id": "BhpicYRhUFvZ",
        "outputId": "498f6bd2-9a2f-4c79-a7ef-3be3154a9b4c"
      },
      "execution_count": 47,
      "outputs": [
        {
          "output_type": "stream",
          "name": "stdout",
          "text": [
            "소고기, 감자, 당근 를 다 볶아서 먹읍시다.\n",
            "친구분들이 오시는데, 추가로 약간의 양념재료가 있다면 소고기로 된장찌개나 스튜를 만들어 보는 것은 어떨까요? 감자와 당근을 넣어서 비타민도 함께 섭취할 수 있습니다. 또한, 소고기와 야채를 함께 볶아서 소고기볶음을 만드는 것도 좋습니다. 간단한 각종 양념과 함께 볶으면 단번에 맛있는 요리가 완성됩니다.\n"
          ]
        }
      ]
    }
  ]
}