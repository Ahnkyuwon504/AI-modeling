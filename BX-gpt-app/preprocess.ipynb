{
  "nbformat": 4,
  "nbformat_minor": 0,
  "metadata": {
    "colab": {
      "provenance": [],
      "gpuType": "T4",
      "mount_file_id": "1QeAM2n2zZXPrjNpxM4S4AtkqKzd4rxVl",
      "authorship_tag": "ABX9TyNejg5zw2n8slXx2IiQ8oZQ",
      "include_colab_link": true
    },
    "kernelspec": {
      "name": "python3",
      "display_name": "Python 3"
    },
    "language_info": {
      "name": "python"
    },
    "accelerator": "GPU"
  },
  "cells": [
    {
      "cell_type": "markdown",
      "metadata": {
        "id": "view-in-github",
        "colab_type": "text"
      },
      "source": [
        "<a href=\"https://colab.research.google.com/github/Ahnkyuwon504/AI-modeling/blob/main/BX-gpt-app/preprocess.ipynb\" target=\"_parent\"><img src=\"https://colab.research.google.com/assets/colab-badge.svg\" alt=\"Open In Colab\"/></a>"
      ]
    },
    {
      "cell_type": "markdown",
      "source": [
        "# 라이브러리 설치"
      ],
      "metadata": {
        "id": "a55fnk07Ahq6"
      }
    },
    {
      "cell_type": "code",
      "source": [
        "!pip install -q openai\n",
        "!pip install -q google.colab\n",
        "!pip install -q pymongo\n",
        "!pip install -q pandas"
      ],
      "metadata": {
        "colab": {
          "base_uri": "https://localhost:8080/"
        },
        "id": "BYP2vkxDFSHr",
        "outputId": "4833b224-3092-4571-93f3-b90874b7b7a4"
      },
      "execution_count": 1,
      "outputs": [
        {
          "output_type": "stream",
          "name": "stdout",
          "text": [
            "\u001b[?25l     \u001b[90m━━━━━━━━━━━━━━━━━━━━━━━━━━━━━━━━━━━━━━━━\u001b[0m \u001b[32m0.0/328.5 kB\u001b[0m \u001b[31m?\u001b[0m eta \u001b[36m-:--:--\u001b[0m\r\u001b[2K     \u001b[91m━━━━━━━━━━━━━━━━━━━━━━━━━━━━━━━━━\u001b[0m\u001b[91m╸\u001b[0m\u001b[90m━━━━━━\u001b[0m \u001b[32m276.5/328.5 kB\u001b[0m \u001b[31m8.2 MB/s\u001b[0m eta \u001b[36m0:00:01\u001b[0m\r\u001b[2K     \u001b[90m━━━━━━━━━━━━━━━━━━━━━━━━━━━━━━━━━━━━━━━━\u001b[0m \u001b[32m328.5/328.5 kB\u001b[0m \u001b[31m7.2 MB/s\u001b[0m eta \u001b[36m0:00:00\u001b[0m\n",
            "\u001b[2K     \u001b[90m━━━━━━━━━━━━━━━━━━━━━━━━━━━━━━━━━━━━━━━━\u001b[0m \u001b[32m75.6/75.6 kB\u001b[0m \u001b[31m6.3 MB/s\u001b[0m eta \u001b[36m0:00:00\u001b[0m\n",
            "\u001b[2K     \u001b[90m━━━━━━━━━━━━━━━━━━━━━━━━━━━━━━━━━━━━━━━━\u001b[0m \u001b[32m77.9/77.9 kB\u001b[0m \u001b[31m6.8 MB/s\u001b[0m eta \u001b[36m0:00:00\u001b[0m\n",
            "\u001b[2K     \u001b[90m━━━━━━━━━━━━━━━━━━━━━━━━━━━━━━━━━━━━━━━━\u001b[0m \u001b[32m58.3/58.3 kB\u001b[0m \u001b[31m7.8 MB/s\u001b[0m eta \u001b[36m0:00:00\u001b[0m\n",
            "\u001b[2K     \u001b[90m━━━━━━━━━━━━━━━━━━━━━━━━━━━━━━━━━━━━━━━━\u001b[0m \u001b[32m1.6/1.6 MB\u001b[0m \u001b[31m12.1 MB/s\u001b[0m eta \u001b[36m0:00:00\u001b[0m\n",
            "\u001b[2K     \u001b[90m━━━━━━━━━━━━━━━━━━━━━━━━━━━━━━━━━━━━━━━━\u001b[0m \u001b[32m1.2/1.2 MB\u001b[0m \u001b[31m10.9 MB/s\u001b[0m eta \u001b[36m0:00:00\u001b[0m\n",
            "\u001b[2K     \u001b[90m━━━━━━━━━━━━━━━━━━━━━━━━━━━━━━━━━━━━━━━━\u001b[0m \u001b[32m307.7/307.7 kB\u001b[0m \u001b[31m16.1 MB/s\u001b[0m eta \u001b[36m0:00:00\u001b[0m\n",
            "\u001b[?25h"
          ]
        }
      ]
    },
    {
      "cell_type": "markdown",
      "source": [
        "# Inference method"
      ],
      "metadata": {
        "id": "M1Gpni_MFHne"
      }
    },
    {
      "cell_type": "code",
      "source": [
        "from openai import OpenAI\n",
        "from google.colab import userdata\n",
        "\n",
        "def get_completion(prompt: str) -> str:\n",
        "    \"\"\"\n",
        "    Args:\n",
        "        prompt: 프롬프트\n",
        "\n",
        "    Returns: 답변 텍스트 데이터\n",
        "\n",
        "    \"\"\"\n",
        "\n",
        "    client = OpenAI(api_key=userdata.get('OPENAI_API_KEY'))\n",
        "    messages = [{\"role\": \"user\", \"content\": prompt}]\n",
        "    response = client.chat.completions.create(\n",
        "        model=\"gpt-4o\",\n",
        "        messages=messages,\n",
        "        temperature=0\n",
        "    )\n",
        "    client.close()\n",
        "\n",
        "    return response.choices[0].message.content"
      ],
      "metadata": {
        "id": "_ZTTlkkJEddV"
      },
      "execution_count": 2,
      "outputs": []
    },
    {
      "cell_type": "markdown",
      "source": [
        "# Prompt"
      ],
      "metadata": {
        "id": "wwYawp6WFLry"
      }
    },
    {
      "cell_type": "code",
      "source": [
        "PROMPT_PREFIX = \"\"\"\n",
        "document를 참고해 question과 answer 쌍을 생성하세요.\n",
        "question은 document의 내용에 대해 물어보는 내용입니다.\n",
        "answer은 question에 대해 document를 기반으로 답변하는 내용입니다.\n",
        "question과 answer 쌍을 10개 생성하세요.\n",
        "\n",
        "요구사항은 다음과 같습니다:\n",
        "1. 문제의 다양성을 위해 question은 비슷한 단어로 반복하지 않습니다.\n",
        "2. answer은 최대한 간결한 내용으로 작성되어야 합니다.\n",
        "3. question은 document에 대해 물어보는 내용이며, 100단어 정도로 구성해주세요.\n",
        "4. answer은 document를 기반으로 자세한 내용이 포함되도록 제공되어야하지만 100단어 정도로 구성해주세요.\n",
        "5. 출력 형식은 JSON포맷을 따라야 하며, Indentation은 없도록 출력하세요.\n",
        "\n",
        "출력 형식은 아래 포맷을 참조하세요:\n",
        "{\"question\": \"컴퓨터의 구성 요소는 어떻게 되어 있나요??\", \"answer\": \"CPU, 주기억장치, 보조기억장치 등으로 이루어져 있습니다.\"}\n",
        "{\"question\": \"Java와 Python의 차이는 무엇인가요?\", \"answer\": \"컴파일 언어와 인터프리터 언어의 차이가 있는데요. 우선...\"}\n",
        "\"\"\"\n",
        "\n",
        "PROMPT_CONTENT_FORMAT = \"\"\"\n",
        "###document:\n",
        "{document}\n",
        "\"\"\""
      ],
      "metadata": {
        "collapsed": true,
        "id": "OUKTayZKFaIt"
      },
      "execution_count": 11,
      "outputs": []
    },
    {
      "cell_type": "markdown",
      "source": [
        "# mongoDB"
      ],
      "metadata": {
        "id": "xsGpE53hFOQP"
      }
    },
    {
      "cell_type": "code",
      "source": [
        "!curl ipecho.net/plain"
      ],
      "metadata": {
        "colab": {
          "base_uri": "https://localhost:8080/"
        },
        "id": "rFU9fxTiGFiX",
        "outputId": "e3eb27dc-2ea3-4c8f-f86e-fb76d3144047"
      },
      "execution_count": 4,
      "outputs": [
        {
          "output_type": "stream",
          "name": "stdout",
          "text": [
            "34.90.35.86"
          ]
        }
      ]
    },
    {
      "cell_type": "code",
      "source": [
        "import pymongo\n",
        "from google.colab import userdata\n",
        "\n",
        "def get_mongo_client(mongo_uri):\n",
        "    \"\"\"Establish connection to the MongoDB.\"\"\"\n",
        "    try:\n",
        "        client = pymongo.MongoClient(mongo_uri)\n",
        "        print(\"Connection to MongoDB successful\")\n",
        "        return client\n",
        "    except pymongo.errors.ConnectionFailure as e:\n",
        "        print(f\"Connection failed: {e}\")\n",
        "        return None\n",
        "\n",
        "mongo_uri = userdata.get(\"MONGO_URI\")\n",
        "if not mongo_uri:\n",
        "    print(\"MONGO_URI not set in environment variables\")\n",
        "\n",
        "mongo_client = get_mongo_client(mongo_uri)\n",
        "\n",
        "# Ingest data into MongoDB\n",
        "db = mongo_client[\"spider504\"]\n",
        "collection = db[\"240703_movie_collection\"]"
      ],
      "metadata": {
        "colab": {
          "base_uri": "https://localhost:8080/"
        },
        "id": "ANofLLYZGFqf",
        "outputId": "38638ba1-762b-4ab8-e3b3-36803090908d"
      },
      "execution_count": 5,
      "outputs": [
        {
          "output_type": "stream",
          "name": "stdout",
          "text": [
            "Connection to MongoDB successful\n"
          ]
        }
      ]
    },
    {
      "cell_type": "code",
      "source": [
        "def fetch_limited_documents(collection, start, end):\n",
        "    try:\n",
        "        limit = end - start + 1\n",
        "        projection = {\"_id\": 0, \"text\": 1}\n",
        "        documents_cursor = collection.find({}, projection).skip(start).limit(limit)\n",
        "        return list(documents_cursor)\n",
        "    except Exception as e:\n",
        "        print(f\"An error occurred: {e}\")\n",
        "        return []\n",
        "\n",
        "documents = fetch_limited_documents(collection, 401, 500)\n",
        "\n",
        "cnt = 0\n",
        "\n",
        "for document in documents:\n",
        "    print(document)\n",
        "    cnt += 1\n",
        "    if cnt == 10:\n",
        "        break"
      ],
      "metadata": {
        "colab": {
          "base_uri": "https://localhost:8080/"
        },
        "id": "fhhfRm86FGTx",
        "outputId": "2414d9ae-8f81-4b83-cd66-d0d96b0fe7f4"
      },
      "execution_count": 35,
      "outputs": [
        {
          "output_type": "stream",
          "name": "stdout",
          "text": [
            "{'text': '  거래내역 데이터 구조\\n거래내역은 거래기본, 입출내역, 거래확장정보로 구성되어 있다\\n거래내역 데이터 구성항목은 다음과 같다\\n| 구분             | 설명                                                                                                      | 주요항목                                                              |\\n| ---------------- | --------------------------------------------------------------------------------------------------------- | --------------------------------------------------------------------- |\\n| 거래기본         | - 거래의 기본적인 정보 관리                                                                               | 계좌번호, 고객번호, 거래일, 거래상태, 상대거래정보                    |\\n| 입출내역 (Entry) | -\\xa0하나의 거래에서 발생하는 입금/출금 내역을 금액유형별로 관리<br />-\\xa0계약의 잔액갱신 및 회계처리시 이용 | 정기예금 해지 시 금액유형, 입출구분, 거래금액, 통화코드, 현금대체구분 |\\n| 거래확장정보     | -\\xa0거래 기본정보 이외에 추가적으로 관리가 필요한 정보 관리                                                | 전표구분코드, 해지구분코드                                            |\\n정기예금 해지 시, 입출내역 (Entry) 데이터의 예시는 다음과 같다\\n* 가정: 해지 원금이 백만원, 이자금액 만원, 이자소득세 1400원 발생한 경우\\n| 금액유형   | 입출구분 |  거래금액 | 통화코드 | 현금대체구분 |\\n| ---------- | -------- | --------: | -------- | ------------ |\\n| 원금       | 출금     | 1,000,000 | KRW      | 현금         |\\n| 수신이자   | 출금     |    10,000 | KRW      | 현금         |\\n| 이자소득세 | 입금     |     1,400 | KRW      | 현금         |\\n> 거래내역을 저장하고, 조회하기 위해서는 거래기본, 입출내역, 거래확장정보의 개념을 숙지해야 한다'}\n",
            "{'text': ' . 거래내역 처리 인터페이스\\n거래내역 처리를 위한 주요 인터페이스는 ArrTxMngr과 ArrTx 이다'}\n",
            "{'text': ' . ArrTxMngr (거래매니져)\\nArrTxMngr는 거래내역 관련 처리를 위한 인터페이스이다.\\nArrTxMngr의 주요기능은 다음과 같다\\n* 특정거래의 ArrTx 객체 획득\\n* 거래내역 신규\\n* 거래내역 수정\\n* 거래목록 검색'}\n",
            "{'text': ' . ArrTx (거래객체)\\nArrTx은 특정 거래에 대한 업무처리용 인터페이스이다\\nArrTx의 주요기능은 다음과 같다\\n* 거래정보 조회\\n* 거래의 입출내역/확장정보 조회\\n* 거래의 정산내역(이자,수수료 내역) 조회\\n* 거래 취소\\n* 거래의 확장정보 수정'}\n",
            "{'text': '  인터페이스 사용예시\\n특정 거래의 거래시각 조회의 예시는 다음과 같다\\n| 항목         | 조건       |\\n| ------------ | ---------- |\\n| 계좌번호     | 3010100001 |\\n| 거래일자     | 20180101   |\\n| 거래일련번호 | 1          |'}\n",
            "{'text': ' . 계약 객체 획득 예시\\n계약 객체(ArrReal) 획득 처리 예시는 다음과 같다\\n```\\n//arrMngr 변수 선언\\nprivate ArrMngr arrMngr;\\n// arrMngr bean 생성\\narrMngr = (arrMngr) CbbApplicationContext.getBean(arrMngr.class, arrMngr);\\n// arrMngr.getArrReal을 이용하여 계약객체(ArrReal) 획득\\nArrReal arr = arrMngr.getArrReal(“3010100001”,null);\\n```'}\n",
            "{'text': ' . 거래객체 획득 예시\\n거래객체(ArrTx) 획득 처리 예시는 다음과 같다\\n```\\n//arrTxMngr 변수 선언\\nprivate ArrTxMngr arrTxMngr;\\n// arrTxMngr bean 생성\\narrTxMngr = (arrTxMngr) CbbApplicationContext.getBean(arrTxMngr.class, arrTxMngr);\\n// arrTxMngr.getArrTx 을 이용하여 거래내역객체(ArrTx) 획득\\nArrTx arrTx = arrTxMngr.getArrTx(“20180101”,1,arr);\\n```'}\n",
            "{'text': ' . 거래시각 조회 예시\\n획득한 거래객체를 이용하여 거래시각 조회의 예시는 다음과 같다\\n```\\n//거래시각 조회\\nString txHms = arrTx.getTxHms();\\n```'}\n",
            "{'text': ' . 거래객체획득\\n특정 거래에 대한 거래정보 조회, 거래취소, 거래의 상세정보 조회 등은 거래객체(ArrTx)를 통해 수행한다. 거래객체(ArrTx)는 ArrTxMngr의 API를 사용하여 획득한다'}\n",
            "{'text': ' . 거래내역생성\\n거래내역을 생성하기 위해서는 ArrTxMngr.createArrTx()를 사용한다\\n위의 예시에서 arr 객체생성과 arrTxMngr bean생성은 앞페이지의 인터페이스 사용방법과 동일하여 생략하였다\\n> 거래내역 생성을 위한 실제 코딩 예시는 개발자 메뉴얼 – 베이스컴포넌트 정의서 참조한다다'}\n"
          ]
        }
      ]
    },
    {
      "cell_type": "code",
      "source": [
        "print(len(documents))"
      ],
      "metadata": {
        "colab": {
          "base_uri": "https://localhost:8080/"
        },
        "id": "kcHElmtsFGZU",
        "outputId": "f82aefe2-125c-4d19-b8c9-1adcce2ce1a8"
      },
      "execution_count": 36,
      "outputs": [
        {
          "output_type": "stream",
          "name": "stdout",
          "text": [
            "33\n"
          ]
        }
      ]
    },
    {
      "cell_type": "markdown",
      "source": [
        "# API call"
      ],
      "metadata": {
        "id": "gFTRsNimFbbD"
      }
    },
    {
      "cell_type": "code",
      "source": [
        "results = []\n",
        "\n",
        "curr = 0\n",
        "\n",
        "for document in documents:\n",
        "    if curr % 10 == 0:\n",
        "      print(f\"Processed {curr} documents\")\n",
        "    curr += 1\n",
        "\n",
        "    PROMPT_CONTENT = \"\\n\".join([\n",
        "      PROMPT_CONTENT_FORMAT.format(document = document)\n",
        "    ])\n",
        "    instruction = PROMPT_PREFIX + PROMPT_CONTENT\n",
        "    result = get_completion(instruction)\n",
        "    results.append(result)"
      ],
      "metadata": {
        "colab": {
          "base_uri": "https://localhost:8080/"
        },
        "id": "mb8N6WPjFGfn",
        "outputId": "5b5db335-4133-4963-bb80-61572d25715a"
      },
      "execution_count": 37,
      "outputs": [
        {
          "output_type": "stream",
          "name": "stdout",
          "text": [
            "Processed 0 documents\n",
            "Processed 10 documents\n",
            "Processed 20 documents\n",
            "Processed 30 documents\n"
          ]
        }
      ]
    },
    {
      "cell_type": "code",
      "source": [
        "print(results[0][:2000])\n",
        "print(len(result))"
      ],
      "metadata": {
        "colab": {
          "base_uri": "https://localhost:8080/"
        },
        "id": "0DLiKEH1MO5-",
        "outputId": "ff02822e-0672-44e4-e360-0b7abb5bcf68"
      },
      "execution_count": 38,
      "outputs": [
        {
          "output_type": "stream",
          "name": "stdout",
          "text": [
            "```json\n",
            "{\"question\": \"거래내역 데이터 구조는 어떻게 구성되어 있나요?\", \"answer\": \"거래내역은 거래기본, 입출내역, 거래확장정보로 구성되어 있습니다.\"}\n",
            "{\"question\": \"거래기본 항목에는 어떤 정보가 포함되나요?\", \"answer\": \"거래기본 항목에는 계좌번호, 고객번호, 거래일, 거래상태, 상대거래정보가 포함됩니다.\"}\n",
            "{\"question\": \"입출내역 항목은 어떤 정보를 관리하나요?\", \"answer\": \"입출내역 항목은 금액유형별로 입금/출금 내역을 관리하며, 정기예금 해지 시 금액유형, 입출구분, 거래금액, 통화코드, 현금대체구분을 포함합니다.\"}\n",
            "{\"question\": \"거래확장정보에는 어떤 항목이 포함되나요?\", \"answer\": \"거래확장정보에는 전표구분코드와 해지구분코드가 포함됩니다.\"}\n",
            "{\"question\": \"정기예금 해지 시 입출내역 데이터의 예시는 어떻게 되나요?\", \"answer\": \"정기예금 해지 시 입출내역 데이터의 예시는 원금 출금 1,000,000 KRW, 수신이자 출금 10,000 KRW, 이자소득세 입금 1,400 KRW입니다.\"}\n",
            "{\"question\": \"거래내역을 저장하고 조회하기 위해 필요한 개념은 무엇인가요?\", \"answer\": \"거래내역을 저장하고 조회하기 위해서는 거래기본, 입출내역, 거래확장정보의 개념을 숙지해야 합니다.\"}\n",
            "{\"question\": \"거래기본 정보는 어떤 목적으로 사용되나요?\", \"answer\": \"거래기본 정보는 거래의 기본적인 정보를 관리하는 목적으로 사용됩니다.\"}\n",
            "{\"question\": \"입출내역 데이터는 어떤 상황에서 사용되나요?\", \"answer\": \"입출내역 데이터는 하나의 거래에서 발생하는 입금/출금 내역을 금액유형별로 관리하고, 계약의 잔액갱신 및 회계처리 시 사용됩니다.\"}\n",
            "{\"question\": \"거래확장정보는 왜 필요한가요?\", \"answer\": \"거래확장정보는 거래 기본정보 이외에 추가적으로 관리가 필요한 정보를 관리하기 위해 필요합니다.\"}\n",
            "{\"question\": \"입출내역 데이터의 주요 항목은 무엇인가요?\", \"answer\": \"입출내역 데이터의 주요 항목은 금액유형, 입출구분, 거래금액, 통화코드, 현금대체구분입니다.\"}\n",
            "```\n",
            "917\n"
          ]
        }
      ]
    },
    {
      "cell_type": "markdown",
      "source": [
        "# jsonl 파일 저장"
      ],
      "metadata": {
        "id": "-z76LjDaMH6C"
      }
    },
    {
      "cell_type": "code",
      "source": [
        "data_path = \"/content/drive/MyDrive/AI-modeling/BX-gpt-app/CBP-Certi-instruction-data-401toEND.jsonl\"\n",
        "\n",
        "with open(data_path, \"w\", encoding=\"utf-8\") as f:\n",
        "    for result in results:\n",
        "        for line in result.split(\"\\n\"):\n",
        "            f.write(line)\n",
        "            f.write(\"\\n\")"
      ],
      "metadata": {
        "id": "-G3g2qyoOeNF"
      },
      "execution_count": 39,
      "outputs": []
    },
    {
      "cell_type": "markdown",
      "source": [
        "# 전처리"
      ],
      "metadata": {
        "id": "Do9HuxQ_R6k1"
      }
    },
    {
      "cell_type": "markdown",
      "source": [
        "`\"{\\\"question\\\": \\\"어쩌구?\\\", \\\"answer\\\": \\\"저쩌구.\\\"}\"`\n",
        "\n",
        "위 포맷을 지켜야 함"
      ],
      "metadata": {
        "id": "cvj5u2HzUP22"
      }
    },
    {
      "cell_type": "code",
      "source": [
        "data_path = \"/content/drive/MyDrive/AI-modeling/BX-gpt-app/CBP-Certi-instruction-data-all.jsonl\"\n",
        "\n",
        "with open(data_path, \"r\", encoding=\"utf-8\") as f:\n",
        "  parsed = f.readlines()"
      ],
      "metadata": {
        "id": "qGpQ-lB2Tcue"
      },
      "execution_count": 40,
      "outputs": []
    },
    {
      "cell_type": "markdown",
      "source": [
        "제거 항목\n",
        "- [\n",
        "- ]\n",
        "- ```\n",
        "- ```json"
      ],
      "metadata": {
        "id": "w-sqPj_DTKkl"
      }
    },
    {
      "cell_type": "code",
      "source": [
        "# parsed = [lines.replace(\"\\n\", \"\") for lines in parsed if lines != \"\\n\"]\n",
        "\n",
        "preprocessed_parsed = []\n",
        "\n",
        "for line in parsed:\n",
        "  if line.startswith(\"[\") or line.endswith(\"]\") or line.startswith(\"```\") or line.endswith(\"```json\"):\n",
        "    continue\n",
        "\n",
        "  if line.startswith(\"]\"):\n",
        "    continue\n",
        "\n",
        "  if line == \"\\n\":\n",
        "    continue\n",
        "\n",
        "  line = line.replace(\"},\", \"}\")\n",
        "  line = line.replace(\"\\n\", \"\")\n",
        "\n",
        "  preprocessed_parsed.append(line)\n",
        "  # print(line)"
      ],
      "metadata": {
        "id": "xIqRjlKxSs1E"
      },
      "execution_count": 53,
      "outputs": []
    },
    {
      "cell_type": "code",
      "source": [
        "preprocessed_data_path = \"/content/drive/MyDrive/AI-modeling/BX-gpt-app/CBP-Certi-instruction-data-preprocessed.jsonl\"\n",
        "\n",
        "with open(preprocessed_data_path, \"w\", encoding=\"utf-8\") as f:\n",
        "  for line in preprocessed_parsed:\n",
        "      f.write(line)\n",
        "      f.write(\"\\n\")"
      ],
      "metadata": {
        "id": "Dtt36d2HWXTZ"
      },
      "execution_count": 55,
      "outputs": []
    },
    {
      "cell_type": "markdown",
      "source": [
        "# DataFrame\n",
        "\n",
        "`train.ipynb 에서 활용`"
      ],
      "metadata": {
        "id": "jAukEzskWJ6L"
      }
    },
    {
      "cell_type": "code",
      "source": [
        "import pandas as pd\n",
        "import json\n",
        "\n",
        "# 데이터 읽기\n",
        "data = []\n",
        "with open(preprocessed_data_path, \"r\", encoding=\"utf-8\") as f:\n",
        "    for line in f:\n",
        "        json_line = json.loads(line)\n",
        "        data.append({\n",
        "            \"question\": json_line[\"question\"],\n",
        "            \"answer\": json_line[\"answer\"]\n",
        "        })\n",
        "\n",
        "# 데이터셋 생성\n",
        "df = pd.DataFrame(data)\n",
        "# dataset = Dataset.from_pandas(df)\n",
        "df.head()"
      ],
      "metadata": {
        "colab": {
          "base_uri": "https://localhost:8080/",
          "height": 206
        },
        "id": "QjLnlVpBNaTT",
        "outputId": "c1fd6cfd-757a-42d9-e38d-b7daefecfd7d"
      },
      "execution_count": 56,
      "outputs": [
        {
          "output_type": "execute_result",
          "data": {
            "text/plain": [
              "                                question  \\\n",
              "0        우리나라 은행 IT 시스템의 발전 과정은 어떻게 되나요?   \n",
              "1           1세대 은행 IT 시스템의 주요 특징은 무엇인가요?   \n",
              "2     2세대 은행 IT 시스템의 비즈니스 모델 변화는 무엇이었나요?   \n",
              "3       3세대 은행 IT 시스템의 주요 기술 변화는 무엇이었나요?   \n",
              "4  포스트 차세대 은행 IT 시스템의 비즈니스 모델 변화는 무엇인가요?   \n",
              "\n",
              "                                              answer  \n",
              "0  1970년대 과목 별 온라인 시스템, 1980년대 종합 온라인 시스템, 1990년대...  \n",
              "1  전국 온라인 처리와 대량 거래 처리가 가능했으며, Mainframe과 Assembl...  \n",
              "2  창구 역할 변화, One stop service, 온라인 고객 정보 활용, 경영 정...  \n",
              "3  C/S(hetero 환경), HLL, C, web, Package 솔루션, CBD ...  \n",
              "4  융복합상품서비스, 지주사 차원 고객 통합서비스, 앱 금융서비스, 국외 업무 확산, ...  "
            ],
            "text/html": [
              "\n",
              "  <div id=\"df-edca4496-1111-41aa-81c4-96d850f782cd\" class=\"colab-df-container\">\n",
              "    <div>\n",
              "<style scoped>\n",
              "    .dataframe tbody tr th:only-of-type {\n",
              "        vertical-align: middle;\n",
              "    }\n",
              "\n",
              "    .dataframe tbody tr th {\n",
              "        vertical-align: top;\n",
              "    }\n",
              "\n",
              "    .dataframe thead th {\n",
              "        text-align: right;\n",
              "    }\n",
              "</style>\n",
              "<table border=\"1\" class=\"dataframe\">\n",
              "  <thead>\n",
              "    <tr style=\"text-align: right;\">\n",
              "      <th></th>\n",
              "      <th>question</th>\n",
              "      <th>answer</th>\n",
              "    </tr>\n",
              "  </thead>\n",
              "  <tbody>\n",
              "    <tr>\n",
              "      <th>0</th>\n",
              "      <td>우리나라 은행 IT 시스템의 발전 과정은 어떻게 되나요?</td>\n",
              "      <td>1970년대 과목 별 온라인 시스템, 1980년대 종합 온라인 시스템, 1990년대...</td>\n",
              "    </tr>\n",
              "    <tr>\n",
              "      <th>1</th>\n",
              "      <td>1세대 은행 IT 시스템의 주요 특징은 무엇인가요?</td>\n",
              "      <td>전국 온라인 처리와 대량 거래 처리가 가능했으며, Mainframe과 Assembl...</td>\n",
              "    </tr>\n",
              "    <tr>\n",
              "      <th>2</th>\n",
              "      <td>2세대 은행 IT 시스템의 비즈니스 모델 변화는 무엇이었나요?</td>\n",
              "      <td>창구 역할 변화, One stop service, 온라인 고객 정보 활용, 경영 정...</td>\n",
              "    </tr>\n",
              "    <tr>\n",
              "      <th>3</th>\n",
              "      <td>3세대 은행 IT 시스템의 주요 기술 변화는 무엇이었나요?</td>\n",
              "      <td>C/S(hetero 환경), HLL, C, web, Package 솔루션, CBD ...</td>\n",
              "    </tr>\n",
              "    <tr>\n",
              "      <th>4</th>\n",
              "      <td>포스트 차세대 은행 IT 시스템의 비즈니스 모델 변화는 무엇인가요?</td>\n",
              "      <td>융복합상품서비스, 지주사 차원 고객 통합서비스, 앱 금융서비스, 국외 업무 확산, ...</td>\n",
              "    </tr>\n",
              "  </tbody>\n",
              "</table>\n",
              "</div>\n",
              "    <div class=\"colab-df-buttons\">\n",
              "\n",
              "  <div class=\"colab-df-container\">\n",
              "    <button class=\"colab-df-convert\" onclick=\"convertToInteractive('df-edca4496-1111-41aa-81c4-96d850f782cd')\"\n",
              "            title=\"Convert this dataframe to an interactive table.\"\n",
              "            style=\"display:none;\">\n",
              "\n",
              "  <svg xmlns=\"http://www.w3.org/2000/svg\" height=\"24px\" viewBox=\"0 -960 960 960\">\n",
              "    <path d=\"M120-120v-720h720v720H120Zm60-500h600v-160H180v160Zm220 220h160v-160H400v160Zm0 220h160v-160H400v160ZM180-400h160v-160H180v160Zm440 0h160v-160H620v160ZM180-180h160v-160H180v160Zm440 0h160v-160H620v160Z\"/>\n",
              "  </svg>\n",
              "    </button>\n",
              "\n",
              "  <style>\n",
              "    .colab-df-container {\n",
              "      display:flex;\n",
              "      gap: 12px;\n",
              "    }\n",
              "\n",
              "    .colab-df-convert {\n",
              "      background-color: #E8F0FE;\n",
              "      border: none;\n",
              "      border-radius: 50%;\n",
              "      cursor: pointer;\n",
              "      display: none;\n",
              "      fill: #1967D2;\n",
              "      height: 32px;\n",
              "      padding: 0 0 0 0;\n",
              "      width: 32px;\n",
              "    }\n",
              "\n",
              "    .colab-df-convert:hover {\n",
              "      background-color: #E2EBFA;\n",
              "      box-shadow: 0px 1px 2px rgba(60, 64, 67, 0.3), 0px 1px 3px 1px rgba(60, 64, 67, 0.15);\n",
              "      fill: #174EA6;\n",
              "    }\n",
              "\n",
              "    .colab-df-buttons div {\n",
              "      margin-bottom: 4px;\n",
              "    }\n",
              "\n",
              "    [theme=dark] .colab-df-convert {\n",
              "      background-color: #3B4455;\n",
              "      fill: #D2E3FC;\n",
              "    }\n",
              "\n",
              "    [theme=dark] .colab-df-convert:hover {\n",
              "      background-color: #434B5C;\n",
              "      box-shadow: 0px 1px 3px 1px rgba(0, 0, 0, 0.15);\n",
              "      filter: drop-shadow(0px 1px 2px rgba(0, 0, 0, 0.3));\n",
              "      fill: #FFFFFF;\n",
              "    }\n",
              "  </style>\n",
              "\n",
              "    <script>\n",
              "      const buttonEl =\n",
              "        document.querySelector('#df-edca4496-1111-41aa-81c4-96d850f782cd button.colab-df-convert');\n",
              "      buttonEl.style.display =\n",
              "        google.colab.kernel.accessAllowed ? 'block' : 'none';\n",
              "\n",
              "      async function convertToInteractive(key) {\n",
              "        const element = document.querySelector('#df-edca4496-1111-41aa-81c4-96d850f782cd');\n",
              "        const dataTable =\n",
              "          await google.colab.kernel.invokeFunction('convertToInteractive',\n",
              "                                                    [key], {});\n",
              "        if (!dataTable) return;\n",
              "\n",
              "        const docLinkHtml = 'Like what you see? Visit the ' +\n",
              "          '<a target=\"_blank\" href=https://colab.research.google.com/notebooks/data_table.ipynb>data table notebook</a>'\n",
              "          + ' to learn more about interactive tables.';\n",
              "        element.innerHTML = '';\n",
              "        dataTable['output_type'] = 'display_data';\n",
              "        await google.colab.output.renderOutput(dataTable, element);\n",
              "        const docLink = document.createElement('div');\n",
              "        docLink.innerHTML = docLinkHtml;\n",
              "        element.appendChild(docLink);\n",
              "      }\n",
              "    </script>\n",
              "  </div>\n",
              "\n",
              "\n",
              "<div id=\"df-6aaf8a09-813d-46b3-9400-70ef45a5a3de\">\n",
              "  <button class=\"colab-df-quickchart\" onclick=\"quickchart('df-6aaf8a09-813d-46b3-9400-70ef45a5a3de')\"\n",
              "            title=\"Suggest charts\"\n",
              "            style=\"display:none;\">\n",
              "\n",
              "<svg xmlns=\"http://www.w3.org/2000/svg\" height=\"24px\"viewBox=\"0 0 24 24\"\n",
              "     width=\"24px\">\n",
              "    <g>\n",
              "        <path d=\"M19 3H5c-1.1 0-2 .9-2 2v14c0 1.1.9 2 2 2h14c1.1 0 2-.9 2-2V5c0-1.1-.9-2-2-2zM9 17H7v-7h2v7zm4 0h-2V7h2v10zm4 0h-2v-4h2v4z\"/>\n",
              "    </g>\n",
              "</svg>\n",
              "  </button>\n",
              "\n",
              "<style>\n",
              "  .colab-df-quickchart {\n",
              "      --bg-color: #E8F0FE;\n",
              "      --fill-color: #1967D2;\n",
              "      --hover-bg-color: #E2EBFA;\n",
              "      --hover-fill-color: #174EA6;\n",
              "      --disabled-fill-color: #AAA;\n",
              "      --disabled-bg-color: #DDD;\n",
              "  }\n",
              "\n",
              "  [theme=dark] .colab-df-quickchart {\n",
              "      --bg-color: #3B4455;\n",
              "      --fill-color: #D2E3FC;\n",
              "      --hover-bg-color: #434B5C;\n",
              "      --hover-fill-color: #FFFFFF;\n",
              "      --disabled-bg-color: #3B4455;\n",
              "      --disabled-fill-color: #666;\n",
              "  }\n",
              "\n",
              "  .colab-df-quickchart {\n",
              "    background-color: var(--bg-color);\n",
              "    border: none;\n",
              "    border-radius: 50%;\n",
              "    cursor: pointer;\n",
              "    display: none;\n",
              "    fill: var(--fill-color);\n",
              "    height: 32px;\n",
              "    padding: 0;\n",
              "    width: 32px;\n",
              "  }\n",
              "\n",
              "  .colab-df-quickchart:hover {\n",
              "    background-color: var(--hover-bg-color);\n",
              "    box-shadow: 0 1px 2px rgba(60, 64, 67, 0.3), 0 1px 3px 1px rgba(60, 64, 67, 0.15);\n",
              "    fill: var(--button-hover-fill-color);\n",
              "  }\n",
              "\n",
              "  .colab-df-quickchart-complete:disabled,\n",
              "  .colab-df-quickchart-complete:disabled:hover {\n",
              "    background-color: var(--disabled-bg-color);\n",
              "    fill: var(--disabled-fill-color);\n",
              "    box-shadow: none;\n",
              "  }\n",
              "\n",
              "  .colab-df-spinner {\n",
              "    border: 2px solid var(--fill-color);\n",
              "    border-color: transparent;\n",
              "    border-bottom-color: var(--fill-color);\n",
              "    animation:\n",
              "      spin 1s steps(1) infinite;\n",
              "  }\n",
              "\n",
              "  @keyframes spin {\n",
              "    0% {\n",
              "      border-color: transparent;\n",
              "      border-bottom-color: var(--fill-color);\n",
              "      border-left-color: var(--fill-color);\n",
              "    }\n",
              "    20% {\n",
              "      border-color: transparent;\n",
              "      border-left-color: var(--fill-color);\n",
              "      border-top-color: var(--fill-color);\n",
              "    }\n",
              "    30% {\n",
              "      border-color: transparent;\n",
              "      border-left-color: var(--fill-color);\n",
              "      border-top-color: var(--fill-color);\n",
              "      border-right-color: var(--fill-color);\n",
              "    }\n",
              "    40% {\n",
              "      border-color: transparent;\n",
              "      border-right-color: var(--fill-color);\n",
              "      border-top-color: var(--fill-color);\n",
              "    }\n",
              "    60% {\n",
              "      border-color: transparent;\n",
              "      border-right-color: var(--fill-color);\n",
              "    }\n",
              "    80% {\n",
              "      border-color: transparent;\n",
              "      border-right-color: var(--fill-color);\n",
              "      border-bottom-color: var(--fill-color);\n",
              "    }\n",
              "    90% {\n",
              "      border-color: transparent;\n",
              "      border-bottom-color: var(--fill-color);\n",
              "    }\n",
              "  }\n",
              "</style>\n",
              "\n",
              "  <script>\n",
              "    async function quickchart(key) {\n",
              "      const quickchartButtonEl =\n",
              "        document.querySelector('#' + key + ' button');\n",
              "      quickchartButtonEl.disabled = true;  // To prevent multiple clicks.\n",
              "      quickchartButtonEl.classList.add('colab-df-spinner');\n",
              "      try {\n",
              "        const charts = await google.colab.kernel.invokeFunction(\n",
              "            'suggestCharts', [key], {});\n",
              "      } catch (error) {\n",
              "        console.error('Error during call to suggestCharts:', error);\n",
              "      }\n",
              "      quickchartButtonEl.classList.remove('colab-df-spinner');\n",
              "      quickchartButtonEl.classList.add('colab-df-quickchart-complete');\n",
              "    }\n",
              "    (() => {\n",
              "      let quickchartButtonEl =\n",
              "        document.querySelector('#df-6aaf8a09-813d-46b3-9400-70ef45a5a3de button');\n",
              "      quickchartButtonEl.style.display =\n",
              "        google.colab.kernel.accessAllowed ? 'block' : 'none';\n",
              "    })();\n",
              "  </script>\n",
              "</div>\n",
              "\n",
              "    </div>\n",
              "  </div>\n"
            ],
            "application/vnd.google.colaboratory.intrinsic+json": {
              "type": "dataframe",
              "variable_name": "df",
              "summary": "{\n  \"name\": \"df\",\n  \"rows\": 5100,\n  \"fields\": [\n    {\n      \"column\": \"question\",\n      \"properties\": {\n        \"dtype\": \"string\",\n        \"num_unique_values\": 4645,\n        \"samples\": [\n          \"\\ubc30\\ud3ec\\uacfc\\uc81c\\ub85c \\uc778\\ud574 \\ubcc0\\uacbd\\ub41c \\ub370\\uc774\\ud130\\uc758 \\uc6d0\\ubcf5 \\uae30\\ub2a5\\uc740 \\uc5b4\\ub5a4 \\uc0c1\\ud669\\uc5d0\\uc11c \\uc0ac\\uc6a9\\ub418\\ub098\\uc694?\",\n          \"BX CBP \\uc194\\ub8e8\\uc158\\uc5d0\\uc11c \\uacf5\\ud1b5 \\uc694\\uad6c\\uc0ac\\ud56d\\uc740 \\ubb34\\uc5c7\\uc778\\uac00\\uc694?\",\n          \"\\uc77c\\uc790\\uc815\\ubcf4 \\ud654\\uba74\\uc740 \\uc5b4\\ub5a4 \\uba54\\ub274\\uc5d0 \\uc788\\ub098\\uc694?\"\n        ],\n        \"semantic_type\": \"\",\n        \"description\": \"\"\n      }\n    },\n    {\n      \"column\": \"answer\",\n      \"properties\": {\n        \"dtype\": \"string\",\n        \"num_unique_values\": 4693,\n        \"samples\": [\n          \"'\\uc5c5\\ubb34\\uc11c\\ube44\\uc2a4\\ubc18\\uc601'\\uc5d0 \\uc758\\ud574 \\ubcc0\\uacbd\\ub418\\ubbc0\\ub85c \\uc218\\uc815\\ud560 \\uc218 \\uc5c6\\uc2b5\\ub2c8\\ub2e4.\",\n          \"\\uc0c1\\ud488\\uc5d0\\uc11c \\ud15c\\ud50c\\ub9bf \\uae30\\ubc18\\uc73c\\ub85c \\ub9cc\\ub4e4\\uc5b4\\uc9c0\\ub294 \\uac83\\uc740 \\ud310\\ub9e4\\uc0c1\\ud488\\uc785\\ub2c8\\ub2e4.\",\n          \"\\ub450 \\ubc88\\uc9f8 \\ub2e8\\uacc4\\ub294 \\uc870\\ud68c \\uacb0\\uacfc\\ub97c \\ud655\\uc778\\ud558\\uace0, \\uc5c5\\ubb34\\uc11c\\ube44\\uc2a4\\uac00 \\ub9de\\ub294\\uc9c0 \\ud655\\uc778\\ud55c \\ud6c4 [\\uc800\\uc7a5] \\uc544\\uc774\\ucf58\\uc744 \\ud074\\ub9ad\\ud558\\ub294 \\uac83\\uc785\\ub2c8\\ub2e4.\"\n        ],\n        \"semantic_type\": \"\",\n        \"description\": \"\"\n      }\n    }\n  ]\n}"
            }
          },
          "metadata": {},
          "execution_count": 56
        }
      ]
    },
    {
      "cell_type": "code",
      "source": [
        "df.shape"
      ],
      "metadata": {
        "colab": {
          "base_uri": "https://localhost:8080/"
        },
        "id": "kOrE9-3pGelt",
        "outputId": "dd5ae9b6-9da8-4963-ce7b-c1aa3d3545d0"
      },
      "execution_count": 57,
      "outputs": [
        {
          "output_type": "execute_result",
          "data": {
            "text/plain": [
              "(5100, 2)"
            ]
          },
          "metadata": {},
          "execution_count": 57
        }
      ]
    }
  ]
}