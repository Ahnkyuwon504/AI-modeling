{
  "nbformat": 4,
  "nbformat_minor": 0,
  "metadata": {
    "colab": {
      "provenance": [],
      "authorship_tag": "ABX9TyOV4QvKlXbae3UwZitAMTU1",
      "include_colab_link": true
    },
    "kernelspec": {
      "name": "python3",
      "display_name": "Python 3"
    },
    "language_info": {
      "name": "python"
    }
  },
  "cells": [
    {
      "cell_type": "markdown",
      "metadata": {
        "id": "view-in-github",
        "colab_type": "text"
      },
      "source": [
        "<a href=\"https://colab.research.google.com/github/Ahnkyuwon504/AI-modeling/blob/main/ChatGPT%20app/chat_gradio_multi_turn.ipynb\" target=\"_parent\"><img src=\"https://colab.research.google.com/assets/colab-badge.svg\" alt=\"Open In Colab\"/></a>"
      ]
    },
    {
      "cell_type": "code",
      "execution_count": null,
      "metadata": {
        "id": "b9byT46kVpnj"
      },
      "outputs": [],
      "source": [
        "단축키 업데이트 … 2024년 8월 1일 목요일부터 첫 글자를 탐색할 수 있도록 Drive 단축키가 업데이트됩니다.자세히 알아보기\n",
        "chat_gradio_multi_turn.py\n",
        "# 스트림\n",
        "\n",
        "import gradio as gr\n",
        "import random\n",
        "import time\n",
        "\n",
        "import os\n",
        "import openai\n",
        "\n",
        "openai.api_key = os.getenv(\"OPENAI_API_KEY\")\n",
        "\n",
        "def create_generator(history):\n",
        "    chat_logs = []\n",
        "\n",
        "    for item in history:\n",
        "        if item[0] is not None: # 사용자\n",
        "            message =  {\n",
        "              \"role\": \"user\",\n",
        "              \"content\": item[0]\n",
        "            }\n",
        "            chat_logs.append(message)\n",
        "        if item[1] is not None: # 챗봇\n",
        "            message =  {\n",
        "              \"role\": \"assistant\",\n",
        "              \"content\": item[1]\n",
        "            }\n",
        "            chat_logs.append(message)\n",
        "\n",
        "    messages=[\n",
        "        {\n",
        "          \"role\": \"system\",\n",
        "          \"content\": \"당신은 친절한 어시스턴트입니다. 사용자의 질문에 친절하게 대답하세요.\"\n",
        "        }\n",
        "    ]\n",
        "    messages.extend(chat_logs)\n",
        "\n",
        "    gen = openai.chat.completions.create(\n",
        "      model=\"gpt-3.5-turbo\",\n",
        "      messages=messages,\n",
        "      temperature=0.5,\n",
        "      max_tokens=512,\n",
        "      top_p=1,\n",
        "      frequency_penalty=0,\n",
        "      presence_penalty=0,\n",
        "      stream=True\n",
        "    )\n",
        "    return gen\n",
        "\n",
        "with gr.Blocks() as demo:\n",
        "    chatbot = gr.Chatbot()\n",
        "    msg = gr.Textbox()\n",
        "    clear = gr.Button(\"Clear\")\n",
        "\n",
        "    def user(user_message, history):\n",
        "        return \"\", history + [[user_message, None]]\n",
        "\n",
        "    def bot(history):\n",
        "        gen = create_generator(history)\n",
        "        history[-1][1] = \"\"\n",
        "        while True:\n",
        "            response = next(gen)\n",
        "            delta = response.choices[0].delta\n",
        "            if delta.content is not None:\n",
        "                history[-1][1] += delta.content\n",
        "            else:\n",
        "                break\n",
        "            yield history\n",
        "\n",
        "    msg.submit(user, [msg, chatbot], [msg, chatbot], queue=False).then(\n",
        "        bot, chatbot, chatbot\n",
        "    )\n",
        "    clear.click(lambda: None, None, chatbot, queue=False)\n",
        "\n",
        "demo.queue()\n",
        "demo.launch(server_name='0.0.0.0')"
      ]
    }
  ]
}