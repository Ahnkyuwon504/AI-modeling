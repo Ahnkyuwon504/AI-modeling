{
  "cells": [
    {
      "cell_type": "markdown",
      "metadata": {
        "id": "view-in-github",
        "colab_type": "text"
      },
      "source": [
        "<a href=\"https://colab.research.google.com/github/Ahnkyuwon504/AI-modeling/blob/main/ChatGPT%20app/3_1_function.ipynb\" target=\"_parent\"><img src=\"https://colab.research.google.com/assets/colab-badge.svg\" alt=\"Open In Colab\"/></a>"
      ]
    },
    {
      "cell_type": "code",
      "execution_count": null,
      "metadata": {
        "id": "nDhGvdv1EN5b"
      },
      "outputs": [],
      "source": [
        "import os\n",
        "import json\n",
        "from openai import OpenAI\n",
        "\n",
        "client = OpenAI()\n",
        "client.api_key = os.getenv(\"OPENAI_API_KEY\")"
      ]
    },
    {
      "cell_type": "code",
      "execution_count": null,
      "metadata": {
        "id": "zbxDaWS4EN5f"
      },
      "outputs": [],
      "source": [
        "\n",
        "def get_current_weather(location, unit=\"섭씨\"):\n",
        "    weather_info = {\n",
        "        \"location\": location,\n",
        "        \"temperature\": \"24\",\n",
        "        \"unit\": unit,\n",
        "        \"forecast\": [\"sunny\", \"windy\"],\n",
        "    }\n",
        "    return json.dumps(weather_info)\n",
        "\n",
        "messages = [{\"role\": \"user\", \"content\": \"지금 서울날씨를 섭씨로 알려줘.\"}]\n",
        "functions = [\n",
        "    {\n",
        "        \"name\": \"get_current_weather\",\n",
        "        \"description\": \"특정 지역의 날씨를 알려줍니다.\",\n",
        "        \"parameters\": {\n",
        "            \"type\": \"object\",\n",
        "            \"properties\": {\n",
        "                \"location\": {\n",
        "                    \"type\": \"string\",\n",
        "                    \"description\": \"지역이름. 예) 서울, 부산, 제주도\",\n",
        "                },\n",
        "                \"unit\": {\"type\": \"string\", \"enum\": [\"섭씨\", \"화씨\"]},\n",
        "            },\n",
        "            \"required\": [\"location\"],\n",
        "        },\n",
        "    }\n",
        "]"
      ]
    },
    {
      "cell_type": "code",
      "execution_count": null,
      "metadata": {
        "id": "idB0stw-EN5i",
        "outputId": "f4234055-afc8-44da-b46c-6d2629a78375"
      },
      "outputs": [
        {
          "name": "stdout",
          "output_type": "stream",
          "text": [
            "ChatCompletionMessage(content=None, role='assistant', function_call=FunctionCall(arguments='{\"location\":\"서울\",\"unit\":\"섭씨\"}', name='get_current_weather'), tool_calls=None)\n"
          ]
        }
      ],
      "source": [
        "response = client.chat.completions.create(\n",
        "    model=\"gpt-3.5-turbo\",\n",
        "    messages=messages,\n",
        "    functions=functions,\n",
        "    function_call=\"auto\",\n",
        "    )\n",
        "response_message = response.choices[0].message\n",
        "print(response_message)"
      ]
    },
    {
      "cell_type": "code",
      "execution_count": null,
      "metadata": {
        "id": "spScyK5HEN5l",
        "outputId": "f05e4c7e-e497-4d8e-ebe1-bc1bee81add7"
      },
      "outputs": [
        {
          "name": "stdout",
          "output_type": "stream",
          "text": [
            "지금 서울의 날씨는 맑고 바람이 많이 부는데, 온도는 섭씨 24도 입니다.\n"
          ]
        }
      ],
      "source": [
        "if response_message.function_call is not None:\n",
        "    # Note: the JSON response may not always be valid; be sure to handle errors\n",
        "    available_functions = {\n",
        "        \"get_current_weather\": get_current_weather,\n",
        "    }\n",
        "    function_name = response_message.function_call.name\n",
        "    function_to_call = available_functions[function_name]\n",
        "    function_args = json.loads(response_message.function_call.arguments)\n",
        "    function_response = function_to_call(\n",
        "        location=function_args['location'],\n",
        "        unit=function_args['unit']\n",
        "    )\n",
        "\n",
        "    messages.append(response_message)\n",
        "    messages.append(\n",
        "        {\n",
        "            \"role\": \"function\",\n",
        "            \"name\": function_name,\n",
        "            \"content\": function_response,\n",
        "        }\n",
        "    )\n",
        "    second_response = client.chat.completions.create(\n",
        "        model=\"gpt-3.5-turbo\",\n",
        "        messages=messages,\n",
        "    )  # get a new response from GPT where it can see the function response\n",
        "\n",
        "    print(second_response.choices[0].message.content)"
      ]
    },
    {
      "cell_type": "code",
      "execution_count": null,
      "metadata": {
        "id": "hVmlDlWOEN5m",
        "outputId": "0fbcd68a-fbf3-463d-c2e7-95664bfd7e21"
      },
      "outputs": [
        {
          "name": "stdout",
          "output_type": "stream",
          "text": [
            "ChatCompletionMessage(content=None, role='assistant', function_call=None, tool_calls=[ChatCompletionMessageToolCall(id='call_1UCtSvDJGOvv7e53cLk4df3m', function=Function(arguments='{\"location\":\"대전\",\"unit\":\"섭씨\"}', name='get_current_weather'), type='function')])\n",
            "ChatCompletionMessageToolCall(id='call_1UCtSvDJGOvv7e53cLk4df3m', function=Function(arguments='{\"location\":\"대전\",\"unit\":\"섭씨\"}', name='get_current_weather'), type='function')\n",
            "<class 'openai.types.chat.chat_completion_message_tool_call.ChatCompletionMessageToolCall'>\n",
            "<class 'openai.types.chat.chat_completion_message_tool_call.Function'>\n"
          ]
        }
      ],
      "source": [
        "messages = [{\"role\": \"user\", \"content\": \"지금 대전 날씨를 섭씨로 알려줘.\"}]\n",
        "tools = [\n",
        "    {\n",
        "        \"type\": \"function\",\n",
        "        \"function\":\n",
        "        {\n",
        "            \"name\": \"get_current_weather\",\n",
        "            \"description\": \"특정 지역의 날씨를 알려줍니다.\",\n",
        "            \"parameters\": {\n",
        "                \"type\": \"object\",\n",
        "                \"properties\": {\n",
        "                    \"location\": {\n",
        "                        \"type\": \"string\",\n",
        "                        \"description\": \"지역이름. 예) 서울, 부산, 제주도\",\n",
        "                    },\n",
        "                    \"unit\": {\"type\": \"string\", \"enum\": [\"섭씨\", \"화씨\"]},\n",
        "                },\n",
        "                \"required\": [\"location\"],\n",
        "            },\n",
        "        }\n",
        "    }\n",
        "]\n",
        "\n",
        "response = client.chat.completions.create(\n",
        "    model=\"gpt-3.5-turbo\",\n",
        "    messages=messages,\n",
        "    tools=tools,\n",
        "    tool_choice=\"auto\" if tools is not None else None\n",
        "    )\n",
        "response_message = response.choices[0].message\n",
        "print(response_message)\n",
        "print(response_message.tool_calls[0])\n",
        "print(type(response_message.tool_calls[0]))\n",
        "print(type(response_message.tool_calls[0].function))"
      ]
    },
    {
      "cell_type": "code",
      "execution_count": null,
      "metadata": {
        "id": "XgDMqB67EN5o",
        "outputId": "420a0633-fe66-4591-e4d5-b388859eec6b"
      },
      "outputs": [
        {
          "name": "stdout",
          "output_type": "stream",
          "text": [
            "지금 대전의 온도는 섭씨 24도이며 맑고 바람이 많이 불고 있습니다.\n"
          ]
        }
      ],
      "source": [
        "available_functions = {\n",
        "    \"get_current_weather\": get_current_weather,\n",
        "}\n",
        "\n",
        "for tool_call in response_message.tool_calls:\n",
        "    function_name = tool_call.function.name\n",
        "    function_to_call = available_functions[function_name]\n",
        "    function_args = json.loads(tool_call.function.arguments)\n",
        "    function_response = function_to_call(\n",
        "        location=function_args['location'],\n",
        "        unit=function_args['unit']\n",
        "    )\n",
        "    messages.append(\n",
        "        {\n",
        "            \"tool_call_id\": tool_call.id,\n",
        "            \"role\": \"function\",\n",
        "            \"name\": function_name,\n",
        "            \"content\": json.dumps(function_response, ensure_ascii=False)\n",
        "        }\n",
        "    )\n",
        "\n",
        "second_response = client.chat.completions.create(\n",
        "    model=\"gpt-3.5-turbo\",\n",
        "    messages=messages,\n",
        ")\n",
        "print(second_response.choices[0].message.content)"
      ]
    },
    {
      "cell_type": "code",
      "execution_count": null,
      "metadata": {
        "id": "ng4u8AyoEN5p"
      },
      "outputs": [],
      "source": []
    }
  ],
  "metadata": {
    "kernelspec": {
      "display_name": "Python 3",
      "language": "python",
      "name": "python3"
    },
    "language_info": {
      "codemirror_mode": {
        "name": "ipython",
        "version": 3
      },
      "file_extension": ".py",
      "mimetype": "text/x-python",
      "name": "python",
      "nbconvert_exporter": "python",
      "pygments_lexer": "ipython3",
      "version": "3.10.12"
    },
    "colab": {
      "provenance": [],
      "include_colab_link": true
    }
  },
  "nbformat": 4,
  "nbformat_minor": 0
}