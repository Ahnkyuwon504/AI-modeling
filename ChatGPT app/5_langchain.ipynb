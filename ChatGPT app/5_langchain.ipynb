{
  "cells": [
    {
      "cell_type": "code",
      "execution_count": null,
      "id": "967c53a9-cb65-49a5-99f4-145651f38bcc",
      "metadata": {
        "id": "967c53a9-cb65-49a5-99f4-145651f38bcc",
        "outputId": "0d4ebd38-fa5d-4cfb-f9dd-c94912d6dfad"
      },
      "outputs": [
        {
          "name": "stdout",
          "output_type": "stream",
          "text": [
            "Defaulting to user installation because normal site-packages is not writeable\n",
            "Requirement already satisfied: openai in /home/ubuntu/.local/lib/python3.10/site-packages (1.30.1)\n",
            "Requirement already satisfied: pydantic<3,>=1.9.0 in /usr/local/lib/python3.10/dist-packages (from openai) (2.6.4)\n",
            "Requirement already satisfied: distro<2,>=1.7.0 in /usr/local/lib/python3.10/dist-packages (from openai) (1.9.0)\n",
            "Requirement already satisfied: tqdm>4 in /home/ubuntu/.local/lib/python3.10/site-packages (from openai) (4.66.4)\n",
            "Requirement already satisfied: sniffio in /usr/local/lib/python3.10/dist-packages (from openai) (1.3.1)\n",
            "Requirement already satisfied: anyio<5,>=3.5.0 in /usr/local/lib/python3.10/dist-packages (from openai) (4.3.0)\n",
            "Requirement already satisfied: typing-extensions<5,>=4.7 in /usr/local/lib/python3.10/dist-packages (from openai) (4.11.0)\n",
            "Requirement already satisfied: httpx<1,>=0.23.0 in /home/ubuntu/.local/lib/python3.10/site-packages (from openai) (0.27.0)\n",
            "Requirement already satisfied: idna>=2.8 in /usr/local/lib/python3.10/dist-packages (from anyio<5,>=3.5.0->openai) (3.7)\n",
            "Requirement already satisfied: exceptiongroup>=1.0.2 in /usr/local/lib/python3.10/dist-packages (from anyio<5,>=3.5.0->openai) (1.2.0)\n",
            "Requirement already satisfied: certifi in /home/ubuntu/.local/lib/python3.10/site-packages (from httpx<1,>=0.23.0->openai) (2024.2.2)\n",
            "Requirement already satisfied: httpcore==1.* in /home/ubuntu/.local/lib/python3.10/site-packages (from httpx<1,>=0.23.0->openai) (1.0.5)\n",
            "Requirement already satisfied: h11<0.15,>=0.13 in /usr/local/lib/python3.10/dist-packages (from httpcore==1.*->httpx<1,>=0.23.0->openai) (0.14.0)\n",
            "Requirement already satisfied: pydantic-core==2.16.3 in /usr/local/lib/python3.10/dist-packages (from pydantic<3,>=1.9.0->openai) (2.16.3)\n",
            "Requirement already satisfied: annotated-types>=0.4.0 in /usr/local/lib/python3.10/dist-packages (from pydantic<3,>=1.9.0->openai) (0.6.0)\n",
            "Defaulting to user installation because normal site-packages is not writeable\n",
            "Requirement already satisfied: langchain in /home/ubuntu/.local/lib/python3.10/site-packages (0.2.0)\n",
            "Requirement already satisfied: async-timeout<5.0.0,>=4.0.0 in /home/ubuntu/.local/lib/python3.10/site-packages (from langchain) (4.0.3)\n",
            "Requirement already satisfied: langchain-text-splitters<0.3.0,>=0.2.0 in /home/ubuntu/.local/lib/python3.10/site-packages (from langchain) (0.2.0)\n",
            "Requirement already satisfied: PyYAML>=5.3 in /usr/local/lib/python3.10/dist-packages (from langchain) (6.0.1)\n",
            "Requirement already satisfied: dataclasses-json<0.7,>=0.5.7 in /home/ubuntu/.local/lib/python3.10/site-packages (from langchain) (0.6.6)\n",
            "Requirement already satisfied: aiohttp<4.0.0,>=3.8.3 in /home/ubuntu/.local/lib/python3.10/site-packages (from langchain) (3.9.5)\n",
            "Requirement already satisfied: requests<3,>=2 in /usr/local/lib/python3.10/dist-packages (from langchain) (2.31.0)\n",
            "Requirement already satisfied: tenacity<9.0.0,>=8.1.0 in /home/ubuntu/.local/lib/python3.10/site-packages (from langchain) (8.3.0)\n",
            "Requirement already satisfied: langchain-core<0.3.0,>=0.2.0 in /home/ubuntu/.local/lib/python3.10/site-packages (from langchain) (0.2.1)\n",
            "Requirement already satisfied: pydantic<3,>=1 in /usr/local/lib/python3.10/dist-packages (from langchain) (2.6.4)\n",
            "Requirement already satisfied: SQLAlchemy<3,>=1.4 in /home/ubuntu/.local/lib/python3.10/site-packages (from langchain) (2.0.30)\n",
            "Requirement already satisfied: langsmith<0.2.0,>=0.1.17 in /home/ubuntu/.local/lib/python3.10/site-packages (from langchain) (0.1.59)\n",
            "Requirement already satisfied: numpy<2,>=1 in /usr/local/lib/python3.10/dist-packages (from langchain) (1.26.4)\n",
            "Requirement already satisfied: multidict<7.0,>=4.5 in /home/ubuntu/.local/lib/python3.10/site-packages (from aiohttp<4.0.0,>=3.8.3->langchain) (6.0.5)\n",
            "Requirement already satisfied: frozenlist>=1.1.1 in /home/ubuntu/.local/lib/python3.10/site-packages (from aiohttp<4.0.0,>=3.8.3->langchain) (1.4.1)\n",
            "Requirement already satisfied: attrs>=17.3.0 in /home/ubuntu/.local/lib/python3.10/site-packages (from aiohttp<4.0.0,>=3.8.3->langchain) (23.2.0)\n",
            "Requirement already satisfied: yarl<2.0,>=1.0 in /home/ubuntu/.local/lib/python3.10/site-packages (from aiohttp<4.0.0,>=3.8.3->langchain) (1.9.4)\n",
            "Requirement already satisfied: aiosignal>=1.1.2 in /home/ubuntu/.local/lib/python3.10/site-packages (from aiohttp<4.0.0,>=3.8.3->langchain) (1.3.1)\n",
            "Requirement already satisfied: typing-inspect<1,>=0.4.0 in /home/ubuntu/.local/lib/python3.10/site-packages (from dataclasses-json<0.7,>=0.5.7->langchain) (0.9.0)\n",
            "Requirement already satisfied: marshmallow<4.0.0,>=3.18.0 in /home/ubuntu/.local/lib/python3.10/site-packages (from dataclasses-json<0.7,>=0.5.7->langchain) (3.21.2)\n",
            "Requirement already satisfied: packaging<24.0,>=23.2 in /home/ubuntu/.local/lib/python3.10/site-packages (from langchain-core<0.3.0,>=0.2.0->langchain) (23.2)\n",
            "Requirement already satisfied: jsonpatch<2.0,>=1.33 in /home/ubuntu/.local/lib/python3.10/site-packages (from langchain-core<0.3.0,>=0.2.0->langchain) (1.33)\n",
            "Requirement already satisfied: orjson<4.0.0,>=3.9.14 in /home/ubuntu/.local/lib/python3.10/site-packages (from langsmith<0.2.0,>=0.1.17->langchain) (3.10.3)\n",
            "Requirement already satisfied: pydantic-core==2.16.3 in /usr/local/lib/python3.10/dist-packages (from pydantic<3,>=1->langchain) (2.16.3)\n",
            "Requirement already satisfied: annotated-types>=0.4.0 in /usr/local/lib/python3.10/dist-packages (from pydantic<3,>=1->langchain) (0.6.0)\n",
            "Requirement already satisfied: typing-extensions>=4.6.1 in /usr/local/lib/python3.10/dist-packages (from pydantic<3,>=1->langchain) (4.11.0)\n",
            "Requirement already satisfied: certifi>=2017.4.17 in /home/ubuntu/.local/lib/python3.10/site-packages (from requests<3,>=2->langchain) (2024.2.2)\n",
            "Requirement already satisfied: urllib3<3,>=1.21.1 in /usr/local/lib/python3.10/dist-packages (from requests<3,>=2->langchain) (2.2.1)\n",
            "Requirement already satisfied: idna<4,>=2.5 in /usr/local/lib/python3.10/dist-packages (from requests<3,>=2->langchain) (3.7)\n",
            "Requirement already satisfied: charset-normalizer<4,>=2 in /usr/local/lib/python3.10/dist-packages (from requests<3,>=2->langchain) (3.3.2)\n",
            "Requirement already satisfied: greenlet!=0.4.17 in /home/ubuntu/.local/lib/python3.10/site-packages (from SQLAlchemy<3,>=1.4->langchain) (3.0.3)\n",
            "Requirement already satisfied: jsonpointer>=1.9 in /home/ubuntu/.local/lib/python3.10/site-packages (from jsonpatch<2.0,>=1.33->langchain-core<0.3.0,>=0.2.0->langchain) (2.4)\n",
            "Requirement already satisfied: mypy-extensions>=0.3.0 in /home/ubuntu/.local/lib/python3.10/site-packages (from typing-inspect<1,>=0.4.0->dataclasses-json<0.7,>=0.5.7->langchain) (1.0.0)\n"
          ]
        }
      ],
      "source": [
        "!pip install openai\n",
        "!pip install langchain"
      ]
    },
    {
      "cell_type": "code",
      "execution_count": null,
      "id": "020041bc-3149-4195-b28f-4d38c65cbc4b",
      "metadata": {
        "id": "020041bc-3149-4195-b28f-4d38c65cbc4b",
        "outputId": "9f996142-94d8-4d88-c3ca-31404269420a"
      },
      "outputs": [
        {
          "name": "stdout",
          "output_type": "stream",
          "text": [
            "Defaulting to user installation because normal site-packages is not writeable\n",
            "Requirement already satisfied: google-search-results in /home/ubuntu/.local/lib/python3.10/site-packages (2.4.2)\n",
            "Requirement already satisfied: requests in /usr/local/lib/python3.10/dist-packages (from google-search-results) (2.31.0)\n",
            "Requirement already satisfied: urllib3<3,>=1.21.1 in /usr/local/lib/python3.10/dist-packages (from requests->google-search-results) (2.2.1)\n",
            "Requirement already satisfied: certifi>=2017.4.17 in /home/ubuntu/.local/lib/python3.10/site-packages (from requests->google-search-results) (2024.2.2)\n",
            "Requirement already satisfied: idna<4,>=2.5 in /usr/local/lib/python3.10/dist-packages (from requests->google-search-results) (3.7)\n",
            "Requirement already satisfied: charset-normalizer<4,>=2 in /usr/local/lib/python3.10/dist-packages (from requests->google-search-results) (3.3.2)\n",
            "Defaulting to user installation because normal site-packages is not writeable\n",
            "Requirement already satisfied: wikipedia in /home/ubuntu/.local/lib/python3.10/site-packages (1.4.0)\n",
            "Requirement already satisfied: requests<3.0.0,>=2.0.0 in /usr/local/lib/python3.10/dist-packages (from wikipedia) (2.31.0)\n",
            "Requirement already satisfied: beautifulsoup4 in /usr/local/lib/python3.10/dist-packages (from wikipedia) (4.12.3)\n",
            "Requirement already satisfied: certifi>=2017.4.17 in /home/ubuntu/.local/lib/python3.10/site-packages (from requests<3.0.0,>=2.0.0->wikipedia) (2024.2.2)\n",
            "Requirement already satisfied: urllib3<3,>=1.21.1 in /usr/local/lib/python3.10/dist-packages (from requests<3.0.0,>=2.0.0->wikipedia) (2.2.1)\n",
            "Requirement already satisfied: idna<4,>=2.5 in /usr/local/lib/python3.10/dist-packages (from requests<3.0.0,>=2.0.0->wikipedia) (3.7)\n",
            "Requirement already satisfied: charset-normalizer<4,>=2 in /usr/local/lib/python3.10/dist-packages (from requests<3.0.0,>=2.0.0->wikipedia) (3.3.2)\n",
            "Requirement already satisfied: soupsieve>1.2 in /usr/local/lib/python3.10/dist-packages (from beautifulsoup4->wikipedia) (2.5)\n",
            "Defaulting to user installation because normal site-packages is not writeable\n",
            "Requirement already satisfied: faiss-cpu in /home/ubuntu/.local/lib/python3.10/site-packages (1.8.0)\n",
            "Requirement already satisfied: numpy in /usr/local/lib/python3.10/dist-packages (from faiss-cpu) (1.26.4)\n",
            "Defaulting to user installation because normal site-packages is not writeable\n",
            "Requirement already satisfied: sentence_transformers in /home/ubuntu/.local/lib/python3.10/site-packages (2.7.0)\n",
            "Requirement already satisfied: numpy in /usr/local/lib/python3.10/dist-packages (from sentence_transformers) (1.26.4)\n",
            "Requirement already satisfied: huggingface-hub>=0.15.1 in /usr/local/lib/python3.10/dist-packages (from sentence_transformers) (0.23.0)\n",
            "Requirement already satisfied: scipy in /home/ubuntu/.local/lib/python3.10/site-packages (from sentence_transformers) (1.13.0)\n",
            "Requirement already satisfied: Pillow in /home/ubuntu/.local/lib/python3.10/site-packages (from sentence_transformers) (10.3.0)\n",
            "Requirement already satisfied: tqdm in /home/ubuntu/.local/lib/python3.10/site-packages (from sentence_transformers) (4.66.4)\n",
            "Requirement already satisfied: torch>=1.11.0 in /home/ubuntu/.local/lib/python3.10/site-packages (from sentence_transformers) (2.3.0)\n",
            "Requirement already satisfied: transformers<5.0.0,>=4.34.0 in /home/ubuntu/.local/lib/python3.10/site-packages (from sentence_transformers) (4.38.2)\n",
            "Requirement already satisfied: scikit-learn in /home/ubuntu/.local/lib/python3.10/site-packages (from sentence_transformers) (1.5.0)\n",
            "Requirement already satisfied: typing-extensions>=3.7.4.3 in /usr/local/lib/python3.10/dist-packages (from huggingface-hub>=0.15.1->sentence_transformers) (4.11.0)\n",
            "Requirement already satisfied: packaging>=20.9 in /home/ubuntu/.local/lib/python3.10/site-packages (from huggingface-hub>=0.15.1->sentence_transformers) (23.2)\n",
            "Requirement already satisfied: filelock in /usr/local/lib/python3.10/dist-packages (from huggingface-hub>=0.15.1->sentence_transformers) (3.14.0)\n",
            "Requirement already satisfied: requests in /usr/local/lib/python3.10/dist-packages (from huggingface-hub>=0.15.1->sentence_transformers) (2.31.0)\n",
            "Requirement already satisfied: fsspec>=2023.5.0 in /home/ubuntu/.local/lib/python3.10/site-packages (from huggingface-hub>=0.15.1->sentence_transformers) (2024.2.0)\n",
            "Requirement already satisfied: pyyaml>=5.1 in /usr/local/lib/python3.10/dist-packages (from huggingface-hub>=0.15.1->sentence_transformers) (6.0.1)\n",
            "Requirement already satisfied: nvidia-cufft-cu12==11.0.2.54 in /home/ubuntu/.local/lib/python3.10/site-packages (from torch>=1.11.0->sentence_transformers) (11.0.2.54)\n",
            "Requirement already satisfied: nvidia-cuda-nvrtc-cu12==12.1.105 in /home/ubuntu/.local/lib/python3.10/site-packages (from torch>=1.11.0->sentence_transformers) (12.1.105)\n",
            "Requirement already satisfied: jinja2 in /usr/local/lib/python3.10/dist-packages (from torch>=1.11.0->sentence_transformers) (3.1.3)\n",
            "Requirement already satisfied: sympy in /home/ubuntu/.local/lib/python3.10/site-packages (from torch>=1.11.0->sentence_transformers) (1.12)\n",
            "Requirement already satisfied: nvidia-cusolver-cu12==11.4.5.107 in /home/ubuntu/.local/lib/python3.10/site-packages (from torch>=1.11.0->sentence_transformers) (11.4.5.107)\n",
            "Requirement already satisfied: nvidia-cusparse-cu12==12.1.0.106 in /home/ubuntu/.local/lib/python3.10/site-packages (from torch>=1.11.0->sentence_transformers) (12.1.0.106)\n",
            "Requirement already satisfied: nvidia-cudnn-cu12==8.9.2.26 in /home/ubuntu/.local/lib/python3.10/site-packages (from torch>=1.11.0->sentence_transformers) (8.9.2.26)\n",
            "Requirement already satisfied: nvidia-cuda-cupti-cu12==12.1.105 in /home/ubuntu/.local/lib/python3.10/site-packages (from torch>=1.11.0->sentence_transformers) (12.1.105)\n",
            "Requirement already satisfied: nvidia-cublas-cu12==12.1.3.1 in /home/ubuntu/.local/lib/python3.10/site-packages (from torch>=1.11.0->sentence_transformers) (12.1.3.1)\n",
            "Requirement already satisfied: networkx in /home/ubuntu/.local/lib/python3.10/site-packages (from torch>=1.11.0->sentence_transformers) (3.3)\n",
            "Requirement already satisfied: triton==2.3.0 in /home/ubuntu/.local/lib/python3.10/site-packages (from torch>=1.11.0->sentence_transformers) (2.3.0)\n",
            "Requirement already satisfied: nvidia-nvtx-cu12==12.1.105 in /home/ubuntu/.local/lib/python3.10/site-packages (from torch>=1.11.0->sentence_transformers) (12.1.105)\n",
            "Requirement already satisfied: nvidia-nccl-cu12==2.20.5 in /home/ubuntu/.local/lib/python3.10/site-packages (from torch>=1.11.0->sentence_transformers) (2.20.5)\n",
            "Requirement already satisfied: nvidia-curand-cu12==10.3.2.106 in /home/ubuntu/.local/lib/python3.10/site-packages (from torch>=1.11.0->sentence_transformers) (10.3.2.106)\n",
            "Requirement already satisfied: nvidia-cuda-runtime-cu12==12.1.105 in /home/ubuntu/.local/lib/python3.10/site-packages (from torch>=1.11.0->sentence_transformers) (12.1.105)\n",
            "Requirement already satisfied: nvidia-nvjitlink-cu12 in /home/ubuntu/.local/lib/python3.10/site-packages (from nvidia-cusolver-cu12==11.4.5.107->torch>=1.11.0->sentence_transformers) (12.4.127)\n",
            "Requirement already satisfied: safetensors>=0.4.1 in /home/ubuntu/.local/lib/python3.10/site-packages (from transformers<5.0.0,>=4.34.0->sentence_transformers) (0.4.3)\n",
            "Requirement already satisfied: tokenizers<0.19,>=0.14 in /home/ubuntu/.local/lib/python3.10/site-packages (from transformers<5.0.0,>=4.34.0->sentence_transformers) (0.15.2)\n",
            "Requirement already satisfied: regex!=2019.12.17 in /home/ubuntu/.local/lib/python3.10/site-packages (from transformers<5.0.0,>=4.34.0->sentence_transformers) (2024.5.10)\n",
            "Requirement already satisfied: joblib>=1.2.0 in /home/ubuntu/.local/lib/python3.10/site-packages (from scikit-learn->sentence_transformers) (1.4.2)\n",
            "Requirement already satisfied: threadpoolctl>=3.1.0 in /home/ubuntu/.local/lib/python3.10/site-packages (from scikit-learn->sentence_transformers) (3.5.0)\n",
            "Requirement already satisfied: MarkupSafe>=2.0 in /usr/local/lib/python3.10/dist-packages (from jinja2->torch>=1.11.0->sentence_transformers) (2.1.5)\n",
            "Requirement already satisfied: charset-normalizer<4,>=2 in /usr/local/lib/python3.10/dist-packages (from requests->huggingface-hub>=0.15.1->sentence_transformers) (3.3.2)\n",
            "Requirement already satisfied: idna<4,>=2.5 in /usr/local/lib/python3.10/dist-packages (from requests->huggingface-hub>=0.15.1->sentence_transformers) (3.7)\n",
            "Requirement already satisfied: urllib3<3,>=1.21.1 in /usr/local/lib/python3.10/dist-packages (from requests->huggingface-hub>=0.15.1->sentence_transformers) (2.2.1)\n",
            "Requirement already satisfied: certifi>=2017.4.17 in /home/ubuntu/.local/lib/python3.10/site-packages (from requests->huggingface-hub>=0.15.1->sentence_transformers) (2024.2.2)\n",
            "Requirement already satisfied: mpmath>=0.19 in /home/ubuntu/.local/lib/python3.10/site-packages (from sympy->torch>=1.11.0->sentence_transformers) (1.3.0)\n",
            "Defaulting to user installation because normal site-packages is not writeable\n",
            "Requirement already satisfied: tiktoken in /home/ubuntu/.local/lib/python3.10/site-packages (0.7.0)\n",
            "Requirement already satisfied: regex>=2022.1.18 in /home/ubuntu/.local/lib/python3.10/site-packages (from tiktoken) (2024.5.10)\n",
            "Requirement already satisfied: requests>=2.26.0 in /usr/local/lib/python3.10/dist-packages (from tiktoken) (2.31.0)\n",
            "Requirement already satisfied: charset-normalizer<4,>=2 in /usr/local/lib/python3.10/dist-packages (from requests>=2.26.0->tiktoken) (3.3.2)\n",
            "Requirement already satisfied: certifi>=2017.4.17 in /home/ubuntu/.local/lib/python3.10/site-packages (from requests>=2.26.0->tiktoken) (2024.2.2)\n",
            "Requirement already satisfied: idna<4,>=2.5 in /usr/local/lib/python3.10/dist-packages (from requests>=2.26.0->tiktoken) (3.7)\n",
            "Requirement already satisfied: urllib3<3,>=1.21.1 in /usr/local/lib/python3.10/dist-packages (from requests>=2.26.0->tiktoken) (2.2.1)\n"
          ]
        }
      ],
      "source": [
        "!pip install google-search-results\n",
        "!pip install wikipedia\n",
        "!pip install faiss-cpu\n",
        "!pip install sentence_transformers\n",
        "!pip install tiktoken"
      ]
    },
    {
      "cell_type": "code",
      "execution_count": null,
      "id": "dd07afba-c419-41b4-aac8-b3bc488a6e6c",
      "metadata": {
        "id": "dd07afba-c419-41b4-aac8-b3bc488a6e6c",
        "outputId": "208ff0cc-7481-45f8-e241-da12d1f4661e"
      },
      "outputs": [
        {
          "name": "stderr",
          "output_type": "stream",
          "text": [
            "/home/ubuntu/.local/lib/python3.10/site-packages/langchain_core/_api/deprecation.py:119: LangChainDeprecationWarning: The class `OpenAI` was deprecated in LangChain 0.0.10 and will be removed in 0.3.0. An updated version of the class exists in the langchain-openai package and should be used instead. To use it run `pip install -U langchain-openai` and import as `from langchain_openai import OpenAI`.\n",
            "  warn_deprecated(\n",
            "/home/ubuntu/.local/lib/python3.10/site-packages/langchain_core/_api/deprecation.py:119: LangChainDeprecationWarning: The method `BaseLLM.__call__` was deprecated in langchain-core 0.1.7 and will be removed in 0.3.0. Use invoke instead.\n",
            "  warn_deprecated(\n"
          ]
        },
        {
          "data": {
            "text/plain": [
              "'\\n\\n1. \"Take Five\" – Dave Brubeck\\n2. \"So What\" – Miles Davis\\n3. \"In a Sentimental Mood\" – Duke Ellington\\n4. \"My Favorite Things\" – John Coltrane\\n5. \"Cantaloupe Island\" – Herbie Hancock'"
            ]
          },
          "execution_count": 3,
          "metadata": {},
          "output_type": "execute_result"
        }
      ],
      "source": [
        "# LLM은 OpenAI 외에도 여러 종류\n",
        "\n",
        "from langchain.llms import OpenAI\n",
        "\n",
        "llm = OpenAI(model_name='gpt-3.5-turbo-instruct', temperature=0.9)\n",
        "llm('1990년대 재즈 5곡만 추천해줘.')"
      ]
    },
    {
      "cell_type": "code",
      "execution_count": null,
      "id": "4fd2a51b-6740-4a14-8ad9-fb59e3ec001c",
      "metadata": {
        "id": "4fd2a51b-6740-4a14-8ad9-fb59e3ec001c",
        "outputId": "910094a9-cd83-4219-d892-5539c6b1f2ed"
      },
      "outputs": [
        {
          "name": "stderr",
          "output_type": "stream",
          "text": [
            "/home/ubuntu/.local/lib/python3.10/site-packages/langchain_core/_api/deprecation.py:119: LangChainDeprecationWarning: The class `ChatOpenAI` was deprecated in LangChain 0.0.10 and will be removed in 0.3.0. An updated version of the class exists in the langchain-openai package and should be used instead. To use it run `pip install -U langchain-openai` and import as `from langchain_openai import ChatOpenAI`.\n",
            "  warn_deprecated(\n",
            "/home/ubuntu/.local/lib/python3.10/site-packages/langchain_core/_api/deprecation.py:119: LangChainDeprecationWarning: The method `BaseChatModel.__call__` was deprecated in langchain-core 0.1.7 and will be removed in 0.3.0. Use invoke instead.\n",
            "  warn_deprecated(\n"
          ]
        },
        {
          "data": {
            "text/plain": [
              "'물론이죠! 1990년대 재즈 음악 중에서 5곡을 추천해드리겠습니다.\\n\\n1. Diana Krall - \"Peel Me a Grape\" (1995)\\n2. Joshua Redman - \"Freedom in the Groove\" (1996)\\n3. Cassandra Wilson - \"Blue Light \\'Til Dawn\" (1993)\\n4. Pat Metheny Group - \"We Live Here\" (1995)\\n5. Brad Mehldau Trio - \"Art of the Trio Volume One\" (1997)\\n\\n이 5곡은 1990년대에 발매된 재즈 음악 중에서 인기 있는 곡들이니 즐겨듣기를 추천드립니다. 만약 이 외에도 더 궁금한 곡이 있다면 언제든지 물어봐 주세요. 함께 음악을 즐기는 즐거움을 나누어 보아요!'"
            ]
          },
          "execution_count": 4,
          "metadata": {},
          "output_type": "execute_result"
        }
      ],
      "source": [
        "# 예전에 사용한대로 AI, Human, System message를 배열로 전달\n",
        "\n",
        "from langchain.chat_models import ChatOpenAI\n",
        "from langchain.schema import (\n",
        "    AIMessage,\n",
        "    HumanMessage,\n",
        "    SystemMessage\n",
        ")\n",
        "\n",
        "chat = ChatOpenAI(model_name='gpt-3.5-turbo', temperature=0.9)\n",
        "sys = SystemMessage(content=\"당신은 음악 추천을 해주는 전문 AI입니다.\")\n",
        "msg = HumanMessage(content='1990년대 재즈 5곡만 추천해줘.')\n",
        "\n",
        "aimsg = chat([sys, msg])\n",
        "aimsg.content"
      ]
    },
    {
      "cell_type": "code",
      "execution_count": null,
      "id": "85e5f17c-6a25-4489-919f-b1e477368296",
      "metadata": {
        "id": "85e5f17c-6a25-4489-919f-b1e477368296",
        "outputId": "eb5dbc9a-505d-45f1-a884-7a9eed13aaa1"
      },
      "outputs": [
        {
          "data": {
            "text/plain": [
              "'베트남에서의 다른 인기 여행지로는 하롱베이, 다낭, 호이안, 나트랑 등이 있습니다. 이 지역들은 자연 경관이 아름답고 문화적인 경험도 풍부합니다. 특히 하롱베이의 섬 여행이나 나트랑의 해변에서의 휴양이 좋은 선택일 수 있습니다.어떤 지역을 선호하시나요?'"
            ]
          },
          "execution_count": 5,
          "metadata": {},
          "output_type": "execute_result"
        }
      ],
      "source": [
        "# 예전에 사용한대로 AI, Human, System message를 배열로 전달\n",
        "\n",
        "from langchain.chat_models import ChatOpenAI\n",
        "from langchain.schema import (\n",
        "    AIMessage,\n",
        "    HumanMessage,\n",
        "    SystemMessage\n",
        ")\n",
        "\n",
        "chat = ChatOpenAI(model_name='gpt-3.5-turbo', temperature=0.9)\n",
        "sys = SystemMessage(content=\"당신은 여행을 추천해주는 전문 AI입니다.\")\n",
        "msg1 = HumanMessage(content='베트남 사파에 1박 2일 여행 가면 충분할까?')\n",
        "msg2 = AIMessage(content='사파는 1박 2일로 가기에는 너무 멉니다. 일정을 조정하거나 다른 여행지를 선택하시면 어떨까요?')\n",
        "msg3 = AIMessage(content='음 ... 그러면 어디가 좋을까?')\n",
        "\n",
        "aimsg = chat([sys, msg1, msg2, msg3])\n",
        "aimsg.content"
      ]
    },
    {
      "cell_type": "code",
      "execution_count": null,
      "id": "7b5f966f-2923-4af7-9e96-bab696d6c956",
      "metadata": {
        "id": "7b5f966f-2923-4af7-9e96-bab696d6c956",
        "outputId": "4bf7faac-c6b6-4125-bf84-f1d7e7eb74af"
      },
      "outputs": [
        {
          "data": {
            "text/plain": [
              "'AI 여행 추천 서비스 만드는 회사 이름 추천해줘. 기억에 남는 한글 이름으로'"
            ]
          },
          "execution_count": 6,
          "metadata": {},
          "output_type": "execute_result"
        }
      ],
      "source": [
        "# PromptTemplate를 사용하여 각 LLM에 맞는 prompt를 지정할 수 있음\n",
        "\n",
        "from langchain.prompts import PromptTemplate\n",
        "\n",
        "prompt = PromptTemplate(\n",
        "    input_variables=[\"상품\"],\n",
        "    template=\"{상품} 만드는 회사 이름 추천해줘. 기억에 남는 한글 이름으로\",\n",
        ")\n",
        "\n",
        "prompt.format(상품=\"AI 여행 추천 서비스\") # 변수가 여러 개 일 때, 지정"
      ]
    },
    {
      "cell_type": "code",
      "execution_count": null,
      "id": "15ae1232-2911-463a-838f-47eb2cbf5de4",
      "metadata": {
        "id": "15ae1232-2911-463a-838f-47eb2cbf5de4",
        "outputId": "d8fb6239-9429-4cb4-ece0-32433a6ae7df"
      },
      "outputs": [
        {
          "name": "stderr",
          "output_type": "stream",
          "text": [
            "/home/ubuntu/.local/lib/python3.10/site-packages/langchain_core/_api/deprecation.py:119: LangChainDeprecationWarning: The class `LLMChain` was deprecated in LangChain 0.1.17 and will be removed in 0.3.0. Use RunnableSequence, e.g., `prompt | llm` instead.\n",
            "  warn_deprecated(\n",
            "/home/ubuntu/.local/lib/python3.10/site-packages/langchain_core/_api/deprecation.py:119: LangChainDeprecationWarning: The method `Chain.run` was deprecated in langchain 0.1.0 and will be removed in 0.3.0. Use invoke instead.\n",
            "  warn_deprecated(\n"
          ]
        },
        {
          "data": {
            "text/plain": [
              "'여행이야기랩'"
            ]
          },
          "execution_count": 7,
          "metadata": {},
          "output_type": "execute_result"
        }
      ],
      "source": [
        "from langchain.chains import LLMChain\n",
        "\n",
        "chat = ChatOpenAI(model_name='gpt-3.5-turbo', temperature=0.9)\n",
        "chain = LLMChain(llm=chat, prompt=prompt)\n",
        "\n",
        "chain.run(상품=\"AI 여행 추천 서비스\")"
      ]
    },
    {
      "cell_type": "code",
      "execution_count": null,
      "id": "2cede08e-1a08-40de-b79a-edee95d7950c",
      "metadata": {
        "id": "2cede08e-1a08-40de-b79a-edee95d7950c",
        "outputId": "f1623f58-6418-4fbd-d169-19d8a3cd959d"
      },
      "outputs": [
        {
          "data": {
            "text/plain": [
              "\"J'adore la programmation.\""
            ]
          },
          "execution_count": 9,
          "metadata": {},
          "output_type": "execute_result"
        }
      ],
      "source": [
        "# 각 Prompt 별 template 지정도 가능\n",
        "\n",
        "from langchain.chat_models import ChatOpenAI\n",
        "from langchain.prompts.chat import (\n",
        "    ChatPromptTemplate,\n",
        "    SystemMessagePromptTemplate,\n",
        "    HumanMessagePromptTemplate,\n",
        ")\n",
        "\n",
        "chat = ChatOpenAI(model_name='gpt-3.5-turbo', temperature=0)\n",
        "\n",
        "template=\"You are a helpful assisstant that translates {input_language} to {output_language}.\"\n",
        "system_message_prompt = SystemMessagePromptTemplate.from_template(template)\n",
        "human_template=\"{text}\"\n",
        "human_message_prompt = HumanMessagePromptTemplate.from_template(human_template)\n",
        "\n",
        "chat_prompt = ChatPromptTemplate.from_messages([system_message_prompt, human_message_prompt])\n",
        "\n",
        "\n",
        "chatchain = LLMChain(llm=chat, prompt=chat_prompt)\n",
        "chatchain.run(input_language=\"English\", output_language=\"Japanese\", text=\"I love programming.\")"
      ]
    },
    {
      "cell_type": "code",
      "execution_count": null,
      "id": "9e138db9",
      "metadata": {
        "id": "9e138db9",
        "outputId": "960e6f3b-5be8-4d41-b9b5-e7bcde041bae"
      },
      "outputs": [
        {
          "name": "stdout",
          "output_type": "stream",
          "text": [
            "Defaulting to user installation because normal site-packages is not writeable\n",
            "Requirement already satisfied: numexpr in /home/ubuntu/.local/lib/python3.10/site-packages (2.10.0)\n",
            "Requirement already satisfied: numpy>=1.19.3 in /usr/local/lib/python3.10/dist-packages (from numexpr) (1.26.4)\n"
          ]
        }
      ],
      "source": [
        "!pip install numexpr"
      ]
    },
    {
      "cell_type": "code",
      "execution_count": null,
      "id": "d96ce4ed-c8cd-453a-941f-67f937037653",
      "metadata": {
        "id": "d96ce4ed-c8cd-453a-941f-67f937037653",
        "outputId": "f2f8024b-6a9f-498b-da70-8c063ed132cf"
      },
      "outputs": [
        {
          "name": "stderr",
          "output_type": "stream",
          "text": [
            "/home/ubuntu/.local/lib/python3.10/site-packages/langchain_core/_api/deprecation.py:119: LangChainDeprecationWarning: The function `initialize_agent` was deprecated in LangChain 0.1.0 and will be removed in 0.3.0. Use Use new agent constructor methods like create_react_agent, create_json_agent, create_structured_chat_agent, etc. instead.\n",
            "  warn_deprecated(\n"
          ]
        },
        {
          "name": "stdout",
          "output_type": "stream",
          "text": [
            "\n",
            "\n",
            "\u001b[1m> Entering new AgentExecutor chain...\u001b[0m\n",
            "\u001b[32;1m\u001b[1;3mI need to find out who the founder of Amazon is and then calculate the product of his age and his spouse's age.\n",
            "Action: wikipedia\n",
            "Action Input: Amazon founder\u001b[0m\n",
            "Observation: \u001b[36;1m\u001b[1;3mPage: Amazon (company)\n",
            "Summary: Amazon.com, Inc., doing business as Amazon (, AM-ə-zon; UK also , AM-ə-zən), is an American multinational technology company, engaged in e-commerce, cloud computing, online advertising, digital streaming, and artificial intelligence. It is considered one of the Big Five American technology companies; the other four are Alphabet (parent company of Google), Apple, Meta (parent company of Facebook), and Microsoft.\n",
            "Amazon was founded on July 5, 1994, by Jeff Bezos in Bellevue, Washington. The company originally started as an online marketplace for books but gradually expanded its offerings to include a wide range of product categories. This diversification led to it being referred to as \"The Everything Store\".\n",
            "The company has multiple subsidiaries, including Amazon Web Services, providing cloud computing, Zoox, a self-driving car division, Kuiper Systems, a satellite Internet provider, and Amazon Lab126, a computer hardware R&D provider. Other subsidiaries include Ring, Twitch, IMDb, and Whole Foods Market. Its acquisition of Whole Foods in August 2017 for US$13.4 billion substantially increased its market share and presence as a physical retailer.\n",
            "Amazon has a reputation as a disruptor of industries through technological innovation and aggressive reinvestment of profits into capital expenditures. As of 2023, it is the world's largest online retailer and marketplace, smart speaker provider, cloud computing service through AWS, live-streaming service through Twitch, and Internet company as measured by revenue and market share. In 2021, it surpassed Walmart as the world's largest retailer outside of China, driven in large part by its paid subscription plan, Amazon Prime, which has close to 200 million subscribers worldwide. It is the second-largest private employer in the United States.\n",
            "As of October 2023, Amazon is the 12th-most visited website in the world and 82% of its traffic comes from the United States.\n",
            "Amazon also distributes a variety of downloadable and streaming content through its Amazon Prime Video, MGM+, Amazon Music, Twitch, Audible and Wondery units. It publishes books through its publishing arm, Amazon Publishing, film and television content through Amazon MGM Studios, including the Metro-Goldwyn-Mayer studio which acquired in March 2022. It also produces consumer electronics—most notably, Kindle e-readers, Echo devices, Fire tablets, and Fire TVs.\n",
            "Amazon has been criticized for customer data collection practices, a toxic work culture, censorship, tax avoidance, and anti-competitive behavior.\n",
            "\n",
            "\n",
            "\n",
            "Page: Jeff Bezos\n",
            "Summary: Jeffrey Preston Bezos ( BAY-zohss; né Jorgensen; born January 12, 1964) is an American businessman, media proprietor and investor. He is the founder, executive chairman, and former president and CEO of Amazon, the world's largest e-commerce and cloud computing company. He is the second wealthiest person in the world, with a net worth of US$ 207 billion as of May 19, 2024. He was the wealthiest person from 2017 to 2021, according to both the Bloomberg Billionaires Index and Forbes.\n",
            "Bezos was born in Albuquerque and raised in Houston and Miami. He graduated from Princeton University in 1986 with degrees in electrical engineering and computer science. He worked on Wall Street in a variety of related fields from 1986 to early 1994. Bezos founded Amazon in mid-1994 on a road trip from New York City to Seattle. The company began as an online bookstore and has since expanded to a variety of other e-commerce products and services, including video and audio streaming, cloud computing, and artificial intelligence. It is the world's largest online sales company, the largest Internet company by revenue, and the largest provider of virtual assistants and cloud infrastructure services through its Amazon Web Services branch.\n",
            "Bezos founded the aerospace manufacturer and sub-orbital spaceflight services company Blue Origin in 2000. Blue Origin's New Shepard vehicle reached space in 20\u001b[0m\n",
            "Thought:\u001b[32;1m\u001b[1;3mI found out that Jeff Bezos is the founder of Amazon and his birthdate is January 12, 1964. Now I need to find out his spouse's age.\n",
            "Action: wikipedia\n",
            "Action Input: Jeff Bezos spouse\u001b[0m\n",
            "Observation: \u001b[36;1m\u001b[1;3mPage: Jeff Bezos\n",
            "Summary: Jeffrey Preston Bezos ( BAY-zohss; né Jorgensen; born January 12, 1964) is an American businessman, media proprietor and investor. He is the founder, executive chairman, and former president and CEO of Amazon, the world's largest e-commerce and cloud computing company. He is the second wealthiest person in the world, with a net worth of US$ 207 billion as of May 19, 2024. He was the wealthiest person from 2017 to 2021, according to both the Bloomberg Billionaires Index and Forbes.\n",
            "Bezos was born in Albuquerque and raised in Houston and Miami. He graduated from Princeton University in 1986 with degrees in electrical engineering and computer science. He worked on Wall Street in a variety of related fields from 1986 to early 1994. Bezos founded Amazon in mid-1994 on a road trip from New York City to Seattle. The company began as an online bookstore and has since expanded to a variety of other e-commerce products and services, including video and audio streaming, cloud computing, and artificial intelligence. It is the world's largest online sales company, the largest Internet company by revenue, and the largest provider of virtual assistants and cloud infrastructure services through its Amazon Web Services branch.\n",
            "Bezos founded the aerospace manufacturer and sub-orbital spaceflight services company Blue Origin in 2000. Blue Origin's New Shepard vehicle reached space in 2015 and afterwards successfully landed back on Earth; he flew into space on Blue Origin NS-16 in 2021. He also purchased the major American newspaper The Washington Post in 2013 for $250 million and manages many other investments through his venture capital firm, Bezos Expeditions. In September 2021, Bezos co-founded Altos Labs with Mail.ru founder Yuri Milner.\n",
            "The first centibillionaire on the Forbes Real Time Billionaires Index and the second ever to have eclipsed the feat since Bill Gates in 1999, Bezos was named the \"richest man in modern history\" after his net worth increased to $150 billion in July 2018. In August 2020, according to Forbes, he had a net worth exceeding $200 billion. On July 5, 2021, Bezos stepped down as the CEO and president of Amazon and took over the role of executive chairman. Amazon Web Services CEO Andy Jassy succeeded Bezos as the CEO and president of Amazon.  \n",
            "\n",
            "\n",
            "\n",
            "Page: Miguel Bezos\n",
            "Summary: Miguel \"Mike\" Bezos (born in 1945 or 1946 in Cuba) is a Cuban-American billionaire and philanthropist who provided the initial investment to launch Amazon.com. He is a co-founder of the Bezos Family Foundation.\n",
            "He is the adoptive father of Jeff Bezos, the father of Mark Bezos and the husband of Jackie Bezos.\n",
            "\n",
            "Page: Mark Bezos\n",
            "Summary: Marcus Jim \"Mark\" Bezos ( BAY-zohss; born c. 1967) is an American space tourist and former advertising executive. He is the half-brother of Jeff Bezos, the founder of Amazon, with whom he flew to the edge of space as part of the Blue Origin NS-16 mission on July 20, 2021.\u001b[0m\n",
            "Thought:\u001b[32;1m\u001b[1;3mI found out that Jeff Bezos' spouse is named MacKenzie Scott. Now I can calculate the product of Jeff Bezos' age and MacKenzie Scott's age.\n",
            "Action: Calculator\n",
            "Action Input: (2024 - 1964) * (2024 - 1970)\u001b[0m\n",
            "Observation: \u001b[33;1m\u001b[1;3mAnswer: 3240\u001b[0m\n",
            "Thought:\u001b[32;1m\u001b[1;3mI now know the final answer\n",
            "Final Answer: 3240\u001b[0m\n",
            "\n",
            "\u001b[1m> Finished chain.\u001b[0m\n"
          ]
        },
        {
          "data": {
            "text/plain": [
              "'3240'"
            ]
          },
          "execution_count": 11,
          "metadata": {},
          "output_type": "execute_result"
        }
      ],
      "source": [
        "# ChatOpenAI를 LLM으로 사용하는 agent\n",
        "\n",
        "from langchain.agents import load_tools\n",
        "from langchain.agents import initialize_agent\n",
        "from langchain.agents import AgentType\n",
        "\n",
        "chat = ChatOpenAI(model_name='gpt-3.5-turbo', temperature=0)\n",
        "tools = load_tools([\"wikipedia\", \"llm-math\"], llm=chat)\n",
        "\n",
        "agent = initialize_agent(tools, llm=chat, agent=AgentType.ZERO_SHOT_REACT_DESCRIPTION, verbose=True)\n",
        "\n",
        "agent.run(\"아마존의 창업자는 누구인가? 그의 나이와 배우자의 나이를 곱하면 얼마인가?\")"
      ]
    },
    {
      "cell_type": "code",
      "execution_count": null,
      "id": "47498a86-a6b0-4e43-bbe3-e84d6e338b37",
      "metadata": {
        "id": "47498a86-a6b0-4e43-bbe3-e84d6e338b37",
        "outputId": "8120a48f-d9f2-48a5-ef53-e77495626ea1"
      },
      "outputs": [
        {
          "name": "stdout",
          "output_type": "stream",
          "text": [
            "A wrapper around Wikipedia. Useful for when you need to answer general questions about people, places, companies, facts, historical events, or other subjects. Input should be a search query.\n",
            "Useful for when you need to answer questions about math.\n"
          ]
        }
      ],
      "source": [
        "print(agent.tools[0].description)\n",
        "print(agent.tools[1].description)"
      ]
    },
    {
      "cell_type": "code",
      "execution_count": null,
      "id": "d4c1c5cf-26f1-448f-8687-784ca932ed8b",
      "metadata": {
        "id": "d4c1c5cf-26f1-448f-8687-784ca932ed8b",
        "outputId": "e5c1800e-8314-41f8-b223-31d3f392a933"
      },
      "outputs": [
        {
          "name": "stdout",
          "output_type": "stream",
          "text": [
            "\n",
            "\n",
            "\u001b[1m> Entering new ConversationChain chain...\u001b[0m\n",
            "Prompt after formatting:\n",
            "\u001b[32;1m\u001b[1;3mThe following is a friendly conversation between a human and an AI. The AI is talkative and provides lots of specific details from its context. If the AI does not know the answer to a question, it truthfully says it does not know.\n",
            "\n",
            "Current conversation:\n",
            "\n",
            "Human: 인공지능에서 LLM이 뭐야?\n",
            "AI:\u001b[0m\n",
            "\n",
            "\u001b[1m> Finished chain.\u001b[0m\n"
          ]
        },
        {
          "data": {
            "text/plain": [
              "'LLM은 Large Language Model의 약자로, 대규모 언어 모델을 의미합니다. 이 모델은 많은 언어 데이터를 학습하여 특정 언어 작업을 수행하는 데 사용됩니다. 이 모델은 주로 자연어 처리와 관련된 작업에 사용됩니다.'"
            ]
          },
          "execution_count": 14,
          "metadata": {},
          "output_type": "execute_result"
        }
      ],
      "source": [
        "from langchain import ConversationChain\n",
        "\n",
        "chat = ChatOpenAI(model_name='gpt-3.5-turbo', temperature=0.9)\n",
        "conversation = ConversationChain(llm=chat, verbose=True)\n",
        "conversation.predict(input=\"인공지능에서 LLM이 뭐야?\")"
      ]
    },
    {
      "cell_type": "code",
      "execution_count": null,
      "id": "8bd1f46e-daa1-4098-8d3e-4c36f4ec0f6e",
      "metadata": {
        "id": "8bd1f46e-daa1-4098-8d3e-4c36f4ec0f6e",
        "outputId": "269d5eab-0128-40b9-d930-7ae17c15bee8"
      },
      "outputs": [
        {
          "name": "stdout",
          "output_type": "stream",
          "text": [
            "\n",
            "\n",
            "\u001b[1m> Entering new ConversationChain chain...\u001b[0m\n",
            "Prompt after formatting:\n",
            "\u001b[32;1m\u001b[1;3mThe following is a friendly conversation between a human and an AI. The AI is talkative and provides lots of specific details from its context. If the AI does not know the answer to a question, it truthfully says it does not know.\n",
            "\n",
            "Current conversation:\n",
            "Human: 인공지능에서 LLM이 뭐야?\n",
            "AI: LLM은 Large Language Model의 약자로, 대규모 언어 모델을 의미합니다. 이 모델은 많은 언어 데이터를 학습하여 특정 언어 작업을 수행하는 데 사용됩니다. 이 모델은 주로 자연어 처리와 관련된 작업에 사용됩니다.\n",
            "Human: PLM과의 차이를 설명해줘.\n",
            "AI:\u001b[0m\n",
            "\n",
            "\u001b[1m> Finished chain.\u001b[0m\n"
          ]
        },
        {
          "data": {
            "text/plain": [
              "' PLM은 Pre-trained Language Model의 약자로, 미리 학습된 언어 모델을 의미합니다. 이 모델은 대규모 언어 데이터를 사용하여 학습된 후 특정 작업을 수행할 때 미세 조정됩니다. LLM은 PLM의 한 유형이며, LLM은 미리 학습된 모델을 많은 데이터로 더욱 확장시켜 사용됩니다. 만약 더 자세한 정보가 필요하시면 알려주세요.'"
            ]
          },
          "execution_count": 15,
          "metadata": {},
          "output_type": "execute_result"
        }
      ],
      "source": [
        "conversation.predict(input=\"PLM과의 차이를 설명해줘.\")"
      ]
    },
    {
      "cell_type": "code",
      "execution_count": null,
      "id": "9b7e4767-87f5-4731-be17-7d74b9a309f3",
      "metadata": {
        "id": "9b7e4767-87f5-4731-be17-7d74b9a309f3",
        "outputId": "83de6a7d-7b4e-4057-d23c-2cf50c16818b"
      },
      "outputs": [
        {
          "data": {
            "text/plain": [
              "ConversationBufferMemory(chat_memory=InMemoryChatMessageHistory(messages=[HumanMessage(content='인공지능에서 LLM이 뭐야?'), AIMessage(content='LLM은 Large Language Model의 약자로, 대규모 언어 모델을 의미합니다. 이 모델은 많은 언어 데이터를 학습하여 특정 언어 작업을 수행하는 데 사용됩니다. 이 모델은 주로 자연어 처리와 관련된 작업에 사용됩니다.'), HumanMessage(content='PLM과의 차이를 설명해줘.'), AIMessage(content=' PLM은 Pre-trained Language Model의 약자로, 미리 학습된 언어 모델을 의미합니다. 이 모델은 대규모 언어 데이터를 사용하여 학습된 후 특정 작업을 수행할 때 미세 조정됩니다. LLM은 PLM의 한 유형이며, LLM은 미리 학습된 모델을 많은 데이터로 더욱 확장시켜 사용됩니다. 만약 더 자세한 정보가 필요하시면 알려주세요.')]))"
            ]
          },
          "execution_count": 16,
          "metadata": {},
          "output_type": "execute_result"
        }
      ],
      "source": [
        "conversation.memory"
      ]
    },
    {
      "cell_type": "code",
      "execution_count": null,
      "id": "67d6347c-2c99-4d28-b9e6-b7585d72a043",
      "metadata": {
        "id": "67d6347c-2c99-4d28-b9e6-b7585d72a043",
        "outputId": "356935a0-3d92-462b-80ad-27d0243fbe70"
      },
      "outputs": [
        {
          "name": "stderr",
          "output_type": "stream",
          "text": [
            "Created a chunk of size 2307, which is longer than the specified 1000\n",
            "Created a chunk of size 2843, which is longer than the specified 1000\n",
            "Created a chunk of size 3880, which is longer than the specified 1000\n",
            "Created a chunk of size 2787, which is longer than the specified 1000\n",
            "Created a chunk of size 2198, which is longer than the specified 1000\n",
            "Created a chunk of size 1475, which is longer than the specified 1000\n",
            "Created a chunk of size 2774, which is longer than the specified 1000\n",
            "Created a chunk of size 1877, which is longer than the specified 1000\n",
            "Created a chunk of size 3432, which is longer than the specified 1000\n",
            "Created a chunk of size 1141, which is longer than the specified 1000\n",
            "Created a chunk of size 1186, which is longer than the specified 1000\n",
            "Created a chunk of size 2696, which is longer than the specified 1000\n",
            "Created a chunk of size 3222, which is longer than the specified 1000\n",
            "Created a chunk of size 1154, which is longer than the specified 1000\n"
          ]
        },
        {
          "data": {
            "text/plain": [
              "34"
            ]
          },
          "execution_count": 17,
          "metadata": {},
          "output_type": "execute_result"
        }
      ],
      "source": [
        "# https://python.langchain.com/docs/modules/data_connection/document_loaders/\n",
        "# https://api.python.langchain.com/en/latest/api_reference.html#module-langchain.document_loaders\n",
        "\n",
        "from langchain.document_loaders import WebBaseLoader\n",
        "\n",
        "loader = WebBaseLoader(web_path=\"https://ko.wikipedia.org/wiki/IU\")\n",
        "documents = loader.load()\n",
        "\n",
        "from langchain.text_splitter import CharacterTextSplitter\n",
        "\n",
        "text_splitter = CharacterTextSplitter(chunk_size=1000, chunk_overlap=0)\n",
        "docs = text_splitter.split_documents(documents)\n",
        "len(docs)"
      ]
    },
    {
      "cell_type": "code",
      "execution_count": null,
      "id": "692cd1a0-48c1-48b6-977c-a2a48ea96fdf",
      "metadata": {
        "id": "692cd1a0-48c1-48b6-977c-a2a48ea96fdf",
        "outputId": "82ce9e68-5487-46b9-83d7-c636f7d4cd3d"
      },
      "outputs": [
        {
          "data": {
            "text/plain": [
              "[Document(page_content='아이유 - 위키백과, 우리 모두의 백과사전\\n\\n본문으로 이동\\n\\n주 메뉴\\n\\n주 메뉴\\n사이드바로 이동\\n숨기기\\n\\n\\t\\t둘러보기\\n\\t\\n\\n\\n대문최근 바뀜요즘 화제임의의 문서로기부\\n\\n\\t\\t사용자 모임\\n\\t\\n\\n\\n사랑방사용자 모임관리 요청\\n\\n\\t\\t편집 안내\\n\\t\\n\\n\\n소개도움말정책과 지침질문방\\n\\n검색\\n\\n검색\\n\\n계정 만들기\\n\\n로그인\\n\\n\\n개인 도구\\n\\n 계정 만들기 로그인\\n\\n\\t\\t로그아웃한 편집자를 위한 문서 더 알아보기\\n\\n기여토론\\n\\n\\n목차\\n사이드바로 이동\\n숨기기\\n\\n\\n처음 위치\\n\\n1학력\\n\\n2활동\\n\\n활동 하위섹션 토글하기\\n\\n2.12008-2010\\n\\n2.22011-2013\\n\\n2.32014-2016\\n\\n2.42017-2018\\n\\n2.52019-2020\\n\\n2.62021-2022\\n\\n2.72023-2024\\n\\n3음반 목록\\n\\n4음반 외 활동 목록\\n\\n5수상 및 후보 목록\\n\\n6사건\\n\\n사건 하위섹션 토글하기\\n\\n6.1일반인에 의한 고발 사건\\n\\n7같이 보기\\n\\n8각주\\n\\n각주 하위섹션 토글하기\\n\\n8.1내용주\\n\\n8.2참조주\\n\\n9외부 링크\\n\\n목차 토글\\n\\n아이유\\n\\n60개 언어\\n\\n\\nالعربيةمصرىتۆرکجهBasa BaliBikol CentralБългарскиCatalàCebuanoکوردیČeštinaDanskDeutschΕλληνικάEnglishEsperantoEspañolEestiEuskaraفارسیSuomiFrançaisहिन्दीKreyòl ayisyenMagyarՀայերենInterlinguaBahasa IndonesiaItaliano日本語JawaҚазақшаLatinaMāoriമലയാളംМонголBahasa Melayuမြန်မာဘာသာNederlandsNorsk bokmålPolskiPortuguêsRomânăРусскийSimple EnglishSoomaaligaСрпски / srpskiSesothoSundaSvenskaதமிழ்ไทยTagalogSetswanaTürkçeУкраїнськаOʻzbekcha / ўзбекчаTiếng Việt中文閩南語 / Bân-lâm-gú粵語\\n\\n링크 편집\\n\\n문서토론', metadata={'source': 'https://ko.wikipedia.org/wiki/IU', 'title': '아이유 - 위키백과, 우리 모두의 백과사전', 'language': 'ko'}),\n",
              " Document(page_content='한국어\\n\\n읽기편집역사 보기\\n\\n도구\\n\\n도구\\n사이드바로 이동\\n숨기기\\n\\n\\t\\t동작\\n\\t\\n\\n\\n읽기편집역사 보기\\n\\n\\t\\t일반\\n\\t\\n\\n\\n여기를 가리키는 문서가리키는 글의 최근 바뀜파일 올리기특수 문서 목록고유 링크문서 정보이 문서 인용하기축약된 URL 얻기QR 코드 다운로드위키데이터 항목\\n\\n\\t\\t인쇄/내보내기\\n\\t\\n\\n\\n책 만들기PDF로 다운로드인쇄용 판\\n\\n\\t\\t다른 프로젝트\\n\\t\\n\\n\\n위키미디어 공용\\n\\n위키백과, 우리 모두의 백과사전.\\n\\n(IU에서 넘어옴)\\n\\n\\n  다른 뜻에 대해서는 아이유 (동음이의) 문서를 참고하십시오. IU는 여기로 연결됩니다. 다른 뜻에 대해서는 IU (동음이의) 문서를 참고하십시오.\\n아이유IU2022년 11월 25일 청룡영화상에서의 아이유기본 정보본명이지은출생1993년 5월 16일(1993-05-16)(31세)대한민국 서울특별시 성동구 송정동성별여성직업가수, 배우장르댄스, 발라드, 어쿠스틱, R&B활동 시기2008년 ~ 현재학력동덕여자고등학교 (졸업)가족아버지 (1968년생),  어머니 (1967년생),  남동생 (1997년생)레이블카카오엔터테인먼트, EMI 뮤직 재팬소속사EDAM 엔터테인먼트서명웹사이트iu.iloen.com유튜브채널이지금 [IU Official]분야일상, 음악개설일2017년 2월 13일구독자 수966만\\xa0명(2024년 5월 17일 기준)총 조회수2,839,692,121회(2024년 5월 17일 기준)vte\\n\\n아이유(IU, 본명:\\xa0이지은, 李知恩[1], 1993년 5월 16일~) 예명 아이유 IU는 대한민국의 싱어송라이터, 작곡가, 배우이다. 그녀는 2007년 로엔 엔터테인먼트(현 카카오 엔터테인먼트) 연습생으로 전속 계약을 맺고 15세의 나이에 2008년 첫 EP인 로스트 앤 파운드(Lost and Found)를 통해 가수로 데뷔했다.', metadata={'source': 'https://ko.wikipedia.org/wiki/IU', 'title': '아이유 - 위키백과, 우리 모두의 백과사전', 'language': 'ko'}),\n",
              " Document(page_content='학력[편집]\\n동덕여자고등학교 (졸업)\\n활동[편집]\\n2008-2010[편집]\\n2009년 7월 5일에 핫트랙스 잠실점에서 개최된 팬사인회에서의 아이유\\n아이유는 2008년 9월 18일 엠넷 M! Countdown에서 데뷔 싱글 \"미아\"로 데뷔하였고 2008년 9월 23일에 발매된 첫 번째 미니 음반 Lost and Found를 발매하였다. 데뷔 전부터 라디오에서 음악을 알렸던 아이유는 유영석, 유희열, 정재형 등의 많은 음악가로부터 호평을 받았다. 유영석은 \"나이가 어린 소녀인데 노래를 너무 잘하고, 음악성이 뛰어난 것 같아서 이 앨범을 추천한다\"라고 칭찬하였으며, 정재형은 \"앞으로 많은 발전이 기대되는 가수\"라며 기대감을 보였다.[2] 아이유는 음반이 발매되기 전인 2008년 9월 18일에 Mnet 《엠 카운트다운》에서 타이틀곡인 〈미아〉를 불러 첫 데뷔 무대를 가졌다. 타이틀곡 〈미아〉는 이종훈, 민웅식이 공동 작곡한 곡으로 일렉트로닉 사운드에 힙합 리듬이 섞인 하이브리드 팝 발라드이다.[3] 뉴스 기사에서 아이유와 곡 제목인 미아를 바꿔썼던 사건이 있을정도로 앨범 발매 당시에는 별로 관심을 받지 못하였지만,〈미아〉를 통하여 아이유는 당시 16세의 소녀답지 않은 가창력으로 코러스와 아리아 부분까지 1인 3역을 소화해내며 조금씩 대중들에게 얼굴을 알렸다.[4] 그 결과 2008년 10월에 국방부에서 추진하는 \\'이달의 우수 신인음반 선정 및 홍보 지원사업\\'에서 아이유의 Lost and Found가 선정되었다.[5]\\n아이유는 2009년 4월 23일에 정규 1집 Growing Up을 발매했다. 이 음반에는 발랄하고 밝은 느낌의 다양한 장르의 곡들이 수록되어 있다.[6] 음반 발매 일주일 전인 2009년 4월 17일, KBS 《뮤직뱅크》에서 타이틀곡 〈Boo〉를 처음 선보였다. 깜찍한 무대 스타일로 이목을 집중시켰다.[7] 아이유가 이름을 알리기 시작한 것은 이때부터인데, 2009년 5월부터 유행하기 시작한 \\'MR제거 동영상\\'에서 아이유는 빼어난 가창력을 뽐내 실시간 검색어에서 1위를 하는 등 대중들에게 이름을 알렸고, 가창력을 인정받았다.[8] 또한 방송 프로그램인 《스타골든벨》, 《유희열의 스케치북》 등에서 당시 열풍이던 〈Gee〉, 〈Sorry, Sorry〉, 〈거짓말〉등의 인기곡들을 어쿠스틱 버전으로 재해석해 부름으로써 가창력을 또다시 인정받으며 화제가 되었다.[9][10] 2009년 12월에는 MBC 《세바퀴》에서 이문세의 〈옛사랑〉, 김현식의 〈내 사랑 내 곁에〉, 나미의 〈슬픈 인연〉 등을 기타를 치며 불러 좋은 반응을 얻었다.[11] 토이의 유희열은 아이유에 대하여 \"내 주변의 선배, 동료 뮤지션들이 유망주라고 손꼽아 말하는 가수다\"라며 \"그간의 활동을 비춰봤을 때 2010년 활동이 매우 기대된다\"라고 평가하며 \"귀여운 아이유에게 곡을 주고 싶다\"라고 밝힌 바 있다.[12][13][14] 유희열은 또 자신이 진행하는 《유희열의 스케치북》에 출연한 아이유를 쳐다보는 눈빛 때문에 \\'매의 눈\\'이라는 별명이 생겼다는 이야기를 하기도 했으며, 이후 2017년 예능 알쓸신잡에서 우리가 기억하는 뮤지션들은 모두 목소리에 힘이 있다며 아이유를 거미, 김범수, 이미자 등의 가수와 함께 언급하였다.\\n2009년 7월 10일부터는 후속곡인 〈있잖아(Rock ver.)〉로 활동을 시작하였는데 치어리더 컨셉의 안무로 또 다른 모습을 보여주었다.[15] 정규 1집 음반 활동은 2009년 8월 15일에 MBC 《쇼! 음악중심》에서 〈있잖아(Rock Ver.)〉 무대를 끝으로 마무리하고 이 시기부터 케이블 TV 프로그램의 메인 MC, 라디오 고정게스트 등의 음반 외 활동을 활발히 하게 되었다. 아이유는 이번 음반 활동을 통하여 뛰어난 가창력으로 확실한 인지도를 넓혔고, 이름을 알리기에 충분한 활동을 하게 되었다.\\n이후 아이유는 2009년 11월 12일에 두 번째 미니 음반 IU...IM을 발매하고 자켓사진을 공개하였는데, 이전 음반 컨셉보다 더욱 더 상큼해지고, 발랄해진 컨셉으로 2009년 11월 13일 KBS 《뮤직뱅크》에서 컴백하였다.[16] 타이틀곡은 〈마쉬멜로우〉로 이전의 곡들보다 더욱 업그레이드 된 전형적인 팝스타일의 곡이다. 〈마쉬멜로우〉는 아이유에게 각종 음원사이트에서 데뷔 후 처음으로 10위권 내에 드는 성과를 거두게 해주었고, KBS 《뮤직뱅크》에서는 2009년 11월 마지막 주 K차트에서 10위, SBS 《인기가요》에서는 테이크 세븐(Take 7)에 2009년 12월 6일부터 2010년 1월 10일까지 총 5회 선정되며 인기를 끌었다. 두 번째 미니 음반 활동은 2010년 1월 22일에 KBS 《뮤직뱅크》에서의 무대를 마지막으로 후속곡 활동 없이 마무리하였다.', metadata={'source': 'https://ko.wikipedia.org/wiki/IU', 'title': '아이유 - 위키백과, 우리 모두의 백과사전', 'language': 'ko'})]"
            ]
          },
          "execution_count": 18,
          "metadata": {},
          "output_type": "execute_result"
        }
      ],
      "source": [
        "docs[:3]"
      ]
    },
    {
      "cell_type": "code",
      "execution_count": null,
      "id": "9b6fb24e-3827-4474-8feb-819ab03cda26",
      "metadata": {
        "id": "9b6fb24e-3827-4474-8feb-819ab03cda26",
        "outputId": "dc37c24c-c438-4a27-9df9-422d400b63c0"
      },
      "outputs": [
        {
          "name": "stdout",
          "output_type": "stream",
          "text": [
            "\n",
            "\n",
            "\u001b[1m> Entering new MapReduceDocumentsChain chain...\u001b[0m\n",
            "\n",
            "\n",
            "\u001b[1m> Entering new LLMChain chain...\u001b[0m\n",
            "Prompt after formatting:\n",
            "\u001b[32;1m\u001b[1;3mWrite a concise summary of the following:\n",
            "\n",
            "\n",
            "\"한국어\n",
            "\n",
            "읽기편집역사 보기\n",
            "\n",
            "도구\n",
            "\n",
            "도구\n",
            "사이드바로 이동\n",
            "숨기기\n",
            "\n",
            "\t\t동작\n",
            "\t\n",
            "\n",
            "\n",
            "읽기편집역사 보기\n",
            "\n",
            "\t\t일반\n",
            "\t\n",
            "\n",
            "\n",
            "여기를 가리키는 문서가리키는 글의 최근 바뀜파일 올리기특수 문서 목록고유 링크문서 정보이 문서 인용하기축약된 URL 얻기QR 코드 다운로드위키데이터 항목\n",
            "\n",
            "\t\t인쇄/내보내기\n",
            "\t\n",
            "\n",
            "\n",
            "책 만들기PDF로 다운로드인쇄용 판\n",
            "\n",
            "\t\t다른 프로젝트\n",
            "\t\n",
            "\n",
            "\n",
            "위키미디어 공용\n",
            "\n",
            "위키백과, 우리 모두의 백과사전.\n",
            "\n",
            "(IU에서 넘어옴)\n",
            "\n",
            "\n",
            "  다른 뜻에 대해서는 아이유 (동음이의) 문서를 참고하십시오. IU는 여기로 연결됩니다. 다른 뜻에 대해서는 IU (동음이의) 문서를 참고하십시오.\n",
            "아이유IU2022년 11월 25일 청룡영화상에서의 아이유기본 정보본명이지은출생1993년 5월 16일(1993-05-16)(31세)대한민국 서울특별시 성동구 송정동성별여성직업가수, 배우장르댄스, 발라드, 어쿠스틱, R&B활동 시기2008년 ~ 현재학력동덕여자고등학교 (졸업)가족아버지 (1968년생),  어머니 (1967년생),  남동생 (1997년생)레이블카카오엔터테인먼트, EMI 뮤직 재팬소속사EDAM 엔터테인먼트서명웹사이트iu.iloen.com유튜브채널이지금 [IU Official]분야일상, 음악개설일2017년 2월 13일구독자 수966만 명(2024년 5월 17일 기준)총 조회수2,839,692,121회(2024년 5월 17일 기준)vte\n",
            "\n",
            "아이유(IU, 본명: 이지은, 李知恩[1], 1993년 5월 16일~) 예명 아이유 IU는 대한민국의 싱어송라이터, 작곡가, 배우이다. 그녀는 2007년 로엔 엔터테인먼트(현 카카오 엔터테인먼트) 연습생으로 전속 계약을 맺고 15세의 나이에 2008년 첫 EP인 로스트 앤 파운드(Lost and Found)를 통해 가수로 데뷔했다.\"\n",
            "\n",
            "\n",
            "CONCISE SUMMARY:\u001b[0m\n",
            "Prompt after formatting:\n",
            "\u001b[32;1m\u001b[1;3mWrite a concise summary of the following:\n",
            "\n",
            "\n",
            "\"학력[편집]\n",
            "동덕여자고등학교 (졸업)\n",
            "활동[편집]\n",
            "2008-2010[편집]\n",
            "2009년 7월 5일에 핫트랙스 잠실점에서 개최된 팬사인회에서의 아이유\n",
            "아이유는 2008년 9월 18일 엠넷 M! Countdown에서 데뷔 싱글 \"미아\"로 데뷔하였고 2008년 9월 23일에 발매된 첫 번째 미니 음반 Lost and Found를 발매하였다. 데뷔 전부터 라디오에서 음악을 알렸던 아이유는 유영석, 유희열, 정재형 등의 많은 음악가로부터 호평을 받았다. 유영석은 \"나이가 어린 소녀인데 노래를 너무 잘하고, 음악성이 뛰어난 것 같아서 이 앨범을 추천한다\"라고 칭찬하였으며, 정재형은 \"앞으로 많은 발전이 기대되는 가수\"라며 기대감을 보였다.[2] 아이유는 음반이 발매되기 전인 2008년 9월 18일에 Mnet 《엠 카운트다운》에서 타이틀곡인 〈미아〉를 불러 첫 데뷔 무대를 가졌다. 타이틀곡 〈미아〉는 이종훈, 민웅식이 공동 작곡한 곡으로 일렉트로닉 사운드에 힙합 리듬이 섞인 하이브리드 팝 발라드이다.[3] 뉴스 기사에서 아이유와 곡 제목인 미아를 바꿔썼던 사건이 있을정도로 앨범 발매 당시에는 별로 관심을 받지 못하였지만,〈미아〉를 통하여 아이유는 당시 16세의 소녀답지 않은 가창력으로 코러스와 아리아 부분까지 1인 3역을 소화해내며 조금씩 대중들에게 얼굴을 알렸다.[4] 그 결과 2008년 10월에 국방부에서 추진하는 '이달의 우수 신인음반 선정 및 홍보 지원사업'에서 아이유의 Lost and Found가 선정되었다.[5]\n",
            "아이유는 2009년 4월 23일에 정규 1집 Growing Up을 발매했다. 이 음반에는 발랄하고 밝은 느낌의 다양한 장르의 곡들이 수록되어 있다.[6] 음반 발매 일주일 전인 2009년 4월 17일, KBS 《뮤직뱅크》에서 타이틀곡 〈Boo〉를 처음 선보였다. 깜찍한 무대 스타일로 이목을 집중시켰다.[7] 아이유가 이름을 알리기 시작한 것은 이때부터인데, 2009년 5월부터 유행하기 시작한 'MR제거 동영상'에서 아이유는 빼어난 가창력을 뽐내 실시간 검색어에서 1위를 하는 등 대중들에게 이름을 알렸고, 가창력을 인정받았다.[8] 또한 방송 프로그램인 《스타골든벨》, 《유희열의 스케치북》 등에서 당시 열풍이던 〈Gee〉, 〈Sorry, Sorry〉, 〈거짓말〉등의 인기곡들을 어쿠스틱 버전으로 재해석해 부름으로써 가창력을 또다시 인정받으며 화제가 되었다.[9][10] 2009년 12월에는 MBC 《세바퀴》에서 이문세의 〈옛사랑〉, 김현식의 〈내 사랑 내 곁에〉, 나미의 〈슬픈 인연〉 등을 기타를 치며 불러 좋은 반응을 얻었다.[11] 토이의 유희열은 아이유에 대하여 \"내 주변의 선배, 동료 뮤지션들이 유망주라고 손꼽아 말하는 가수다\"라며 \"그간의 활동을 비춰봤을 때 2010년 활동이 매우 기대된다\"라고 평가하며 \"귀여운 아이유에게 곡을 주고 싶다\"라고 밝힌 바 있다.[12][13][14] 유희열은 또 자신이 진행하는 《유희열의 스케치북》에 출연한 아이유를 쳐다보는 눈빛 때문에 '매의 눈'이라는 별명이 생겼다는 이야기를 하기도 했으며, 이후 2017년 예능 알쓸신잡에서 우리가 기억하는 뮤지션들은 모두 목소리에 힘이 있다며 아이유를 거미, 김범수, 이미자 등의 가수와 함께 언급하였다.\n",
            "2009년 7월 10일부터는 후속곡인 〈있잖아(Rock ver.)〉로 활동을 시작하였는데 치어리더 컨셉의 안무로 또 다른 모습을 보여주었다.[15] 정규 1집 음반 활동은 2009년 8월 15일에 MBC 《쇼! 음악중심》에서 〈있잖아(Rock Ver.)〉 무대를 끝으로 마무리하고 이 시기부터 케이블 TV 프로그램의 메인 MC, 라디오 고정게스트 등의 음반 외 활동을 활발히 하게 되었다. 아이유는 이번 음반 활동을 통하여 뛰어난 가창력으로 확실한 인지도를 넓혔고, 이름을 알리기에 충분한 활동을 하게 되었다.\n",
            "이후 아이유는 2009년 11월 12일에 두 번째 미니 음반 IU...IM을 발매하고 자켓사진을 공개하였는데, 이전 음반 컨셉보다 더욱 더 상큼해지고, 발랄해진 컨셉으로 2009년 11월 13일 KBS 《뮤직뱅크》에서 컴백하였다.[16] 타이틀곡은 〈마쉬멜로우〉로 이전의 곡들보다 더욱 업그레이드 된 전형적인 팝스타일의 곡이다. 〈마쉬멜로우〉는 아이유에게 각종 음원사이트에서 데뷔 후 처음으로 10위권 내에 드는 성과를 거두게 해주었고, KBS 《뮤직뱅크》에서는 2009년 11월 마지막 주 K차트에서 10위, SBS 《인기가요》에서는 테이크 세븐(Take 7)에 2009년 12월 6일부터 2010년 1월 10일까지 총 5회 선정되며 인기를 끌었다. 두 번째 미니 음반 활동은 2010년 1월 22일에 KBS 《뮤직뱅크》에서의 무대를 마지막으로 후속곡 활동 없이 마무리하였다.\"\n",
            "\n",
            "\n",
            "CONCISE SUMMARY:\u001b[0m\n",
            "\n",
            "\u001b[1m> Finished chain.\u001b[0m\n",
            "\n",
            "\n",
            "\u001b[1m> Entering new LLMChain chain...\u001b[0m\n",
            "Prompt after formatting:\n",
            "\u001b[32;1m\u001b[1;3mWrite a concise summary of the following:\n",
            "\n",
            "\n",
            "\"IU, born Lee Ji-eun, is a well-known singer-songwriter, composer, and actress from South Korea. She debuted at the age of 15 in 2008 with her first EP \"Lost and Found\" under Loen Entertainment (now Kakao Entertainment). IU has gained immense popularity and success in the music industry and has also made a name for herself as an actress.\n",
            "\n",
            "IU graduated from Dongduk Girls' High School and made her debut in 2008 with the single \"Mia\" and mini-album Lost and Found. She gained recognition for her exceptional vocals and musicality, receiving praise from music industry professionals. IU continued to release albums, gaining popularity with songs like \"Boo\" and \"Marshmallow.\" Her performances on music shows and variety programs further solidified her reputation as a talented singer. IU's second mini-album, IU...IM, showcased a more upbeat and fresh concept, with the title track \"Marshmallow\" achieving success on music charts. With her strong vocal abilities and engaging performances, IU established herself as a prominent figure in the Korean music industry.\"\n",
            "\n",
            "\n",
            "CONCISE SUMMARY:\u001b[0m\n",
            "\n",
            "\u001b[1m> Finished chain.\u001b[0m\n",
            "\n",
            "\u001b[1m> Finished chain.\u001b[0m\n"
          ]
        },
        {
          "data": {
            "text/plain": [
              "'IU, also known as Lee Ji-eun, is a talented singer-songwriter, composer, and actress from South Korea. She debuted in 2008 and quickly gained popularity with her exceptional vocals and musicality. IU has released several successful albums and singles, establishing herself as a prominent figure in the Korean music industry. Her performances on music shows and variety programs further solidified her reputation as a talented singer.'"
            ]
          },
          "execution_count": 19,
          "metadata": {},
          "output_type": "execute_result"
        }
      ],
      "source": [
        "from langchain.chains.summarize import load_summarize_chain\n",
        "\n",
        "chain = load_summarize_chain(chat, chain_type=\"map_reduce\", verbose=True)\n",
        "chain.run(docs[1:3])"
      ]
    },
    {
      "cell_type": "code",
      "execution_count": null,
      "id": "36be6f88-571b-4010-bbdb-af25b75a43bf",
      "metadata": {
        "id": "36be6f88-571b-4010-bbdb-af25b75a43bf",
        "outputId": "c46e2bef-9122-4a4d-ed92-356a5c8130b5"
      },
      "outputs": [
        {
          "name": "stderr",
          "output_type": "stream",
          "text": [
            "/usr/local/lib/python3.10/dist-packages/huggingface_hub/file_download.py:1132: FutureWarning: `resume_download` is deprecated and will be removed in version 1.0.0. Downloads always resume when possible. If you want to force a new download, use `force_download=True`.\n",
            "  warnings.warn(\n",
            "/usr/local/lib/python3.10/dist-packages/huggingface_hub/file_download.py:1132: FutureWarning: `resume_download` is deprecated and will be removed in version 1.0.0. Downloads always resume when possible. If you want to force a new download, use `force_download=True`.\n",
            "  warnings.warn(\n"
          ]
        }
      ],
      "source": [
        "from langchain.embeddings import HuggingFaceEmbeddings\n",
        "from langchain.embeddings import OpenAIEmbeddings\n",
        "\n",
        "# embeddings = OpenAIEmbeddings()\n",
        "embeddings = HuggingFaceEmbeddings() # sentence-transformers/all-mpnet-base-v2\n",
        "\n",
        "from langchain.indexes import VectorstoreIndexCreator\n",
        "from langchain.vectorstores import FAISS\n",
        "\n",
        "index = VectorstoreIndexCreator(\n",
        "    vectorstore_cls=FAISS,\n",
        "    embedding=embeddings,\n",
        "    ).from_loaders([loader])\n",
        "\n",
        "# 파일로 저장\n",
        "index.vectorstore.save_local(\"faiss-nj-IU\")\n",
        "# db = FAISS.load_local(\"faiss-nj-IU\", embeddings=embeddings)"
      ]
    },
    {
      "cell_type": "code",
      "execution_count": null,
      "id": "6c656357-f0e7-439b-b6c6-14927f4e7c47",
      "metadata": {
        "id": "6c656357-f0e7-439b-b6c6-14927f4e7c47",
        "outputId": "482ed732-e6e1-4144-e8d6-c80cc001b511"
      },
      "outputs": [
        {
          "name": "stdout",
          "output_type": "stream",
          "text": [
            "\n",
            "\n",
            "\u001b[1m> Entering new RetrievalQA chain...\u001b[0m\n",
            "\n",
            "\u001b[1m> Finished chain.\u001b[0m\n"
          ]
        },
        {
          "data": {
            "text/plain": [
              "\"아이유의 데뷔곡은 '미아'입니다.\""
            ]
          },
          "execution_count": 21,
          "metadata": {},
          "output_type": "execute_result"
        }
      ],
      "source": [
        "index.query(\"아이유의 데뷔곡은?\", llm=chat, verbose=True)"
      ]
    },
    {
      "cell_type": "code",
      "execution_count": null,
      "id": "aebc9b7c-64b9-4cd5-be7d-f2e525e6a91b",
      "metadata": {
        "id": "aebc9b7c-64b9-4cd5-be7d-f2e525e6a91b",
        "outputId": "ed1cab3c-a698-4783-89e0-624055b4f6bd"
      },
      "outputs": [
        {
          "name": "stdout",
          "output_type": "stream",
          "text": [
            "\n",
            "\n",
            "\u001b[1m> Entering new RetrievalQA chain...\u001b[0m\n",
            "\n",
            "\u001b[1m> Finished chain.\u001b[0m\n"
          ]
        },
        {
          "data": {
            "text/plain": [
              "'아이유의 정확한 나이를 알 수는 없습니다.'"
            ]
          },
          "execution_count": 22,
          "metadata": {},
          "output_type": "execute_result"
        }
      ],
      "source": [
        "index.query(\"아이유의 나이는?\", llm=chat, verbose=True)"
      ]
    },
    {
      "cell_type": "code",
      "execution_count": null,
      "id": "1917167b-5b64-4e99-9b8e-17a6047d5787",
      "metadata": {
        "id": "1917167b-5b64-4e99-9b8e-17a6047d5787"
      },
      "outputs": [],
      "source": [
        "index.query(\"아이유의 나이는? (오늘은 2024년 5월 22일)\", llm=chat, verbose=True)"
      ]
    },
    {
      "cell_type": "code",
      "execution_count": null,
      "id": "403356b0-5ef9-45a1-b0d7-743866575946",
      "metadata": {
        "id": "403356b0-5ef9-45a1-b0d7-743866575946"
      },
      "outputs": [],
      "source": [
        "index.query(\"아이유는 지금까지 총 콘서트를 몇회했는가?\", llm=chat, verbose=True)"
      ]
    },
    {
      "cell_type": "code",
      "execution_count": null,
      "id": "df653c43-572d-47ef-8d78-e06be8ce29ab",
      "metadata": {
        "id": "df653c43-572d-47ef-8d78-e06be8ce29ab"
      },
      "outputs": [],
      "source": []
    }
  ],
  "metadata": {
    "kernelspec": {
      "display_name": "Python 3 (ipykernel)",
      "language": "python",
      "name": "python3"
    },
    "language_info": {
      "codemirror_mode": {
        "name": "ipython",
        "version": 3
      },
      "file_extension": ".py",
      "mimetype": "text/x-python",
      "name": "python",
      "nbconvert_exporter": "python",
      "pygments_lexer": "ipython3",
      "version": "3.10.12"
    },
    "colab": {
      "provenance": []
    }
  },
  "nbformat": 4,
  "nbformat_minor": 5
}