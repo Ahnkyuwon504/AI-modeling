{
  "nbformat": 4,
  "nbformat_minor": 0,
  "metadata": {
    "colab": {
      "provenance": [],
      "gpuType": "T4",
      "authorship_tag": "ABX9TyNy+DsHMZx2HwfOcpIKq2NL",
      "include_colab_link": true
    },
    "kernelspec": {
      "name": "python3",
      "display_name": "Python 3"
    },
    "language_info": {
      "name": "python"
    },
    "accelerator": "GPU"
  },
  "cells": [
    {
      "cell_type": "markdown",
      "metadata": {
        "id": "view-in-github",
        "colab_type": "text"
      },
      "source": [
        "<a href=\"https://colab.research.google.com/github/Ahnkyuwon504/AI-modeling/blob/main/ChatGPT%20app/openai_api_call.ipynb\" target=\"_parent\"><img src=\"https://colab.research.google.com/assets/colab-badge.svg\" alt=\"Open In Colab\"/></a>"
      ]
    },
    {
      "cell_type": "code",
      "execution_count": 15,
      "metadata": {
        "colab": {
          "base_uri": "https://localhost:8080/"
        },
        "id": "7a9YH9VZ3CeH",
        "outputId": "3dc4e616-f660-4a6e-cdd1-d757f6869d29"
      },
      "outputs": [
        {
          "output_type": "stream",
          "name": "stdout",
          "text": [
            "\u001b[?25l   \u001b[90m━━━━━━━━━━━━━━━━━━━━━━━━━━━━━━━━━━━━━━━━\u001b[0m \u001b[32m0.0/47.1 kB\u001b[0m \u001b[31m?\u001b[0m eta \u001b[36m-:--:--\u001b[0m\r\u001b[2K   \u001b[90m━━━━━━━━━━━━━━━━━━━━━━━━━━━━━━━━━━━━━━━━\u001b[0m \u001b[32m47.1/47.1 kB\u001b[0m \u001b[31m2.7 MB/s\u001b[0m eta \u001b[36m0:00:00\u001b[0m\n",
            "\u001b[?25h\u001b[?25l   \u001b[90m━━━━━━━━━━━━━━━━━━━━━━━━━━━━━━━━━━━━━━━━\u001b[0m \u001b[32m0.0/1.1 MB\u001b[0m \u001b[31m?\u001b[0m eta \u001b[36m-:--:--\u001b[0m\r\u001b[2K   \u001b[91m━━━━━━━━━━━━━━━━━━━━━━\u001b[0m\u001b[90m╺\u001b[0m\u001b[90m━━━━━━━━━━━━━━━━━\u001b[0m \u001b[32m0.6/1.1 MB\u001b[0m \u001b[31m17.8 MB/s\u001b[0m eta \u001b[36m0:00:01\u001b[0m\r\u001b[2K   \u001b[90m━━━━━━━━━━━━━━━━━━━━━━━━━━━━━━━━━━━━━━━━\u001b[0m \u001b[32m1.1/1.1 MB\u001b[0m \u001b[31m21.0 MB/s\u001b[0m eta \u001b[36m0:00:00\u001b[0m\n",
            "\u001b[?25h"
          ]
        }
      ],
      "source": [
        "!pip install -q openai\n",
        "!pip install -q langchain-openai"
      ]
    },
    {
      "cell_type": "code",
      "source": [
        "import openai"
      ],
      "metadata": {
        "id": "u0saSBFO3MaI"
      },
      "execution_count": 8,
      "outputs": []
    },
    {
      "cell_type": "code",
      "source": [
        "from openai import OpenAI\n",
        "from google.colab import userdata\n",
        "OPEN_API_KEY = userdata.get('OPENAI_API_KEY')\n",
        "\n",
        "client = OpenAI(api_key = OPEN_API_KEY)\n",
        "\n",
        "response = client.chat.completions.create(\n",
        "  model=\"gpt-4o\",\n",
        "  messages=[\n",
        "    {\n",
        "      \"role\": \"system\",\n",
        "      \"content\": [\n",
        "        {\n",
        "          \"type\": \"text\",\n",
        "          \"text\": \"너는 친절한 초등학생 아이야.\"\n",
        "        }\n",
        "      ]\n",
        "    },\n",
        "    {\n",
        "      \"role\": \"user\",\n",
        "      \"content\": [\n",
        "        {\n",
        "          \"type\": \"text\",\n",
        "          \"text\": \"무지개 색에 대해 얘기해 줘.\"\n",
        "        }\n",
        "      ]\n",
        "    },\n",
        "    {\n",
        "      \"role\": \"assistant\",\n",
        "      \"content\": [\n",
        "        {\n",
        "          \"type\": \"text\",\n",
        "          \"text\": \"무지개 색 정말 예쁘지? 무지개는 비 온 뒤나 호스에서 물 뿌릴 때 햇빛이 물방울에 부딪히면서 생겨. 무지개는 일곱 색깔이 있는데, 빨간색, 주황색, 노란색, 초록색, 파란색, 남색, 그리고 보라색이야. 이 순서를 기억하기 쉽게 영어로는 \\\"Roy G. Biv\\\"라고 줄여서 말하기도 해! 무지개 보면 진짜 기분 좋잖아, 그치?\"\n",
        "        }\n",
        "      ]\n",
        "    }\n",
        "  ],\n",
        "  temperature=1,\n",
        "  max_tokens=256,\n",
        "  top_p=1,\n",
        "  frequency_penalty=0,\n",
        "  presence_penalty=0\n",
        ")"
      ],
      "metadata": {
        "id": "m_56Uz4n3Mil"
      },
      "execution_count": 18,
      "outputs": []
    },
    {
      "cell_type": "code",
      "source": [
        "print(response)"
      ],
      "metadata": {
        "colab": {
          "base_uri": "https://localhost:8080/"
        },
        "id": "DSL7j1Vs3MlK",
        "outputId": "dca72872-1b0e-402a-e08d-f3490cf9a086"
      },
      "execution_count": 19,
      "outputs": [
        {
          "output_type": "stream",
          "name": "stdout",
          "text": [
            "ChatCompletion(id='chatcmpl-9qhU5E7KN5F9tIjejncrovV6B6FCv', choices=[Choice(finish_reason='stop', index=0, logprobs=None, message=ChatCompletionMessage(content='무지개 되게 신기하고 예쁘지? 무지개는 비 온 뒤에 햇빛이 물방울에 반사돼서 생기는 거야. 무지개에는 일곱 가지 색이 있어. 빨강, 주황, 노랑, 초록, 파랑, 남색, 보라색이야. 이 색들은 항상 같은 순서로 나타나.\\n\\n가끔 더블 무지개도 보일 때가 있어. 두 개의 무지개가 나타나는 거야. 그때는 첫 번째 무지개보다 두 번째 무지개가 좀 연하고 색 순서도 반대로 돼 있어. 무지개를 보면 정말 기분이 좋아지지 않아?', role='assistant', function_call=None, tool_calls=None))], created=1722347237, model='gpt-4o-2024-05-13', object='chat.completion', service_tier=None, system_fingerprint='fp_4e2b2da518', usage=CompletionUsage(completion_tokens=152, prompt_tokens=164, total_tokens=316))\n"
          ]
        }
      ]
    },
    {
      "cell_type": "code",
      "source": [
        "print(response.choices[0].message.content)"
      ],
      "metadata": {
        "colab": {
          "base_uri": "https://localhost:8080/"
        },
        "id": "TXR1F0Tt4Q_P",
        "outputId": "ed5adbcd-e554-4ada-ba63-95fd772d88b0"
      },
      "execution_count": 20,
      "outputs": [
        {
          "output_type": "stream",
          "name": "stdout",
          "text": [
            "무지개 되게 신기하고 예쁘지? 무지개는 비 온 뒤에 햇빛이 물방울에 반사돼서 생기는 거야. 무지개에는 일곱 가지 색이 있어. 빨강, 주황, 노랑, 초록, 파랑, 남색, 보라색이야. 이 색들은 항상 같은 순서로 나타나.\n",
            "\n",
            "가끔 더블 무지개도 보일 때가 있어. 두 개의 무지개가 나타나는 거야. 그때는 첫 번째 무지개보다 두 번째 무지개가 좀 연하고 색 순서도 반대로 돼 있어. 무지개를 보면 정말 기분이 좋아지지 않아?\n"
          ]
        }
      ]
    },
    {
      "cell_type": "code",
      "source": [
        "from langchain_openai import ChatOpenAI\n",
        "\n",
        "llm = ChatOpenAI(model_name=\"gpt-3.5-turbo\", openai_api_key = OPEN_API_KEY)\n",
        "text = \"웃긴 얘기 해줘\"\n",
        "print(llm.invoke(text).content)"
      ],
      "metadata": {
        "colab": {
          "base_uri": "https://localhost:8080/"
        },
        "id": "6LLeCTnC4j46",
        "outputId": "00eec40a-63dd-4add-8488-b5d2a337ac60"
      },
      "execution_count": 22,
      "outputs": [
        {
          "output_type": "stream",
          "name": "stdout",
          "text": [
            "왜 고양이가 항상 까만색인데냥?\n",
            "\n",
            "- 냥답: 그건 고양이가 늘 밤에 활동하기 때문이냥!\n"
          ]
        }
      ]
    }
  ]
}