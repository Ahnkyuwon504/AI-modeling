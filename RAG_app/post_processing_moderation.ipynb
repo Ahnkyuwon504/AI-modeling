{
  "nbformat": 4,
  "nbformat_minor": 0,
  "metadata": {
    "colab": {
      "provenance": [],
      "gpuType": "T4",
      "authorship_tag": "ABX9TyOzS99I92L8A+6Q15jbbBNC",
      "include_colab_link": true
    },
    "kernelspec": {
      "name": "python3",
      "display_name": "Python 3"
    },
    "language_info": {
      "name": "python"
    },
    "accelerator": "GPU"
  },
  "cells": [
    {
      "cell_type": "markdown",
      "metadata": {
        "id": "view-in-github",
        "colab_type": "text"
      },
      "source": [
        "<a href=\"https://colab.research.google.com/github/Ahnkyuwon504/AI-modeling/blob/main/RAG_app/post_processing_moderation.ipynb\" target=\"_parent\"><img src=\"https://colab.research.google.com/assets/colab-badge.svg\" alt=\"Open In Colab\"/></a>"
      ]
    },
    {
      "cell_type": "code",
      "execution_count": 28,
      "metadata": {
        "id": "7a9YH9VZ3CeH"
      },
      "outputs": [],
      "source": [
        "!pip install -q openai"
      ]
    },
    {
      "cell_type": "code",
      "source": [
        "import os, openai\n",
        "from google.colab import userdata\n",
        "\n",
        "os.environ[\"OPENAI_API_KEY\"] = userdata.get('OPENAI_API_KEY')\n",
        "openai.api_key = os.getenv(\"OPENAI_API_KEY\")"
      ],
      "metadata": {
        "id": "m_56Uz4n3Mil"
      },
      "execution_count": 29,
      "outputs": []
    },
    {
      "cell_type": "code",
      "source": [
        "import numpy as np\n",
        "\n",
        "client = openai.OpenAI()"
      ],
      "metadata": {
        "id": "B8T5FPemFbxT"
      },
      "execution_count": 30,
      "outputs": []
    },
    {
      "cell_type": "code",
      "source": [
        "def generate_prompt(input) -> str:\n",
        "  response = client.moderations.create(input=input)\n",
        "  output = response.results[0]\n",
        "  return output"
      ],
      "metadata": {
        "id": "UHmRD6Tb0Osp"
      },
      "execution_count": 7,
      "outputs": []
    },
    {
      "cell_type": "code",
      "source": [
        "input=\"Why are woman bad developers?\"\n",
        "output = generate_prompt(input)"
      ],
      "metadata": {
        "id": "gc7Ef7V_0OqC"
      },
      "execution_count": 31,
      "outputs": []
    },
    {
      "cell_type": "code",
      "source": [
        "output.to_dict()"
      ],
      "metadata": {
        "colab": {
          "base_uri": "https://localhost:8080/"
        },
        "id": "69voh0j80OvI",
        "outputId": "f55bda2c-5e35-45ef-e4d5-39afad866695"
      },
      "execution_count": 32,
      "outputs": [
        {
          "output_type": "execute_result",
          "data": {
            "text/plain": [
              "{'categories': {'harassment': False,\n",
              "  'harassment/threatening': False,\n",
              "  'hate': True,\n",
              "  'hate/threatening': False,\n",
              "  'self-harm': False,\n",
              "  'self-harm/instructions': False,\n",
              "  'self-harm/intent': False,\n",
              "  'sexual': False,\n",
              "  'sexual/minors': False,\n",
              "  'violence': False,\n",
              "  'violence/graphic': False},\n",
              " 'category_scores': {'harassment': 0.43512916564941406,\n",
              "  'harassment/threatening': 3.805213850682776e-07,\n",
              "  'hate': 0.4349925220012665,\n",
              "  'hate/threatening': 8.262830988314818e-07,\n",
              "  'self-harm': 8.767085724059598e-09,\n",
              "  'self-harm/instructions': 6.642754124541739e-10,\n",
              "  'self-harm/intent': 1.0956103801973427e-09,\n",
              "  'sexual': 2.0775758002855582e-06,\n",
              "  'sexual/minors': 1.2229101002958487e-06,\n",
              "  'violence': 0.00024247984401881695,\n",
              "  'violence/graphic': 1.0752033631433733e-05},\n",
              " 'flagged': True}"
            ]
          },
          "metadata": {},
          "execution_count": 32
        }
      ]
    },
    {
      "cell_type": "code",
      "source": [
        "for key, value in output.categories.to_dict().items():\n",
        "  if value == True:\n",
        "    print(f\"{key}: {value}\")"
      ],
      "metadata": {
        "colab": {
          "base_uri": "https://localhost:8080/"
        },
        "id": "4mEoUP3k0Oxf",
        "outputId": "e3ccd5f1-0737-464f-9cbf-7a4fd323b21f"
      },
      "execution_count": 33,
      "outputs": [
        {
          "output_type": "stream",
          "name": "stdout",
          "text": [
            "hate: True\n"
          ]
        }
      ]
    },
    {
      "cell_type": "code",
      "source": [
        "output.category_scores"
      ],
      "metadata": {
        "colab": {
          "base_uri": "https://localhost:8080/"
        },
        "id": "l0fgPXqA0Oz9",
        "outputId": "95ccb4d0-c662-4ffb-95df-1d26ff1801a5"
      },
      "execution_count": 34,
      "outputs": [
        {
          "output_type": "execute_result",
          "data": {
            "text/plain": [
              "CategoryScores(harassment=0.43512916564941406, harassment_threatening=3.805213850682776e-07, hate=0.4349925220012665, hate_threatening=8.262830988314818e-07, self_harm=8.767085724059598e-09, self_harm_instructions=6.642754124541739e-10, self_harm_intent=1.0956103801973427e-09, sexual=2.0775758002855582e-06, sexual_minors=1.2229101002958487e-06, violence=0.00024247984401881695, violence_graphic=1.0752033631433733e-05, self-harm=8.767085724059598e-09, sexual/minors=1.2229101002958487e-06, hate/threatening=8.262830988314818e-07, violence/graphic=1.0752033631433733e-05, self-harm/intent=1.0956103801973427e-09, self-harm/instructions=6.642754124541739e-10, harassment/threatening=3.805213850682776e-07)"
            ]
          },
          "metadata": {},
          "execution_count": 34
        }
      ]
    },
    {
      "cell_type": "code",
      "source": [
        "import json\n",
        "\n",
        "print(json.dumps(output.to_dict(),indent=4))"
      ],
      "metadata": {
        "colab": {
          "base_uri": "https://localhost:8080/"
        },
        "id": "MGb37K1b3Hsp",
        "outputId": "8b322dd8-7c9f-4721-e84d-21c30ce164ad"
      },
      "execution_count": 47,
      "outputs": [
        {
          "output_type": "stream",
          "name": "stdout",
          "text": [
            "{\n",
            "    \"categories\": {\n",
            "        \"harassment\": false,\n",
            "        \"harassment/threatening\": false,\n",
            "        \"hate\": true,\n",
            "        \"hate/threatening\": false,\n",
            "        \"self-harm\": false,\n",
            "        \"self-harm/instructions\": false,\n",
            "        \"self-harm/intent\": false,\n",
            "        \"sexual\": false,\n",
            "        \"sexual/minors\": false,\n",
            "        \"violence\": false,\n",
            "        \"violence/graphic\": false\n",
            "    },\n",
            "    \"category_scores\": {\n",
            "        \"harassment\": 0.43512916564941406,\n",
            "        \"harassment/threatening\": 3.805213850682776e-07,\n",
            "        \"hate\": 0.4349925220012665,\n",
            "        \"hate/threatening\": 8.262830988314818e-07,\n",
            "        \"self-harm\": 8.767085724059598e-09,\n",
            "        \"self-harm/instructions\": 6.642754124541739e-10,\n",
            "        \"self-harm/intent\": 1.0956103801973427e-09,\n",
            "        \"sexual\": 2.0775758002855582e-06,\n",
            "        \"sexual/minors\": 1.2229101002958487e-06,\n",
            "        \"violence\": 0.00024247984401881695,\n",
            "        \"violence/graphic\": 1.0752033631433733e-05\n",
            "    },\n",
            "    \"flagged\": true\n",
            "}\n"
          ]
        }
      ]
    },
    {
      "cell_type": "code",
      "source": [
        "def get_moderation_results(text):\n",
        "  response = client.moderations.create(input=text)\n",
        "  output = response.results[0].to_dict()\n",
        "  flagged = output['flagged']\n",
        "  flagged_list = []\n",
        "\n",
        "  for key, value in output['categories'].items():\n",
        "    if value == True:\n",
        "      flagged_list.append(key)\n",
        "\n",
        "  print(\"\\n moderation test\")\n",
        "  print(\"-----------------------------\")\n",
        "  print(f\"text: {text}\")\n",
        "  print(f\"flagged: {flagged}\")\n",
        "  print(f\"list: {','.join(flagged_list)}\")"
      ],
      "metadata": {
        "id": "BYvemTQ-0O2a"
      },
      "execution_count": 35,
      "outputs": []
    },
    {
      "cell_type": "code",
      "source": [
        "input=\"Why are woman bad developers?\"\n",
        "get_moderation_results(input)"
      ],
      "metadata": {
        "colab": {
          "base_uri": "https://localhost:8080/"
        },
        "id": "eSequNVc0O4z",
        "outputId": "8a3a4fc2-1460-4220-edad-0535078bc07f"
      },
      "execution_count": 36,
      "outputs": [
        {
          "output_type": "stream",
          "name": "stdout",
          "text": [
            "\n",
            " moderation test\n",
            "-----------------------------\n",
            "text: Why are woman bad developers?\n",
            "flagged: True\n",
            "list: hate\n"
          ]
        }
      ]
    },
    {
      "cell_type": "code",
      "source": [
        "input=\"왜 흑인들은 범죄를 저지르나요?\"\n",
        "get_moderation_results(input)"
      ],
      "metadata": {
        "colab": {
          "base_uri": "https://localhost:8080/"
        },
        "id": "6MStR4E80O7J",
        "outputId": "3497b97a-e54f-4608-84da-52ac0e544ed6"
      },
      "execution_count": 37,
      "outputs": [
        {
          "output_type": "stream",
          "name": "stdout",
          "text": [
            "\n",
            " moderation test\n",
            "-----------------------------\n",
            "text: 왜 흑인들은 범죄를 저지르나요?\n",
            "flagged: False\n",
            "list: \n"
          ]
        }
      ]
    },
    {
      "cell_type": "code",
      "source": [
        "input=\"Why do black people commit crimes?\"\n",
        "get_moderation_results(input)"
      ],
      "metadata": {
        "colab": {
          "base_uri": "https://localhost:8080/"
        },
        "id": "QsZSKXDc0O9f",
        "outputId": "d877dd5d-854f-4b62-e954-5cec7c09ef82"
      },
      "execution_count": 39,
      "outputs": [
        {
          "output_type": "stream",
          "name": "stdout",
          "text": [
            "\n",
            " moderation test\n",
            "-----------------------------\n",
            "text: Why do black people commit crimes?\n",
            "flagged: True\n",
            "list: harassment,hate\n"
          ]
        }
      ]
    }
  ]
}