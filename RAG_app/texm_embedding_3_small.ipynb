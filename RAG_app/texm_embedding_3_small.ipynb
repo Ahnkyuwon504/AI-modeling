{
  "nbformat": 4,
  "nbformat_minor": 0,
  "metadata": {
    "colab": {
      "provenance": [],
      "gpuType": "T4",
      "authorship_tag": "ABX9TyMyOqwYvHS0O2SC5PlhhUqJ",
      "include_colab_link": true
    },
    "kernelspec": {
      "name": "python3",
      "display_name": "Python 3"
    },
    "language_info": {
      "name": "python"
    },
    "accelerator": "GPU"
  },
  "cells": [
    {
      "cell_type": "markdown",
      "metadata": {
        "id": "view-in-github",
        "colab_type": "text"
      },
      "source": [
        "<a href=\"https://colab.research.google.com/github/Ahnkyuwon504/AI-modeling/blob/main/RAG_app/texm_embedding_3_small.ipynb\" target=\"_parent\"><img src=\"https://colab.research.google.com/assets/colab-badge.svg\" alt=\"Open In Colab\"/></a>"
      ]
    },
    {
      "cell_type": "code",
      "execution_count": 1,
      "metadata": {
        "id": "7a9YH9VZ3CeH",
        "colab": {
          "base_uri": "https://localhost:8080/"
        },
        "outputId": "2ac09e08-4d27-4ea9-90bc-ce29b8499b09"
      },
      "outputs": [
        {
          "output_type": "stream",
          "name": "stdout",
          "text": [
            "\u001b[?25l   \u001b[90m━━━━━━━━━━━━━━━━━━━━━━━━━━━━━━━━━━━━━━━━\u001b[0m \u001b[32m0.0/335.9 kB\u001b[0m \u001b[31m?\u001b[0m eta \u001b[36m-:--:--\u001b[0m\r\u001b[2K   \u001b[90m━━━━━━━━━━━━━━━━━━━━━━━━━━━━━━━━━━━━━━━━\u001b[0m \u001b[32m335.9/335.9 kB\u001b[0m \u001b[31m15.1 MB/s\u001b[0m eta \u001b[36m0:00:00\u001b[0m\n",
            "\u001b[?25h\u001b[?25l   \u001b[90m━━━━━━━━━━━━━━━━━━━━━━━━━━━━━━━━━━━━━━━━\u001b[0m \u001b[32m0.0/75.6 kB\u001b[0m \u001b[31m?\u001b[0m eta \u001b[36m-:--:--\u001b[0m\r\u001b[2K   \u001b[90m━━━━━━━━━━━━━━━━━━━━━━━━━━━━━━━━━━━━━━━━\u001b[0m \u001b[32m75.6/75.6 kB\u001b[0m \u001b[31m5.2 MB/s\u001b[0m eta \u001b[36m0:00:00\u001b[0m\n",
            "\u001b[2K   \u001b[90m━━━━━━━━━━━━━━━━━━━━━━━━━━━━━━━━━━━━━━━━\u001b[0m \u001b[32m77.9/77.9 kB\u001b[0m \u001b[31m5.9 MB/s\u001b[0m eta \u001b[36m0:00:00\u001b[0m\n",
            "\u001b[2K   \u001b[90m━━━━━━━━━━━━━━━━━━━━━━━━━━━━━━━━━━━━━━━━\u001b[0m \u001b[32m58.3/58.3 kB\u001b[0m \u001b[31m2.8 MB/s\u001b[0m eta \u001b[36m0:00:00\u001b[0m\n",
            "\u001b[?25h"
          ]
        }
      ],
      "source": [
        "!pip install -q openai"
      ]
    },
    {
      "cell_type": "code",
      "source": [
        "import os, openai\n",
        "from google.colab import userdata\n",
        "\n",
        "os.environ[\"OPENAI_API_KEY\"] = userdata.get('OPENAI_API_KEY')\n",
        "openai.api_key = os.getenv(\"OPENAI_API_KEY\")"
      ],
      "metadata": {
        "id": "m_56Uz4n3Mil"
      },
      "execution_count": 8,
      "outputs": []
    },
    {
      "cell_type": "code",
      "source": [
        "import numpy as np\n",
        "\n",
        "client = openai.OpenAI()\n",
        "embedding_model = \"text-embedding-3-small\"\n",
        "\n",
        "def get_embedding(text, model=embedding_model):\n",
        "    return np.array(client.embeddings.create(\n",
        "    input=text,\n",
        "    model=embedding_model,\n",
        "    encoding_format=\"float\"\n",
        "    ).data[0].embedding)"
      ],
      "metadata": {
        "id": "B8T5FPemFbxT"
      },
      "execution_count": 31,
      "outputs": []
    },
    {
      "cell_type": "code",
      "source": [
        "kids_embedding = get_embedding(\"kids\")\n",
        "kids_korean_embedding = get_embedding(\"아이들\")"
      ],
      "metadata": {
        "id": "jGHWlVfBrk2W"
      },
      "execution_count": 41,
      "outputs": []
    },
    {
      "cell_type": "code",
      "source": [
        "print(kids_embedding)"
      ],
      "metadata": {
        "colab": {
          "base_uri": "https://localhost:8080/"
        },
        "id": "4Cu1cI34rk44",
        "outputId": "e69387d9-a794-4e4f-9a7a-06ef184e5d58"
      },
      "execution_count": 33,
      "outputs": [
        {
          "output_type": "stream",
          "name": "stdout",
          "text": [
            "[ 0.05143365 -0.00103588 -0.03446837 ... -0.02278334  0.01899427\n",
            "  0.00950325]\n"
          ]
        }
      ]
    },
    {
      "cell_type": "code",
      "source": [
        "type(kids_embedding)"
      ],
      "metadata": {
        "colab": {
          "base_uri": "https://localhost:8080/"
        },
        "id": "vBM1Rptork7Y",
        "outputId": "c4d978d6-bd42-4abe-8409-9aa7969d618f"
      },
      "execution_count": 34,
      "outputs": [
        {
          "output_type": "execute_result",
          "data": {
            "text/plain": [
              "numpy.ndarray"
            ]
          },
          "metadata": {},
          "execution_count": 34
        }
      ]
    },
    {
      "cell_type": "code",
      "source": [
        "len(kids_embedding)"
      ],
      "metadata": {
        "colab": {
          "base_uri": "https://localhost:8080/"
        },
        "id": "qagDeFuhrk9S",
        "outputId": "df49d45b-c438-4fc3-8ce6-71f40c3438ac"
      },
      "execution_count": 35,
      "outputs": [
        {
          "output_type": "execute_result",
          "data": {
            "text/plain": [
              "1536"
            ]
          },
          "metadata": {},
          "execution_count": 35
        }
      ]
    },
    {
      "cell_type": "code",
      "source": [
        "def cosine_similarity(vec_a, vec_b):\n",
        "    return np.dot(vec_a, vec_b) / (np.linalg.norm(vec_a) * np.linalg.norm(vec_b))"
      ],
      "metadata": {
        "id": "nlX_Ovp7rk_m"
      },
      "execution_count": 36,
      "outputs": []
    },
    {
      "cell_type": "code",
      "source": [
        "print(\"Cosine Similarity: \", cosine_similarity(kids_embedding, kids_korean_embedding))"
      ],
      "metadata": {
        "colab": {
          "base_uri": "https://localhost:8080/"
        },
        "id": "Ldz6ZrXVtzbI",
        "outputId": "b800d449-78b0-400f-eb4e-319cce370f39"
      },
      "execution_count": 42,
      "outputs": [
        {
          "output_type": "stream",
          "name": "stdout",
          "text": [
            "Cosine Similarity:  0.5341812357208905\n"
          ]
        }
      ]
    },
    {
      "cell_type": "code",
      "source": [
        "def get_similarity(word1, word2):\n",
        "  return cosine_similarity(get_embedding(word1), get_embedding(word2))"
      ],
      "metadata": {
        "id": "5Ip4G1NsuJ6c"
      },
      "execution_count": 27,
      "outputs": []
    },
    {
      "cell_type": "code",
      "source": [
        "print(\"Cosine Similarity: \", get_similarity(\"kids\", \"children\"))\n",
        "print(\"Cosine Similarity: \", get_similarity(\"kids\", \"어린아이들\"))\n",
        "print(\"Cosine Similarity: \", get_similarity(\"kids\", \"kills\"))"
      ],
      "metadata": {
        "colab": {
          "base_uri": "https://localhost:8080/"
        },
        "id": "WBocUunyuJ8w",
        "outputId": "81d61493-016f-476a-c97e-8f83782a2ff4"
      },
      "execution_count": 38,
      "outputs": [
        {
          "output_type": "stream",
          "name": "stdout",
          "text": [
            "Cosine Similarity:  0.8578053375994497\n",
            "Cosine Similarity:  0.4703020295068956\n",
            "Cosine Similarity:  0.3924179981180078\n"
          ]
        }
      ]
    },
    {
      "cell_type": "code",
      "source": [
        "target = \"docker를 통해 애플리케이션 배포를 관리할 수 있다.\"\n",
        "\n",
        "print(\"Cosine Similarity: \", get_similarity(\n",
        "    target,\n",
        "    \"애플리케이션 배포를 컨테이너로 패키징해 관리할 수 있는 기술 중 하나로 docker가 있다.\"))\n",
        "print(\"Cosine Similarity: \", get_similarity(\n",
        "    target,\n",
        "    \"Java는 프로그래밍 언어 중의 하나로, 운영체제에 의존하지 않는 높은 이식성으로 널리 사용되고 있다.\"))"
      ],
      "metadata": {
        "colab": {
          "base_uri": "https://localhost:8080/"
        },
        "id": "N_SEDCbKuJ-4",
        "outputId": "d01edfcb-65d1-481b-d465-2bd29e4ae9f1"
      },
      "execution_count": 39,
      "outputs": [
        {
          "output_type": "stream",
          "name": "stdout",
          "text": [
            "Cosine Similarity:  0.6843452462017794\n",
            "Cosine Similarity:  0.26460297254786996\n"
          ]
        }
      ]
    }
  ]
}