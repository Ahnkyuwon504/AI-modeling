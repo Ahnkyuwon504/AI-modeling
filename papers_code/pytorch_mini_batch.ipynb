{
  "nbformat": 4,
  "nbformat_minor": 0,
  "metadata": {
    "colab": {
      "provenance": [],
      "authorship_tag": "ABX9TyPya7Eb7Cjzhox1J+BFHHBV",
      "include_colab_link": true
    },
    "kernelspec": {
      "name": "python3",
      "display_name": "Python 3"
    },
    "language_info": {
      "name": "python"
    }
  },
  "cells": [
    {
      "cell_type": "markdown",
      "metadata": {
        "id": "view-in-github",
        "colab_type": "text"
      },
      "source": [
        "<a href=\"https://colab.research.google.com/github/Ahnkyuwon504/AI-modeling/blob/main/papers_code/pytorch_mini_batch.ipynb\" target=\"_parent\"><img src=\"https://colab.research.google.com/assets/colab-badge.svg\" alt=\"Open In Colab\"/></a>"
      ]
    },
    {
      "cell_type": "markdown",
      "source": [
        "# 1. 환경 설정"
      ],
      "metadata": {
        "id": "4ZrRiL5TJzIs"
      }
    },
    {
      "cell_type": "code",
      "execution_count": 1,
      "metadata": {
        "id": "tAT-gOcbJc0u"
      },
      "outputs": [],
      "source": [
        "import torch\n",
        "import torch.nn as nn\n",
        "import torch.optim as optim\n",
        "from torch.utils.data import DataLoader, TensorDataset"
      ]
    },
    {
      "cell_type": "markdown",
      "source": [
        "# 2. 데이터셋"
      ],
      "metadata": {
        "id": "AFU6DcT-J_dl"
      }
    },
    {
      "cell_type": "markdown",
      "source": [
        "20개의 특성을 가진 1000개의 샘플\n",
        "(0 또는 1)의 타겟 레이블 1000개"
      ],
      "metadata": {
        "id": "mPzXDvURKYHh"
      }
    },
    {
      "cell_type": "code",
      "source": [
        "X = torch.randn(1000, 20)\n",
        "y = torch.randint(0, 2, (1000,))"
      ],
      "metadata": {
        "id": "hmuEz9muKP0G"
      },
      "execution_count": 3,
      "outputs": []
    },
    {
      "cell_type": "code",
      "source": [
        "X.shape, y.shape"
      ],
      "metadata": {
        "colab": {
          "base_uri": "https://localhost:8080/"
        },
        "id": "3nOFuCBpKpn_",
        "outputId": "cb0cd5bc-b0a1-4a30-ae1e-53e89aecc202"
      },
      "execution_count": 6,
      "outputs": [
        {
          "output_type": "execute_result",
          "data": {
            "text/plain": [
              "(torch.Size([1000, 20]), torch.Size([1000]))"
            ]
          },
          "metadata": {},
          "execution_count": 6
        }
      ]
    },
    {
      "cell_type": "code",
      "source": [
        "X[:5,]"
      ],
      "metadata": {
        "colab": {
          "base_uri": "https://localhost:8080/"
        },
        "id": "U3bW0LitKkqY",
        "outputId": "23ea6ad9-1752-44be-e945-2e01db7d77b0"
      },
      "execution_count": 10,
      "outputs": [
        {
          "output_type": "execute_result",
          "data": {
            "text/plain": [
              "tensor([[-0.8952,  0.7280,  0.7509,  0.3751,  0.1737, -0.8198, -1.1372, -0.9024,\n",
              "          1.0046, -1.5414, -0.8053, -0.7773, -0.2960, -0.3632,  0.4075,  2.2956,\n",
              "         -1.3202, -1.1219,  1.2073, -0.2395],\n",
              "        [ 0.0537, -1.2870, -0.2175,  0.5755,  0.9840,  0.2065, -0.8770, -0.3396,\n",
              "          0.6018,  1.0305, -0.0936, -0.7974,  0.1926, -0.2700,  1.7378,  0.9465,\n",
              "          0.5401, -0.2955,  0.5354, -0.6778],\n",
              "        [ 0.4783, -1.0000,  0.3125,  0.6684,  0.3603, -1.0462, -0.7926,  1.5975,\n",
              "         -1.2950, -1.7665, -0.1164, -0.7638, -0.3721,  1.0542, -0.4190,  1.4733,\n",
              "          1.2470,  0.0491,  0.0916,  1.2210],\n",
              "        [-0.2747, -0.7430,  0.1878,  1.2944, -0.2551,  0.1755,  1.3560,  0.8058,\n",
              "         -1.6241, -1.7342, -0.3263, -0.3739, -0.1471,  0.0031, -0.6168,  0.4945,\n",
              "          0.9699, -0.6874,  1.9112,  0.6312],\n",
              "        [ 1.5076, -0.1145,  0.5482,  1.6730,  0.7493,  1.8038,  0.5479, -0.1100,\n",
              "         -0.4602, -0.2190,  0.3903,  0.6842,  0.1465,  1.1654, -0.7052, -1.1807,\n",
              "         -0.3402, -0.0292, -1.7063,  0.8330]])"
            ]
          },
          "metadata": {},
          "execution_count": 10
        }
      ]
    },
    {
      "cell_type": "code",
      "source": [
        "y[:10]"
      ],
      "metadata": {
        "colab": {
          "base_uri": "https://localhost:8080/"
        },
        "collapsed": true,
        "id": "u2AZp-3IKi7x",
        "outputId": "0b24d6ab-3653-47de-e650-b05d0239b404"
      },
      "execution_count": 8,
      "outputs": [
        {
          "output_type": "execute_result",
          "data": {
            "text/plain": [
              "tensor([0, 1, 1, 0, 1, 0, 1, 1, 1, 1])"
            ]
          },
          "metadata": {},
          "execution_count": 8
        }
      ]
    },
    {
      "cell_type": "markdown",
      "source": [
        "데이터셋과 데이터로더 생성"
      ],
      "metadata": {
        "id": "qElHctsKK1rN"
      }
    },
    {
      "cell_type": "code",
      "source": [
        "dataset = TensorDataset(X, y)\n",
        "dataloader = DataLoader(dataset, batch_size=32, shuffle=True)"
      ],
      "metadata": {
        "id": "3NBDzupvK0pz"
      },
      "execution_count": null,
      "outputs": []
    },
    {
      "cell_type": "markdown",
      "source": [
        "# 3. 모델링"
      ],
      "metadata": {
        "id": "X53faGBcK81h"
      }
    },
    {
      "cell_type": "markdown",
      "source": [
        "+ `첫번째 레이어`는 20차원 -> 50차원 선형변환\n",
        "y=Wx+b에서, W는 (50,20) matrix 즉 50개의 뉴런\n",
        "\n",
        "\n",
        "+ `두번째 레이어`는 ReLU활성화함수(음수를 0으로)로 비선형성을 추가\n",
        "\n",
        "+ `세번째 레이어`는 50차원 -> 1차원\n",
        "\n",
        "+ `네번째 레이어`는 Sigmoid활성화함수로, 이진분류모델에서 확률값을 출력"
      ],
      "metadata": {
        "id": "thOfE-0NLrsI"
      }
    },
    {
      "cell_type": "code",
      "source": [
        "model = nn.Sequential(\n",
        "    nn.Linear(20, 50),\n",
        "    nn.ReLU(),\n",
        "    nn.Linear(50, 1),\n",
        "    nn.Sigmoid()\n",
        ")"
      ],
      "metadata": {
        "id": "LktMchH6K-XS"
      },
      "execution_count": 12,
      "outputs": []
    },
    {
      "cell_type": "markdown",
      "source": [
        "손실함수와 옵티마이저 설정"
      ],
      "metadata": {
        "id": "Pjzto3lCMfSD"
      }
    },
    {
      "cell_type": "code",
      "source": [
        "criterion = nn.BCELoss()\n",
        "optimizer = optim.Adam(model.parameters(), lr=0.001)"
      ],
      "metadata": {
        "id": "e7aRkm3wMdCL"
      },
      "execution_count": 14,
      "outputs": []
    },
    {
      "cell_type": "markdown",
      "source": [
        "# 4. 학습"
      ],
      "metadata": {
        "id": "XlDD2A_KMllE"
      }
    },
    {
      "cell_type": "markdown",
      "source": [
        "+ 전체 데이터셋 10번 반복학습(epoch=10)\n",
        "\n",
        "+ loop에서 옵티마이저의 gradient 초기화. 이전 배치에서 계산된 기울기가 다음 배치에 영향을 미치지 않도록\n",
        "\n",
        "+ loss 계산시 squeeze는 출력의 차원 축소하며, float는 실제값을 부동 소수점 텐서로 변환\n",
        "\n",
        "+ backward()를 통해 역전파를 수행해 손실에 대한 기울기 계산\n",
        "\n",
        "+ step()을 통해 계산된 기울기를 사용해 파라미터 업데이트"
      ],
      "metadata": {
        "id": "citC-7Ab8l1a"
      }
    },
    {
      "cell_type": "code",
      "source": [
        "num_epochs = 10\n",
        "\n",
        "for epoch in range(num_epochs):\n",
        "    optimizer.zero_grad()\n",
        "    outputs = model(X)\n",
        "    loss = criterion(outputs.squeeze(), y.float())\n",
        "    loss.backward()\n",
        "    optimizer.step()\n",
        "    print(f'Epoch [{epoch+1}/{num_epochs}], Loss: {loss.item():.4f}')"
      ],
      "metadata": {
        "colab": {
          "base_uri": "https://localhost:8080/"
        },
        "id": "1ax-ydH4Mm6h",
        "outputId": "6ecb03c1-e264-4dfa-8c25-3a067a3d44ab"
      },
      "execution_count": 15,
      "outputs": [
        {
          "output_type": "stream",
          "name": "stdout",
          "text": [
            "Epoch [1/10], Loss: 0.7062\n",
            "Epoch [2/10], Loss: 0.7046\n",
            "Epoch [3/10], Loss: 0.7031\n",
            "Epoch [4/10], Loss: 0.7016\n",
            "Epoch [5/10], Loss: 0.7002\n",
            "Epoch [6/10], Loss: 0.6989\n",
            "Epoch [7/10], Loss: 0.6977\n",
            "Epoch [8/10], Loss: 0.6966\n",
            "Epoch [9/10], Loss: 0.6955\n",
            "Epoch [10/10], Loss: 0.6945\n"
          ]
        }
      ]
    }
  ]
}